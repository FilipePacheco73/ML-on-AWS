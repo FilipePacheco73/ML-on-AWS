{
 "cells": [
  {
   "cell_type": "markdown",
   "metadata": {},
   "source": [
    "# PROJECT SOLUTION"
   ]
  },
  {
   "cell_type": "markdown",
   "metadata": {
    "colab_type": "text",
    "id": "zKmFmyaGunc7"
   },
   "source": [
    "# TASK #1: IMPORT KEY LIBRARIES/DATASETS, PERFORM EDA AND PREPARE THE DATA FOR TRAINING"
   ]
  },
  {
   "cell_type": "code",
   "execution_count": 1,
   "metadata": {},
   "outputs": [
    {
     "name": "stdout",
     "output_type": "stream",
     "text": [
      "1.21.6\n"
     ]
    }
   ],
   "source": [
    "# Import Numpy and check the version\n",
    "import numpy as np\n",
    "print(np.__version__)"
   ]
  },
  {
   "cell_type": "code",
   "execution_count": 2,
   "metadata": {},
   "outputs": [
    {
     "name": "stdout",
     "output_type": "stream",
     "text": [
      "1.3.5\n"
     ]
    }
   ],
   "source": [
    "# Import Numpy and check the version\n",
    "import pandas as pd\n",
    "print(pd.__version__)"
   ]
  },
  {
   "cell_type": "code",
   "execution_count": 3,
   "metadata": {},
   "outputs": [
    {
     "name": "stdout",
     "output_type": "stream",
     "text": [
      "Requirement already satisfied: numpy in /opt/conda/lib/python3.7/site-packages (1.21.6)\n",
      "\u001b[33mDEPRECATION: pyodbc 4.0.0-unsupported has a non-standard version number. pip 23.3 will enforce this behaviour change. A possible replacement is to upgrade to a newer version of pyodbc or contact the author to suggest that they release a version with a conforming version number. Discussion can be found at https://github.com/pypa/pip/issues/12063\u001b[0m\u001b[33m\n",
      "\u001b[0m\u001b[33mWARNING: Running pip as the 'root' user can result in broken permissions and conflicting behaviour with the system package manager. It is recommended to use a virtual environment instead: https://pip.pypa.io/warnings/venv\u001b[0m\u001b[33m\n",
      "\u001b[0m"
     ]
    }
   ],
   "source": [
    "# Updgrade Numpy version\n",
    "!pip3 install numpy --upgrade"
   ]
  },
  {
   "cell_type": "code",
   "execution_count": 4,
   "metadata": {},
   "outputs": [
    {
     "name": "stdout",
     "output_type": "stream",
     "text": [
      "Requirement already satisfied: pandas in /opt/conda/lib/python3.7/site-packages (1.3.5)\n",
      "Requirement already satisfied: python-dateutil>=2.7.3 in /opt/conda/lib/python3.7/site-packages (from pandas) (2.8.2)\n",
      "Requirement already satisfied: pytz>=2017.3 in /opt/conda/lib/python3.7/site-packages (from pandas) (2019.3)\n",
      "Requirement already satisfied: numpy>=1.17.3 in /opt/conda/lib/python3.7/site-packages (from pandas) (1.21.6)\n",
      "Requirement already satisfied: six>=1.5 in /opt/conda/lib/python3.7/site-packages (from python-dateutil>=2.7.3->pandas) (1.14.0)\n",
      "\u001b[33mDEPRECATION: pyodbc 4.0.0-unsupported has a non-standard version number. pip 23.3 will enforce this behaviour change. A possible replacement is to upgrade to a newer version of pyodbc or contact the author to suggest that they release a version with a conforming version number. Discussion can be found at https://github.com/pypa/pip/issues/12063\u001b[0m\u001b[33m\n",
      "\u001b[0m\u001b[33mWARNING: Running pip as the 'root' user can result in broken permissions and conflicting behaviour with the system package manager. It is recommended to use a virtual environment instead: https://pip.pypa.io/warnings/venv\u001b[0m\u001b[33m\n",
      "\u001b[0m"
     ]
    }
   ],
   "source": [
    "# Updgrade Pandas version\n",
    "!pip3 install pandas --upgrade"
   ]
  },
  {
   "cell_type": "code",
   "execution_count": 5,
   "metadata": {
    "colab": {
     "base_uri": "https://localhost:8080/",
     "height": 71
    },
    "colab_type": "code",
    "id": "S0Cx3743urFY",
    "outputId": "b820039b-7ccb-4a68-8206-77bae97680dc",
    "scrolled": true
   },
   "outputs": [],
   "source": [
    "import seaborn as sns\n",
    "import matplotlib.pyplot as plt\n",
    "import plotly.express as px # Interactive Data Visualization"
   ]
  },
  {
   "cell_type": "code",
   "execution_count": 6,
   "metadata": {},
   "outputs": [],
   "source": [
    "# Read the CSV file \n",
    "stock_df = pd.read_csv(\"S&P500_Stock_Data.csv\")"
   ]
  },
  {
   "cell_type": "code",
   "execution_count": 7,
   "metadata": {},
   "outputs": [
    {
     "data": {
      "text/html": [
       "<div>\n",
       "<style scoped>\n",
       "    .dataframe tbody tr th:only-of-type {\n",
       "        vertical-align: middle;\n",
       "    }\n",
       "\n",
       "    .dataframe tbody tr th {\n",
       "        vertical-align: top;\n",
       "    }\n",
       "\n",
       "    .dataframe thead th {\n",
       "        text-align: right;\n",
       "    }\n",
       "</style>\n",
       "<table border=\"1\" class=\"dataframe\">\n",
       "  <thead>\n",
       "    <tr style=\"text-align: right;\">\n",
       "      <th></th>\n",
       "      <th>Interest Rates</th>\n",
       "      <th>Employment</th>\n",
       "      <th>S&amp;P 500 Price</th>\n",
       "    </tr>\n",
       "  </thead>\n",
       "  <tbody>\n",
       "    <tr>\n",
       "      <th>0</th>\n",
       "      <td>1.943859</td>\n",
       "      <td>55.413571</td>\n",
       "      <td>2206.680582</td>\n",
       "    </tr>\n",
       "    <tr>\n",
       "      <th>1</th>\n",
       "      <td>2.258229</td>\n",
       "      <td>59.546305</td>\n",
       "      <td>2486.474488</td>\n",
       "    </tr>\n",
       "    <tr>\n",
       "      <th>2</th>\n",
       "      <td>2.215863</td>\n",
       "      <td>57.414687</td>\n",
       "      <td>2405.868337</td>\n",
       "    </tr>\n",
       "    <tr>\n",
       "      <th>3</th>\n",
       "      <td>1.977960</td>\n",
       "      <td>49.908353</td>\n",
       "      <td>2140.434475</td>\n",
       "    </tr>\n",
       "    <tr>\n",
       "      <th>4</th>\n",
       "      <td>2.437723</td>\n",
       "      <td>52.035492</td>\n",
       "      <td>2411.275663</td>\n",
       "    </tr>\n",
       "    <tr>\n",
       "      <th>5</th>\n",
       "      <td>2.143637</td>\n",
       "      <td>56.060598</td>\n",
       "      <td>2187.344909</td>\n",
       "    </tr>\n",
       "  </tbody>\n",
       "</table>\n",
       "</div>"
      ],
      "text/plain": [
       "   Interest Rates  Employment  S&P 500 Price\n",
       "0        1.943859   55.413571    2206.680582\n",
       "1        2.258229   59.546305    2486.474488\n",
       "2        2.215863   57.414687    2405.868337\n",
       "3        1.977960   49.908353    2140.434475\n",
       "4        2.437723   52.035492    2411.275663\n",
       "5        2.143637   56.060598    2187.344909"
      ]
     },
     "execution_count": 7,
     "metadata": {},
     "output_type": "execute_result"
    }
   ],
   "source": [
    "# Load the top 6 instances\n",
    "stock_df.head(6)"
   ]
  },
  {
   "cell_type": "code",
   "execution_count": 8,
   "metadata": {},
   "outputs": [
    {
     "data": {
      "text/html": [
       "<div>\n",
       "<style scoped>\n",
       "    .dataframe tbody tr th:only-of-type {\n",
       "        vertical-align: middle;\n",
       "    }\n",
       "\n",
       "    .dataframe tbody tr th {\n",
       "        vertical-align: top;\n",
       "    }\n",
       "\n",
       "    .dataframe thead th {\n",
       "        text-align: right;\n",
       "    }\n",
       "</style>\n",
       "<table border=\"1\" class=\"dataframe\">\n",
       "  <thead>\n",
       "    <tr style=\"text-align: right;\">\n",
       "      <th></th>\n",
       "      <th>Interest Rates</th>\n",
       "      <th>Employment</th>\n",
       "      <th>S&amp;P 500 Price</th>\n",
       "    </tr>\n",
       "  </thead>\n",
       "  <tbody>\n",
       "    <tr>\n",
       "      <th>994</th>\n",
       "      <td>1.868835</td>\n",
       "      <td>60.543377</td>\n",
       "      <td>2065.424594</td>\n",
       "    </tr>\n",
       "    <tr>\n",
       "      <th>995</th>\n",
       "      <td>2.528420</td>\n",
       "      <td>52.390828</td>\n",
       "      <td>2578.699184</td>\n",
       "    </tr>\n",
       "    <tr>\n",
       "      <th>996</th>\n",
       "      <td>2.643571</td>\n",
       "      <td>54.626204</td>\n",
       "      <td>2573.865933</td>\n",
       "    </tr>\n",
       "    <tr>\n",
       "      <th>997</th>\n",
       "      <td>2.009644</td>\n",
       "      <td>57.004357</td>\n",
       "      <td>2004.911218</td>\n",
       "    </tr>\n",
       "    <tr>\n",
       "      <th>998</th>\n",
       "      <td>2.201656</td>\n",
       "      <td>62.447790</td>\n",
       "      <td>2344.098981</td>\n",
       "    </tr>\n",
       "    <tr>\n",
       "      <th>999</th>\n",
       "      <td>2.180638</td>\n",
       "      <td>46.297034</td>\n",
       "      <td>2156.133786</td>\n",
       "    </tr>\n",
       "  </tbody>\n",
       "</table>\n",
       "</div>"
      ],
      "text/plain": [
       "     Interest Rates  Employment  S&P 500 Price\n",
       "994        1.868835   60.543377    2065.424594\n",
       "995        2.528420   52.390828    2578.699184\n",
       "996        2.643571   54.626204    2573.865933\n",
       "997        2.009644   57.004357    2004.911218\n",
       "998        2.201656   62.447790    2344.098981\n",
       "999        2.180638   46.297034    2156.133786"
      ]
     },
     "execution_count": 8,
     "metadata": {},
     "output_type": "execute_result"
    }
   ],
   "source": [
    "# Load the bottom 6 instances \n",
    "stock_df.tail(6)"
   ]
  },
  {
   "cell_type": "code",
   "execution_count": 9,
   "metadata": {},
   "outputs": [
    {
     "data": {
      "text/plain": [
       "Index(['Interest Rates', 'Employment', 'S&P 500 Price'], dtype='object')"
      ]
     },
     "execution_count": 9,
     "metadata": {},
     "output_type": "execute_result"
    }
   ],
   "source": [
    "# Display the feature columns\n",
    "stock_df.columns"
   ]
  },
  {
   "cell_type": "code",
   "execution_count": 10,
   "metadata": {},
   "outputs": [
    {
     "data": {
      "text/plain": [
       "(1000, 3)"
      ]
     },
     "execution_count": 10,
     "metadata": {},
     "output_type": "execute_result"
    }
   ],
   "source": [
    "# Check the shape of the dataframe\n",
    "stock_df.shape"
   ]
  },
  {
   "cell_type": "code",
   "execution_count": 11,
   "metadata": {},
   "outputs": [
    {
     "data": {
      "text/plain": [
       "Interest Rates    0\n",
       "Employment        0\n",
       "S&P 500 Price     0\n",
       "dtype: int64"
      ]
     },
     "execution_count": 11,
     "metadata": {},
     "output_type": "execute_result"
    }
   ],
   "source": [
    "# Check if any missing values are present in the dataframe\n",
    "stock_df.isnull().sum()"
   ]
  },
  {
   "cell_type": "code",
   "execution_count": 12,
   "metadata": {},
   "outputs": [],
   "source": [
    "stock_df = stock_df.dropna()"
   ]
  },
  {
   "cell_type": "code",
   "execution_count": 13,
   "metadata": {},
   "outputs": [
    {
     "data": {
      "text/plain": [
       "Interest Rates    float64\n",
       "Employment        float64\n",
       "S&P 500 Price     float64\n",
       "dtype: object"
      ]
     },
     "execution_count": 13,
     "metadata": {},
     "output_type": "execute_result"
    }
   ],
   "source": [
    "stock_df.dtypes"
   ]
  },
  {
   "cell_type": "code",
   "execution_count": 14,
   "metadata": {},
   "outputs": [
    {
     "data": {
      "text/plain": [
       "[]"
      ]
     },
     "execution_count": 14,
     "metadata": {},
     "output_type": "execute_result"
    }
   ],
   "source": [
    "# check if there are any Null values\n",
    "sns.heatmap(stock_df.isnull(), yticklabels = False, cbar = False, cmap=\"Blues\")\n",
    "plt.plot()"
   ]
  },
  {
   "cell_type": "code",
   "execution_count": 15,
   "metadata": {},
   "outputs": [
    {
     "data": {
      "text/plain": [
       "[]"
      ]
     },
     "execution_count": 15,
     "metadata": {},
     "output_type": "execute_result"
    }
   ],
   "source": [
    "sns.jointplot(x = 'Employment', y = 'S&P 500 Price', data=stock_df)\n",
    "plt.plot()"
   ]
  },
  {
   "cell_type": "code",
   "execution_count": 16,
   "metadata": {},
   "outputs": [
    {
     "data": {
      "text/plain": [
       "[]"
      ]
     },
     "execution_count": 16,
     "metadata": {},
     "output_type": "execute_result"
    }
   ],
   "source": [
    "sns.jointplot(x = 'Interest Rates',y = 'S&P 500 Price', data = stock_df);\n",
    "plt.plot()"
   ]
  },
  {
   "cell_type": "code",
   "execution_count": 17,
   "metadata": {},
   "outputs": [
    {
     "data": {
      "text/plain": [
       "[]"
      ]
     },
     "execution_count": 17,
     "metadata": {},
     "output_type": "execute_result"
    }
   ],
   "source": [
    "sns.pairplot(stock_df);\n",
    "plt.plot()"
   ]
  },
  {
   "cell_type": "code",
   "execution_count": 18,
   "metadata": {},
   "outputs": [],
   "source": [
    "y = stock_df['S&P 500 Price']"
   ]
  },
  {
   "cell_type": "code",
   "execution_count": 19,
   "metadata": {},
   "outputs": [],
   "source": [
    "X = stock_df[['Interest Rates', 'Employment']]"
   ]
  },
  {
   "cell_type": "code",
   "execution_count": 20,
   "metadata": {},
   "outputs": [],
   "source": [
    "# X = np.array(X)"
   ]
  },
  {
   "cell_type": "code",
   "execution_count": 21,
   "metadata": {},
   "outputs": [],
   "source": [
    "# y = np.array(y)"
   ]
  },
  {
   "cell_type": "markdown",
   "metadata": {},
   "source": [
    "# TASK #3: TRAIN A LINEAR LEARNER MODEL USING SAGEMAKER TO SOLVE MULTIPLE LINEAR REGRESSION PROBLEM"
   ]
  },
  {
   "cell_type": "code",
   "execution_count": 22,
   "metadata": {},
   "outputs": [],
   "source": [
    "# Convert the datatype to float32 (to run Linear Learner successfully)\n",
    "X = np.array(X).astype('float32')\n",
    "y = np.array(y).astype('float32')\n",
    "\n",
    "from sklearn.model_selection import train_test_split\n",
    "X_train, X_test, y_train, y_test= train_test_split(X, y, test_size = 0.2)"
   ]
  },
  {
   "cell_type": "code",
   "execution_count": 23,
   "metadata": {},
   "outputs": [
    {
     "name": "stdout",
     "output_type": "stream",
     "text": [
      "arn:aws:iam::279288473542:role/service-role/AmazonSageMaker-ExecutionRole-20230912T204102\n"
     ]
    }
   ],
   "source": [
    "# Boto3 is the Amazon Web Services (AWS) Software Development Kit (SDK) for Python\n",
    "# Boto3 allows Python developer to write software that makes use of services like Amazon S3 and Amazon EC2\n",
    "\n",
    "import sagemaker\n",
    "import boto3\n",
    "\n",
    "# Let's create a Sagemaker session\n",
    "sagemaker_session = sagemaker.Session()\n",
    "\n",
    "# Let's define the S3 bucket and prefix that we want to use in this session\n",
    "# bucket = 'aws-ml-10days' # bucket named 'aws-ml-10days' was created beforehand\n",
    "\n",
    "bucket = sagemaker_session.default_bucket() \n",
    "prefix = 'multi_linear_learner_sp500' # prefix is the subfolder within the bucket.\n",
    "\n",
    "# Let's get the execution role for the notebook instance. \n",
    "# This is the IAM role that you created when you created your notebook instance. You pass the role to the training job.\n",
    "# Note that AWS Identity and Access Management (IAM) role that Amazon SageMaker can assume to perform tasks on your behalf (for example, reading training results, called model artifacts, from the S3 bucket and writing training results to Amazon S3). \n",
    "role = sagemaker.get_execution_role()\n",
    "print(role)"
   ]
  },
  {
   "cell_type": "code",
   "execution_count": 24,
   "metadata": {},
   "outputs": [
    {
     "data": {
      "text/plain": [
       "(800, 2)"
      ]
     },
     "execution_count": 24,
     "metadata": {},
     "output_type": "execute_result"
    }
   ],
   "source": [
    "X_train.shape"
   ]
  },
  {
   "cell_type": "code",
   "execution_count": 25,
   "metadata": {},
   "outputs": [
    {
     "data": {
      "text/plain": [
       "(800,)"
      ]
     },
     "execution_count": 25,
     "metadata": {},
     "output_type": "execute_result"
    }
   ],
   "source": [
    "y_train.shape"
   ]
  },
  {
   "cell_type": "code",
   "execution_count": 26,
   "metadata": {},
   "outputs": [],
   "source": [
    "# y_train = y_train[:,0]"
   ]
  },
  {
   "cell_type": "code",
   "execution_count": 27,
   "metadata": {},
   "outputs": [
    {
     "data": {
      "text/plain": [
       "(800,)"
      ]
     },
     "execution_count": 27,
     "metadata": {},
     "output_type": "execute_result"
    }
   ],
   "source": [
    "y_train.shape"
   ]
  },
  {
   "cell_type": "code",
   "execution_count": 28,
   "metadata": {},
   "outputs": [
    {
     "data": {
      "text/plain": [
       "0"
      ]
     },
     "execution_count": 28,
     "metadata": {},
     "output_type": "execute_result"
    }
   ],
   "source": [
    "import io # The io module allows for dealing with various types of I/O (text I/O, binary I/O and raw I/O). \n",
    "import numpy as np\n",
    "import sagemaker.amazon.common as smac # sagemaker common libary\n",
    "\n",
    "# Code below converts the data in numpy array format to RecordIO format\n",
    "# This is the format required by Sagemaker Linear Learner \n",
    "\n",
    "buf = io.BytesIO() # create an in-memory byte array (buf is a buffer I will be writing to)\n",
    "smac.write_numpy_to_dense_tensor(buf, X_train, y_train)\n",
    "buf.seek(0) \n",
    "# When you write to in-memory byte arrays, it increments 1 every time you write to it\n",
    "# Let's reset that back to zero \n"
   ]
  },
  {
   "cell_type": "code",
   "execution_count": 29,
   "metadata": {},
   "outputs": [
    {
     "name": "stdout",
     "output_type": "stream",
     "text": [
      "uploaded training data location: s3://sagemaker-us-east-1-279288473542/multi_linear_learner_sp500/train/linear-train-data\n"
     ]
    },
    {
     "name": "stderr",
     "output_type": "stream",
     "text": [
      "/opt/conda/lib/python3.7/site-packages/boto3/compat.py:82: PythonDeprecationWarning: Boto3 will no longer support Python 3.7 starting December 13, 2023. To continue receiving service updates, bug fixes, and security updates please upgrade to Python 3.8 or later. More information can be found here: https://aws.amazon.com/blogs/developer/python-support-policy-updates-for-aws-sdks-and-tools/\n",
      "  warnings.warn(warning, PythonDeprecationWarning)\n"
     ]
    }
   ],
   "source": [
    "import os\n",
    "\n",
    "# Code to upload RecordIO data to S3\n",
    " \n",
    "# Key refers to the name of the file    \n",
    "key = 'linear-train-data'\n",
    "\n",
    "# The following code uploads the data in record-io format to S3 bucket to be accessed later for training\n",
    "boto3.resource('s3').Bucket(bucket).Object(os.path.join(prefix, 'train', key)).upload_fileobj(buf)\n",
    "\n",
    "# Let's print out the training data location in s3\n",
    "s3_train_data = 's3://{}/{}/train/{}'.format(bucket, prefix, key)\n",
    "print('uploaded training data location: {}'.format(s3_train_data))"
   ]
  },
  {
   "cell_type": "code",
   "execution_count": 30,
   "metadata": {},
   "outputs": [
    {
     "name": "stdout",
     "output_type": "stream",
     "text": [
      "Training artifacts will be uploaded to: s3://sagemaker-us-east-1-279288473542/multi_linear_learner_sp500/output\n"
     ]
    }
   ],
   "source": [
    "# create an output placeholder in S3 bucket to store the linear learner output\n",
    "\n",
    "output_location = 's3://{}/{}/output'.format(bucket, prefix)\n",
    "print('Training artifacts will be uploaded to: {}'.format(output_location))"
   ]
  },
  {
   "cell_type": "code",
   "execution_count": 31,
   "metadata": {},
   "outputs": [],
   "source": [
    "# Note that this code leverages the new SageMaker SDK 2.0\n",
    "# Check this for the list of changes from AWS SageMaker SDK 1.0 to 2.0: https://sagemaker.readthedocs.io/en/stable/v2.html\n",
    "\n",
    "# This code is used to get the training container of sagemaker built-in algorithms\n",
    "# all we have to do is to specify the name of the algorithm that we want to use\n",
    "\n",
    "# Let's obtain a reference to the linearLearner container image\n",
    "# Note that all regression models are named estimators\n",
    "# You don't have to specify (hardcode) the region, get_image_uri will get the current region name using boto3.Session\n",
    "container = sagemaker.image_uris.retrieve(\"linear-learner\", boto3.Session().region_name)\n",
    "\n",
    "\n",
    "# This is using the old AWS SageMAker SDK 1.0 (You need to use get_image_uri and note that attribute order is different as well)\n",
    "# from sagemaker.amazon.amazon_estimator import get_image_uri\n",
    "# container = get_image_uri(boto3.Session().region_name, 'linear-learner')"
   ]
  },
  {
   "cell_type": "code",
   "execution_count": 33,
   "metadata": {},
   "outputs": [
    {
     "name": "stderr",
     "output_type": "stream",
     "text": [
      "INFO:sagemaker:Creating training-job with name: linear-learner-2023-09-20-00-58-01-042\n"
     ]
    },
    {
     "name": "stdout",
     "output_type": "stream",
     "text": [
      "2023-09-20 00:58:01 Starting - Starting the training job...\n",
      "2023-09-20 00:58:25 Starting - Preparing the instances for training.........\n",
      "2023-09-20 00:59:44 Downloading - Downloading input data......\n",
      "2023-09-20 01:00:35 Training - Downloading the training image...\n",
      "2023-09-20 01:01:31 Training - Training image download completed. Training in progress....\n",
      "2023-09-20 01:02:01 Uploading - Uploading generated training model\u001b[34mDocker entrypoint called with argument(s): train\u001b[0m\n",
      "\u001b[34mRunning default environment configuration script\u001b[0m\n",
      "\u001b[34m[09/20/2023 01:01:47 INFO 140100470376256] Reading default configuration from /opt/amazon/lib/python3.7/site-packages/algorithm/resources/default-input.json: {'mini_batch_size': '1000', 'epochs': '15', 'feature_dim': 'auto', 'use_bias': 'true', 'binary_classifier_model_selection_criteria': 'accuracy', 'f_beta': '1.0', 'target_recall': '0.8', 'target_precision': '0.8', 'num_models': 'auto', 'num_calibration_samples': '10000000', 'init_method': 'uniform', 'init_scale': '0.07', 'init_sigma': '0.01', 'init_bias': '0.0', 'optimizer': 'auto', 'loss': 'auto', 'margin': '1.0', 'quantile': '0.5', 'loss_insensitivity': '0.01', 'huber_delta': '1.0', 'num_classes': '1', 'accuracy_top_k': '3', 'wd': 'auto', 'l1': 'auto', 'momentum': 'auto', 'learning_rate': 'auto', 'beta_1': 'auto', 'beta_2': 'auto', 'bias_lr_mult': 'auto', 'bias_wd_mult': 'auto', 'use_lr_scheduler': 'true', 'lr_scheduler_step': 'auto', 'lr_scheduler_factor': 'auto', 'lr_scheduler_minimum_lr': 'auto', 'positive_example_weight_mult': '1.0', 'balance_multiclass_weights': 'false', 'normalize_data': 'true', 'normalize_label': 'auto', 'unbias_data': 'auto', 'unbias_label': 'auto', 'num_point_for_scaler': '10000', '_kvstore': 'auto', '_num_gpus': 'auto', '_num_kv_servers': 'auto', '_log_level': 'info', '_tuning_objective_metric': '', 'early_stopping_patience': '3', 'early_stopping_tolerance': '0.001', '_enable_profiler': 'false'}\u001b[0m\n",
      "\u001b[34m[09/20/2023 01:01:47 INFO 140100470376256] Merging with provided configuration from /opt/ml/input/config/hyperparameters.json: {'epochs': '100', 'feature_dim': '2', 'loss': 'absolute_loss', 'mini_batch_size': '100', 'num_models': '32', 'predictor_type': 'regressor'}\u001b[0m\n",
      "\u001b[34m[09/20/2023 01:01:47 INFO 140100470376256] Final configuration: {'mini_batch_size': '100', 'epochs': '100', 'feature_dim': '2', 'use_bias': 'true', 'binary_classifier_model_selection_criteria': 'accuracy', 'f_beta': '1.0', 'target_recall': '0.8', 'target_precision': '0.8', 'num_models': '32', 'num_calibration_samples': '10000000', 'init_method': 'uniform', 'init_scale': '0.07', 'init_sigma': '0.01', 'init_bias': '0.0', 'optimizer': 'auto', 'loss': 'absolute_loss', 'margin': '1.0', 'quantile': '0.5', 'loss_insensitivity': '0.01', 'huber_delta': '1.0', 'num_classes': '1', 'accuracy_top_k': '3', 'wd': 'auto', 'l1': 'auto', 'momentum': 'auto', 'learning_rate': 'auto', 'beta_1': 'auto', 'beta_2': 'auto', 'bias_lr_mult': 'auto', 'bias_wd_mult': 'auto', 'use_lr_scheduler': 'true', 'lr_scheduler_step': 'auto', 'lr_scheduler_factor': 'auto', 'lr_scheduler_minimum_lr': 'auto', 'positive_example_weight_mult': '1.0', 'balance_multiclass_weights': 'false', 'normalize_data': 'true', 'normalize_label': 'auto', 'unbias_data': 'auto', 'unbias_label': 'auto', 'num_point_for_scaler': '10000', '_kvstore': 'auto', '_num_gpus': 'auto', '_num_kv_servers': 'auto', '_log_level': 'info', '_tuning_objective_metric': '', 'early_stopping_patience': '3', 'early_stopping_tolerance': '0.001', '_enable_profiler': 'false', 'predictor_type': 'regressor'}\u001b[0m\n",
      "\u001b[34m[09/20/2023 01:01:50 WARNING 140100470376256] Loggers have already been setup.\u001b[0m\n",
      "\u001b[34m[09/20/2023 01:01:50 INFO 140100470376256] Final configuration: {'mini_batch_size': '100', 'epochs': '100', 'feature_dim': '2', 'use_bias': 'true', 'binary_classifier_model_selection_criteria': 'accuracy', 'f_beta': '1.0', 'target_recall': '0.8', 'target_precision': '0.8', 'num_models': '32', 'num_calibration_samples': '10000000', 'init_method': 'uniform', 'init_scale': '0.07', 'init_sigma': '0.01', 'init_bias': '0.0', 'optimizer': 'auto', 'loss': 'absolute_loss', 'margin': '1.0', 'quantile': '0.5', 'loss_insensitivity': '0.01', 'huber_delta': '1.0', 'num_classes': '1', 'accuracy_top_k': '3', 'wd': 'auto', 'l1': 'auto', 'momentum': 'auto', 'learning_rate': 'auto', 'beta_1': 'auto', 'beta_2': 'auto', 'bias_lr_mult': 'auto', 'bias_wd_mult': 'auto', 'use_lr_scheduler': 'true', 'lr_scheduler_step': 'auto', 'lr_scheduler_factor': 'auto', 'lr_scheduler_minimum_lr': 'auto', 'positive_example_weight_mult': '1.0', 'balance_multiclass_weights': 'false', 'normalize_data': 'true', 'normalize_label': 'auto', 'unbias_data': 'auto', 'unbias_label': 'auto', 'num_point_for_scaler': '10000', '_kvstore': 'auto', '_num_gpus': 'auto', '_num_kv_servers': 'auto', '_log_level': 'info', '_tuning_objective_metric': '', 'early_stopping_patience': '3', 'early_stopping_tolerance': '0.001', '_enable_profiler': 'false', 'predictor_type': 'regressor'}\u001b[0m\n",
      "\u001b[34m[09/20/2023 01:01:50 WARNING 140100470376256] Loggers have already been setup.\u001b[0m\n",
      "\u001b[34mProcess 7 is a worker.\u001b[0m\n",
      "\u001b[34m[09/20/2023 01:01:50 INFO 140100470376256] Using default worker.\u001b[0m\n",
      "\u001b[34m[09/20/2023 01:01:50 INFO 140100470376256] Checkpoint loading and saving are disabled.\u001b[0m\n",
      "\u001b[34m[2023-09-20 01:01:50.996] [tensorio] [info] epoch_stats={\"data_pipeline\": \"/opt/ml/input/data/train\", \"epoch\": 0, \"duration\": 16, \"num_examples\": 1, \"num_bytes\": 5200}\u001b[0m\n",
      "\u001b[34m[09/20/2023 01:01:50 INFO 140100470376256] Create Store: local\u001b[0m\n",
      "\u001b[34m[2023-09-20 01:01:51.067] [tensorio] [info] epoch_stats={\"data_pipeline\": \"/opt/ml/input/data/train\", \"epoch\": 1, \"duration\": 69, \"num_examples\": 8, \"num_bytes\": 41600}\u001b[0m\n",
      "\u001b[34m[09/20/2023 01:01:51 INFO 140100470376256] Scaler algorithm parameters\n",
      " <algorithm.scaler.ScalerAlgorithmStable object at 0x7f6b224f5150>\u001b[0m\n",
      "\u001b[34m[09/20/2023 01:01:51 INFO 140100470376256] Scaling model computed with parameters:\n",
      " {'stdev_label': \u001b[0m\n",
      "\u001b[34m[195.49843]\u001b[0m\n",
      "\u001b[34m<NDArray 1 @cpu(0)>, 'stdev_weight': \u001b[0m\n",
      "\u001b[34m[0.2427069 4.9569736]\u001b[0m\n",
      "\u001b[34m<NDArray 2 @cpu(0)>, 'mean_label': \u001b[0m\n",
      "\u001b[34m[2318.7134]\u001b[0m\n",
      "\u001b[34m<NDArray 1 @cpu(0)>, 'mean_weight': \u001b[0m\n",
      "\u001b[34m[ 2.192874 56.25003 ]\u001b[0m\n",
      "\u001b[34m<NDArray 2 @cpu(0)>}\u001b[0m\n",
      "\u001b[34m[09/20/2023 01:01:51 INFO 140100470376256] nvidia-smi: took 0.032 seconds to run.\u001b[0m\n",
      "\u001b[34m[09/20/2023 01:01:51 INFO 140100470376256] nvidia-smi identified 0 GPUs.\u001b[0m\n",
      "\u001b[34m[09/20/2023 01:01:51 INFO 140100470376256] Number of GPUs being used: 0\u001b[0m\n",
      "\u001b[34m#metrics {\"StartTime\": 1695171711.1838129, \"EndTime\": 1695171711.1838508, \"Dimensions\": {\"Algorithm\": \"Linear Learner\", \"Host\": \"algo-1\", \"Operation\": \"training\", \"Meta\": \"init_train_data_iter\"}, \"Metrics\": {\"Total Records Seen\": {\"sum\": 900.0, \"count\": 1, \"min\": 900, \"max\": 900}, \"Total Batches Seen\": {\"sum\": 9.0, \"count\": 1, \"min\": 9, \"max\": 9}, \"Max Records Seen Between Resets\": {\"sum\": 800.0, \"count\": 1, \"min\": 800, \"max\": 800}, \"Max Batches Seen Between Resets\": {\"sum\": 8.0, \"count\": 1, \"min\": 8, \"max\": 8}, \"Reset Count\": {\"sum\": 2.0, \"count\": 1, \"min\": 2, \"max\": 2}, \"Number of Records Since Last Reset\": {\"sum\": 0.0, \"count\": 1, \"min\": 0, \"max\": 0}, \"Number of Batches Since Last Reset\": {\"sum\": 0.0, \"count\": 1, \"min\": 0, \"max\": 0}}}\u001b[0m\n",
      "\u001b[34m[2023-09-20 01:01:51.389] [tensorio] [info] epoch_stats={\"data_pipeline\": \"/opt/ml/input/data/train\", \"epoch\": 4, \"duration\": 205, \"num_examples\": 8, \"num_bytes\": 41600}\u001b[0m\n",
      "\u001b[34m#metrics {\"StartTime\": 1695171711.3897235, \"EndTime\": 1695171711.389831, \"Dimensions\": {\"Algorithm\": \"Linear Learner\", \"Host\": \"algo-1\", \"Operation\": \"training\", \"epoch\": 0, \"model\": 0}, \"Metrics\": {\"train_absolute_loss_objective\": {\"sum\": 0.7861950206756592, \"count\": 1, \"min\": 0.7861950206756592, \"max\": 0.7861950206756592}}}\u001b[0m\n",
      "\u001b[34m#metrics {\"StartTime\": 1695171711.3899531, \"EndTime\": 1695171711.389979, \"Dimensions\": {\"Algorithm\": \"Linear Learner\", \"Host\": \"algo-1\", \"Operation\": \"training\", \"epoch\": 0, \"model\": 1}, \"Metrics\": {\"train_absolute_loss_objective\": {\"sum\": 0.7917777633666992, \"count\": 1, \"min\": 0.7917777633666992, \"max\": 0.7917777633666992}}}\u001b[0m\n",
      "\u001b[34m#metrics {\"StartTime\": 1695171711.390058, \"EndTime\": 1695171711.3900793, \"Dimensions\": {\"Algorithm\": \"Linear Learner\", \"Host\": \"algo-1\", \"Operation\": \"training\", \"epoch\": 0, \"model\": 2}, \"Metrics\": {\"train_absolute_loss_objective\": {\"sum\": 0.7971259307861328, \"count\": 1, \"min\": 0.7971259307861328, \"max\": 0.7971259307861328}}}\u001b[0m\n",
      "\u001b[34m#metrics {\"StartTime\": 1695171711.3901389, \"EndTime\": 1695171711.390158, \"Dimensions\": {\"Algorithm\": \"Linear Learner\", \"Host\": \"algo-1\", \"Operation\": \"training\", \"epoch\": 0, \"model\": 3}, \"Metrics\": {\"train_absolute_loss_objective\": {\"sum\": 0.7772308826446533, \"count\": 1, \"min\": 0.7772308826446533, \"max\": 0.7772308826446533}}}\u001b[0m\n",
      "\u001b[34m#metrics {\"StartTime\": 1695171711.3902273, \"EndTime\": 1695171711.3902464, \"Dimensions\": {\"Algorithm\": \"Linear Learner\", \"Host\": \"algo-1\", \"Operation\": \"training\", \"epoch\": 0, \"model\": 4}, \"Metrics\": {\"train_absolute_loss_objective\": {\"sum\": 0.7023249053955078, \"count\": 1, \"min\": 0.7023249053955078, \"max\": 0.7023249053955078}}}\u001b[0m\n",
      "\u001b[34m#metrics {\"StartTime\": 1695171711.3903017, \"EndTime\": 1695171711.3903186, \"Dimensions\": {\"Algorithm\": \"Linear Learner\", \"Host\": \"algo-1\", \"Operation\": \"training\", \"epoch\": 0, \"model\": 5}, \"Metrics\": {\"train_absolute_loss_objective\": {\"sum\": 0.6491162252426147, \"count\": 1, \"min\": 0.6491162252426147, \"max\": 0.6491162252426147}}}\u001b[0m\n",
      "\u001b[34m#metrics {\"StartTime\": 1695171711.3903768, \"EndTime\": 1695171711.3903935, \"Dimensions\": {\"Algorithm\": \"Linear Learner\", \"Host\": \"algo-1\", \"Operation\": \"training\", \"epoch\": 0, \"model\": 6}, \"Metrics\": {\"train_absolute_loss_objective\": {\"sum\": 0.682129807472229, \"count\": 1, \"min\": 0.682129807472229, \"max\": 0.682129807472229}}}\u001b[0m\n",
      "\u001b[34m#metrics {\"StartTime\": 1695171711.3904388, \"EndTime\": 1695171711.3904486, \"Dimensions\": {\"Algorithm\": \"Linear Learner\", \"Host\": \"algo-1\", \"Operation\": \"training\", \"epoch\": 0, \"model\": 7}, \"Metrics\": {\"train_absolute_loss_objective\": {\"sum\": 0.6812029933929443, \"count\": 1, \"min\": 0.6812029933929443, \"max\": 0.6812029933929443}}}\u001b[0m\n",
      "\u001b[34m#metrics {\"StartTime\": 1695171711.390475, \"EndTime\": 1695171711.3904824, \"Dimensions\": {\"Algorithm\": \"Linear Learner\", \"Host\": \"algo-1\", \"Operation\": \"training\", \"epoch\": 0, \"model\": 8}, \"Metrics\": {\"train_absolute_loss_objective\": {\"sum\": 0.8290798950195313, \"count\": 1, \"min\": 0.8290798950195313, \"max\": 0.8290798950195313}}}\u001b[0m\n",
      "\u001b[34m#metrics {\"StartTime\": 1695171711.3905115, \"EndTime\": 1695171711.3905249, \"Dimensions\": {\"Algorithm\": \"Linear Learner\", \"Host\": \"algo-1\", \"Operation\": \"training\", \"epoch\": 0, \"model\": 9}, \"Metrics\": {\"train_absolute_loss_objective\": {\"sum\": 0.7588163566589355, \"count\": 1, \"min\": 0.7588163566589355, \"max\": 0.7588163566589355}}}\u001b[0m\n",
      "\u001b[34m#metrics {\"StartTime\": 1695171711.3905783, \"EndTime\": 1695171711.3905892, \"Dimensions\": {\"Algorithm\": \"Linear Learner\", \"Host\": \"algo-1\", \"Operation\": \"training\", \"epoch\": 0, \"model\": 10}, \"Metrics\": {\"train_absolute_loss_objective\": {\"sum\": 0.7619426631927491, \"count\": 1, \"min\": 0.7619426631927491, \"max\": 0.7619426631927491}}}\u001b[0m\n",
      "\u001b[34m#metrics {\"StartTime\": 1695171711.3906186, \"EndTime\": 1695171711.3906262, \"Dimensions\": {\"Algorithm\": \"Linear Learner\", \"Host\": \"algo-1\", \"Operation\": \"training\", \"epoch\": 0, \"model\": 11}, \"Metrics\": {\"train_absolute_loss_objective\": {\"sum\": 0.7731196212768555, \"count\": 1, \"min\": 0.7731196212768555, \"max\": 0.7731196212768555}}}\u001b[0m\n",
      "\u001b[34m#metrics {\"StartTime\": 1695171711.3906505, \"EndTime\": 1695171711.3906593, \"Dimensions\": {\"Algorithm\": \"Linear Learner\", \"Host\": \"algo-1\", \"Operation\": \"training\", \"epoch\": 0, \"model\": 12}, \"Metrics\": {\"train_absolute_loss_objective\": {\"sum\": 0.6757207775115966, \"count\": 1, \"min\": 0.6757207775115966, \"max\": 0.6757207775115966}}}\u001b[0m\n",
      "\u001b[34m#metrics {\"StartTime\": 1695171711.3907099, \"EndTime\": 1695171711.390726, \"Dimensions\": {\"Algorithm\": \"Linear Learner\", \"Host\": \"algo-1\", \"Operation\": \"training\", \"epoch\": 0, \"model\": 13}, \"Metrics\": {\"train_absolute_loss_objective\": {\"sum\": 0.6901688146591186, \"count\": 1, \"min\": 0.6901688146591186, \"max\": 0.6901688146591186}}}\u001b[0m\n",
      "\u001b[34m#metrics {\"StartTime\": 1695171711.390783, \"EndTime\": 1695171711.390799, \"Dimensions\": {\"Algorithm\": \"Linear Learner\", \"Host\": \"algo-1\", \"Operation\": \"training\", \"epoch\": 0, \"model\": 14}, \"Metrics\": {\"train_absolute_loss_objective\": {\"sum\": 0.6693570756912232, \"count\": 1, \"min\": 0.6693570756912232, \"max\": 0.6693570756912232}}}\u001b[0m\n",
      "\u001b[34m#metrics {\"StartTime\": 1695171711.39083, \"EndTime\": 1695171711.390838, \"Dimensions\": {\"Algorithm\": \"Linear Learner\", \"Host\": \"algo-1\", \"Operation\": \"training\", \"epoch\": 0, \"model\": 15}, \"Metrics\": {\"train_absolute_loss_objective\": {\"sum\": 0.6876824569702148, \"count\": 1, \"min\": 0.6876824569702148, \"max\": 0.6876824569702148}}}\u001b[0m\n",
      "\u001b[34m#metrics {\"StartTime\": 1695171711.3908632, \"EndTime\": 1695171711.3908758, \"Dimensions\": {\"Algorithm\": \"Linear Learner\", \"Host\": \"algo-1\", \"Operation\": \"training\", \"epoch\": 0, \"model\": 16}, \"Metrics\": {\"train_absolute_loss_objective\": {\"sum\": 0.7734473705291748, \"count\": 1, \"min\": 0.7734473705291748, \"max\": 0.7734473705291748}}}\u001b[0m\n",
      "\u001b[34m#metrics {\"StartTime\": 1695171711.390929, \"EndTime\": 1695171711.3909447, \"Dimensions\": {\"Algorithm\": \"Linear Learner\", \"Host\": \"algo-1\", \"Operation\": \"training\", \"epoch\": 0, \"model\": 17}, \"Metrics\": {\"train_absolute_loss_objective\": {\"sum\": 0.7573664379119873, \"count\": 1, \"min\": 0.7573664379119873, \"max\": 0.7573664379119873}}}\u001b[0m\n",
      "\u001b[34m#metrics {\"StartTime\": 1695171711.3909793, \"EndTime\": 1695171711.3909879, \"Dimensions\": {\"Algorithm\": \"Linear Learner\", \"Host\": \"algo-1\", \"Operation\": \"training\", \"epoch\": 0, \"model\": 18}, \"Metrics\": {\"train_absolute_loss_objective\": {\"sum\": 0.8062967014312744, \"count\": 1, \"min\": 0.8062967014312744, \"max\": 0.8062967014312744}}}\u001b[0m\n",
      "\u001b[34m#metrics {\"StartTime\": 1695171711.3910303, \"EndTime\": 1695171711.3910453, \"Dimensions\": {\"Algorithm\": \"Linear Learner\", \"Host\": \"algo-1\", \"Operation\": \"training\", \"epoch\": 0, \"model\": 19}, \"Metrics\": {\"train_absolute_loss_objective\": {\"sum\": 0.7551627349853516, \"count\": 1, \"min\": 0.7551627349853516, \"max\": 0.7551627349853516}}}\u001b[0m\n",
      "\u001b[34m#metrics {\"StartTime\": 1695171711.3911016, \"EndTime\": 1695171711.3911119, \"Dimensions\": {\"Algorithm\": \"Linear Learner\", \"Host\": \"algo-1\", \"Operation\": \"training\", \"epoch\": 0, \"model\": 20}, \"Metrics\": {\"train_absolute_loss_objective\": {\"sum\": 0.6926678514480591, \"count\": 1, \"min\": 0.6926678514480591, \"max\": 0.6926678514480591}}}\u001b[0m\n",
      "\u001b[34m#metrics {\"StartTime\": 1695171711.3911412, \"EndTime\": 1695171711.3911488, \"Dimensions\": {\"Algorithm\": \"Linear Learner\", \"Host\": \"algo-1\", \"Operation\": \"training\", \"epoch\": 0, \"model\": 21}, \"Metrics\": {\"train_absolute_loss_objective\": {\"sum\": 0.6880741310119629, \"count\": 1, \"min\": 0.6880741310119629, \"max\": 0.6880741310119629}}}\u001b[0m\n",
      "\u001b[34m#metrics {\"StartTime\": 1695171711.391189, \"EndTime\": 1695171711.3912039, \"Dimensions\": {\"Algorithm\": \"Linear Learner\", \"Host\": \"algo-1\", \"Operation\": \"training\", \"epoch\": 0, \"model\": 22}, \"Metrics\": {\"train_absolute_loss_objective\": {\"sum\": 0.7357305335998535, \"count\": 1, \"min\": 0.7357305335998535, \"max\": 0.7357305335998535}}}\u001b[0m\n",
      "\u001b[34m#metrics {\"StartTime\": 1695171711.3912508, \"EndTime\": 1695171711.3912606, \"Dimensions\": {\"Algorithm\": \"Linear Learner\", \"Host\": \"algo-1\", \"Operation\": \"training\", \"epoch\": 0, \"model\": 23}, \"Metrics\": {\"train_absolute_loss_objective\": {\"sum\": 0.7301107692718506, \"count\": 1, \"min\": 0.7301107692718506, \"max\": 0.7301107692718506}}}\u001b[0m\n",
      "\u001b[34m#metrics {\"StartTime\": 1695171711.3912876, \"EndTime\": 1695171711.391295, \"Dimensions\": {\"Algorithm\": \"Linear Learner\", \"Host\": \"algo-1\", \"Operation\": \"training\", \"epoch\": 0, \"model\": 24}, \"Metrics\": {\"train_absolute_loss_objective\": {\"sum\": 0.8470001029968262, \"count\": 1, \"min\": 0.8470001029968262, \"max\": 0.8470001029968262}}}\u001b[0m\n",
      "\u001b[34m#metrics {\"StartTime\": 1695171711.3913229, \"EndTime\": 1695171711.3913424, \"Dimensions\": {\"Algorithm\": \"Linear Learner\", \"Host\": \"algo-1\", \"Operation\": \"training\", \"epoch\": 0, \"model\": 25}, \"Metrics\": {\"train_absolute_loss_objective\": {\"sum\": 0.7796431350708007, \"count\": 1, \"min\": 0.7796431350708007, \"max\": 0.7796431350708007}}}\u001b[0m\n",
      "\u001b[34m#metrics {\"StartTime\": 1695171711.3913965, \"EndTime\": 1695171711.391407, \"Dimensions\": {\"Algorithm\": \"Linear Learner\", \"Host\": \"algo-1\", \"Operation\": \"training\", \"epoch\": 0, \"model\": 26}, \"Metrics\": {\"train_absolute_loss_objective\": {\"sum\": 0.8052886009216309, \"count\": 1, \"min\": 0.8052886009216309, \"max\": 0.8052886009216309}}}\u001b[0m\n",
      "\u001b[34m#metrics {\"StartTime\": 1695171711.3914356, \"EndTime\": 1695171711.3914435, \"Dimensions\": {\"Algorithm\": \"Linear Learner\", \"Host\": \"algo-1\", \"Operation\": \"training\", \"epoch\": 0, \"model\": 27}, \"Metrics\": {\"train_absolute_loss_objective\": {\"sum\": 0.7784468936920166, \"count\": 1, \"min\": 0.7784468936920166, \"max\": 0.7784468936920166}}}\u001b[0m\n",
      "\u001b[34m#metrics {\"StartTime\": 1695171711.391471, \"EndTime\": 1695171711.391483, \"Dimensions\": {\"Algorithm\": \"Linear Learner\", \"Host\": \"algo-1\", \"Operation\": \"training\", \"epoch\": 0, \"model\": 28}, \"Metrics\": {\"train_absolute_loss_objective\": {\"sum\": 0.9175620460510254, \"count\": 1, \"min\": 0.9175620460510254, \"max\": 0.9175620460510254}}}\u001b[0m\n",
      "\u001b[34m#metrics {\"StartTime\": 1695171711.391538, \"EndTime\": 1695171711.3915532, \"Dimensions\": {\"Algorithm\": \"Linear Learner\", \"Host\": \"algo-1\", \"Operation\": \"training\", \"epoch\": 0, \"model\": 29}, \"Metrics\": {\"train_absolute_loss_objective\": {\"sum\": 0.9000152492523193, \"count\": 1, \"min\": 0.9000152492523193, \"max\": 0.9000152492523193}}}\u001b[0m\n",
      "\u001b[34m#metrics {\"StartTime\": 1695171711.391589, \"EndTime\": 1695171711.3915977, \"Dimensions\": {\"Algorithm\": \"Linear Learner\", \"Host\": \"algo-1\", \"Operation\": \"training\", \"epoch\": 0, \"model\": 30}, \"Metrics\": {\"train_absolute_loss_objective\": {\"sum\": 0.8959413433074951, \"count\": 1, \"min\": 0.8959413433074951, \"max\": 0.8959413433074951}}}\u001b[0m\n",
      "\u001b[34m#metrics {\"StartTime\": 1695171711.391662, \"EndTime\": 1695171711.3916786, \"Dimensions\": {\"Algorithm\": \"Linear Learner\", \"Host\": \"algo-1\", \"Operation\": \"training\", \"epoch\": 0, \"model\": 31}, \"Metrics\": {\"train_absolute_loss_objective\": {\"sum\": 0.9109474182128906, \"count\": 1, \"min\": 0.9109474182128906, \"max\": 0.9109474182128906}}}\u001b[0m\n",
      "\u001b[34m[09/20/2023 01:01:51 INFO 140100470376256] #quality_metric: host=algo-1, epoch=0, train absolute_loss_objective <loss>=0.7861950206756592\u001b[0m\n",
      "\u001b[34m[09/20/2023 01:01:51 INFO 140100470376256] #early_stopping_criteria_metric: host=algo-1, epoch=0, criteria=absolute_loss_objective, value=0.6491162252426147\u001b[0m\n",
      "\u001b[34m[09/20/2023 01:01:51 INFO 140100470376256] Epoch 0: Loss improved. Updating best model\u001b[0m\n",
      "\u001b[34m[09/20/2023 01:01:51 INFO 140100470376256] Saving model for epoch: 0\u001b[0m\n",
      "\u001b[34m[09/20/2023 01:01:51 INFO 140100470376256] Saved checkpoint to \"/tmp/tmpbt3nq2w5/mx-mod-0000.params\"\u001b[0m\n",
      "\u001b[34m[09/20/2023 01:01:51 INFO 140100470376256] #progress_metric: host=algo-1, completed 1.0 % of epochs\u001b[0m\n",
      "\u001b[34m#metrics {\"StartTime\": 1695171711.184162, \"EndTime\": 1695171711.4022164, \"Dimensions\": {\"Algorithm\": \"Linear Learner\", \"Host\": \"algo-1\", \"Operation\": \"training\", \"epoch\": 0, \"Meta\": \"training_data_iter\"}, \"Metrics\": {\"Total Records Seen\": {\"sum\": 1700.0, \"count\": 1, \"min\": 1700, \"max\": 1700}, \"Total Batches Seen\": {\"sum\": 17.0, \"count\": 1, \"min\": 17, \"max\": 17}, \"Max Records Seen Between Resets\": {\"sum\": 800.0, \"count\": 1, \"min\": 800, \"max\": 800}, \"Max Batches Seen Between Resets\": {\"sum\": 8.0, \"count\": 1, \"min\": 8, \"max\": 8}, \"Reset Count\": {\"sum\": 3.0, \"count\": 1, \"min\": 3, \"max\": 3}, \"Number of Records Since Last Reset\": {\"sum\": 800.0, \"count\": 1, \"min\": 800, \"max\": 800}, \"Number of Batches Since Last Reset\": {\"sum\": 8.0, \"count\": 1, \"min\": 8, \"max\": 8}}}\u001b[0m\n",
      "\u001b[34m[09/20/2023 01:01:51 INFO 140100470376256] #throughput_metric: host=algo-1, train throughput=3666.325614124033 records/second\u001b[0m\n",
      "\u001b[34m[2023-09-20 01:01:51.572] [tensorio] [info] epoch_stats={\"data_pipeline\": \"/opt/ml/input/data/train\", \"epoch\": 6, \"duration\": 169, \"num_examples\": 8, \"num_bytes\": 41600}\u001b[0m\n",
      "\u001b[34m#metrics {\"StartTime\": 1695171711.5721304, \"EndTime\": 1695171711.5722463, \"Dimensions\": {\"Algorithm\": \"Linear Learner\", \"Host\": \"algo-1\", \"Operation\": \"training\", \"epoch\": 1, \"model\": 0}, \"Metrics\": {\"train_absolute_loss_objective\": {\"sum\": 0.7436906719207763, \"count\": 1, \"min\": 0.7436906719207763, \"max\": 0.7436906719207763}}}\u001b[0m\n",
      "\u001b[34m#metrics {\"StartTime\": 1695171711.5723608, \"EndTime\": 1695171711.5723834, \"Dimensions\": {\"Algorithm\": \"Linear Learner\", \"Host\": \"algo-1\", \"Operation\": \"training\", \"epoch\": 1, \"model\": 1}, \"Metrics\": {\"train_absolute_loss_objective\": {\"sum\": 0.7491577243804932, \"count\": 1, \"min\": 0.7491577243804932, \"max\": 0.7491577243804932}}}\u001b[0m\n",
      "\u001b[34m#metrics {\"StartTime\": 1695171711.5724516, \"EndTime\": 1695171711.5724688, \"Dimensions\": {\"Algorithm\": \"Linear Learner\", \"Host\": \"algo-1\", \"Operation\": \"training\", \"epoch\": 1, \"model\": 2}, \"Metrics\": {\"train_absolute_loss_objective\": {\"sum\": 0.754711446762085, \"count\": 1, \"min\": 0.754711446762085, \"max\": 0.754711446762085}}}\u001b[0m\n",
      "\u001b[34m#metrics {\"StartTime\": 1695171711.572529, \"EndTime\": 1695171711.5725465, \"Dimensions\": {\"Algorithm\": \"Linear Learner\", \"Host\": \"algo-1\", \"Operation\": \"training\", \"epoch\": 1, \"model\": 3}, \"Metrics\": {\"train_absolute_loss_objective\": {\"sum\": 0.7347764778137207, \"count\": 1, \"min\": 0.7347764778137207, \"max\": 0.7347764778137207}}}\u001b[0m\n",
      "\u001b[34m#metrics {\"StartTime\": 1695171711.5726047, \"EndTime\": 1695171711.5726223, \"Dimensions\": {\"Algorithm\": \"Linear Learner\", \"Host\": \"algo-1\", \"Operation\": \"training\", \"epoch\": 1, \"model\": 4}, \"Metrics\": {\"train_absolute_loss_objective\": {\"sum\": 0.3276567482948303, \"count\": 1, \"min\": 0.3276567482948303, \"max\": 0.3276567482948303}}}\u001b[0m\n",
      "\u001b[34m#metrics {\"StartTime\": 1695171711.5726821, \"EndTime\": 1695171711.572699, \"Dimensions\": {\"Algorithm\": \"Linear Learner\", \"Host\": \"algo-1\", \"Operation\": \"training\", \"epoch\": 1, \"model\": 5}, \"Metrics\": {\"train_absolute_loss_objective\": {\"sum\": 0.3393343782424927, \"count\": 1, \"min\": 0.3393343782424927, \"max\": 0.3393343782424927}}}\u001b[0m\n",
      "\u001b[34m#metrics {\"StartTime\": 1695171711.5727582, \"EndTime\": 1695171711.5727756, \"Dimensions\": {\"Algorithm\": \"Linear Learner\", \"Host\": \"algo-1\", \"Operation\": \"training\", \"epoch\": 1, \"model\": 6}, \"Metrics\": {\"train_absolute_loss_objective\": {\"sum\": 0.3374385046958923, \"count\": 1, \"min\": 0.3374385046958923, \"max\": 0.3374385046958923}}}\u001b[0m\n",
      "\u001b[34m#metrics {\"StartTime\": 1695171711.572834, \"EndTime\": 1695171711.572851, \"Dimensions\": {\"Algorithm\": \"Linear Learner\", \"Host\": \"algo-1\", \"Operation\": \"training\", \"epoch\": 1, \"model\": 7}, \"Metrics\": {\"train_absolute_loss_objective\": {\"sum\": 0.3296321725845337, \"count\": 1, \"min\": 0.3296321725845337, \"max\": 0.3296321725845337}}}\u001b[0m\n",
      "\u001b[34m#metrics {\"StartTime\": 1695171711.5729039, \"EndTime\": 1695171711.5729196, \"Dimensions\": {\"Algorithm\": \"Linear Learner\", \"Host\": \"algo-1\", \"Operation\": \"training\", \"epoch\": 1, \"model\": 8}, \"Metrics\": {\"train_absolute_loss_objective\": {\"sum\": 0.7851546001434326, \"count\": 1, \"min\": 0.7851546001434326, \"max\": 0.7851546001434326}}}\u001b[0m\n",
      "\u001b[34m#metrics {\"StartTime\": 1695171711.5729735, \"EndTime\": 1695171711.572989, \"Dimensions\": {\"Algorithm\": \"Linear Learner\", \"Host\": \"algo-1\", \"Operation\": \"training\", \"epoch\": 1, \"model\": 9}, \"Metrics\": {\"train_absolute_loss_objective\": {\"sum\": 0.7167424392700196, \"count\": 1, \"min\": 0.7167424392700196, \"max\": 0.7167424392700196}}}\u001b[0m\n",
      "\u001b[34m#metrics {\"StartTime\": 1695171711.5730426, \"EndTime\": 1695171711.5730577, \"Dimensions\": {\"Algorithm\": \"Linear Learner\", \"Host\": \"algo-1\", \"Operation\": \"training\", \"epoch\": 1, \"model\": 10}, \"Metrics\": {\"train_absolute_loss_objective\": {\"sum\": 0.7199468040466308, \"count\": 1, \"min\": 0.7199468040466308, \"max\": 0.7199468040466308}}}\u001b[0m\n",
      "\u001b[34m#metrics {\"StartTime\": 1695171711.5731184, \"EndTime\": 1695171711.57313, \"Dimensions\": {\"Algorithm\": \"Linear Learner\", \"Host\": \"algo-1\", \"Operation\": \"training\", \"epoch\": 1, \"model\": 11}, \"Metrics\": {\"train_absolute_loss_objective\": {\"sum\": 0.7309512710571289, \"count\": 1, \"min\": 0.7309512710571289, \"max\": 0.7309512710571289}}}\u001b[0m\n",
      "\u001b[34m#metrics {\"StartTime\": 1695171711.5731795, \"EndTime\": 1695171711.5731916, \"Dimensions\": {\"Algorithm\": \"Linear Learner\", \"Host\": \"algo-1\", \"Operation\": \"training\", \"epoch\": 1, \"model\": 12}, \"Metrics\": {\"train_absolute_loss_objective\": {\"sum\": 0.3393678164482117, \"count\": 1, \"min\": 0.3393678164482117, \"max\": 0.3393678164482117}}}\u001b[0m\n",
      "\u001b[34m#metrics {\"StartTime\": 1695171711.5732205, \"EndTime\": 1695171711.5732288, \"Dimensions\": {\"Algorithm\": \"Linear Learner\", \"Host\": \"algo-1\", \"Operation\": \"training\", \"epoch\": 1, \"model\": 13}, \"Metrics\": {\"train_absolute_loss_objective\": {\"sum\": 0.34847753286361693, \"count\": 1, \"min\": 0.34847753286361693, \"max\": 0.34847753286361693}}}\u001b[0m\n",
      "\u001b[34m#metrics {\"StartTime\": 1695171711.5732625, \"EndTime\": 1695171711.5732768, \"Dimensions\": {\"Algorithm\": \"Linear Learner\", \"Host\": \"algo-1\", \"Operation\": \"training\", \"epoch\": 1, \"model\": 14}, \"Metrics\": {\"train_absolute_loss_objective\": {\"sum\": 0.33726159334182737, \"count\": 1, \"min\": 0.33726159334182737, \"max\": 0.33726159334182737}}}\u001b[0m\n",
      "\u001b[34m#metrics {\"StartTime\": 1695171711.5733376, \"EndTime\": 1695171711.5733533, \"Dimensions\": {\"Algorithm\": \"Linear Learner\", \"Host\": \"algo-1\", \"Operation\": \"training\", \"epoch\": 1, \"model\": 15}, \"Metrics\": {\"train_absolute_loss_objective\": {\"sum\": 0.3408769416809082, \"count\": 1, \"min\": 0.3408769416809082, \"max\": 0.3408769416809082}}}\u001b[0m\n",
      "\u001b[34m#metrics {\"StartTime\": 1695171711.5734065, \"EndTime\": 1695171711.5734227, \"Dimensions\": {\"Algorithm\": \"Linear Learner\", \"Host\": \"algo-1\", \"Operation\": \"training\", \"epoch\": 1, \"model\": 16}, \"Metrics\": {\"train_absolute_loss_objective\": {\"sum\": 0.72771559715271, \"count\": 1, \"min\": 0.72771559715271, \"max\": 0.72771559715271}}}\u001b[0m\n",
      "\u001b[34m#metrics {\"StartTime\": 1695171711.5734737, \"EndTime\": 1695171711.5734837, \"Dimensions\": {\"Algorithm\": \"Linear Learner\", \"Host\": \"algo-1\", \"Operation\": \"training\", \"epoch\": 1, \"model\": 17}, \"Metrics\": {\"train_absolute_loss_objective\": {\"sum\": 0.7126690864562988, \"count\": 1, \"min\": 0.7126690864562988, \"max\": 0.7126690864562988}}}\u001b[0m\n",
      "\u001b[34m#metrics {\"StartTime\": 1695171711.5735378, \"EndTime\": 1695171711.5735545, \"Dimensions\": {\"Algorithm\": \"Linear Learner\", \"Host\": \"algo-1\", \"Operation\": \"training\", \"epoch\": 1, \"model\": 18}, \"Metrics\": {\"train_absolute_loss_objective\": {\"sum\": 0.7642494869232178, \"count\": 1, \"min\": 0.7642494869232178, \"max\": 0.7642494869232178}}}\u001b[0m\n",
      "\u001b[34m#metrics {\"StartTime\": 1695171711.5736063, \"EndTime\": 1695171711.573616, \"Dimensions\": {\"Algorithm\": \"Linear Learner\", \"Host\": \"algo-1\", \"Operation\": \"training\", \"epoch\": 1, \"model\": 19}, \"Metrics\": {\"train_absolute_loss_objective\": {\"sum\": 0.7135138702392578, \"count\": 1, \"min\": 0.7135138702392578, \"max\": 0.7135138702392578}}}\u001b[0m\n",
      "\u001b[34m#metrics {\"StartTime\": 1695171711.573645, \"EndTime\": 1695171711.573657, \"Dimensions\": {\"Algorithm\": \"Linear Learner\", \"Host\": \"algo-1\", \"Operation\": \"training\", \"epoch\": 1, \"model\": 20}, \"Metrics\": {\"train_absolute_loss_objective\": {\"sum\": 0.43599663257598875, \"count\": 1, \"min\": 0.43599663257598875, \"max\": 0.43599663257598875}}}\u001b[0m\n",
      "\u001b[34m#metrics {\"StartTime\": 1695171711.5737083, \"EndTime\": 1695171711.573718, \"Dimensions\": {\"Algorithm\": \"Linear Learner\", \"Host\": \"algo-1\", \"Operation\": \"training\", \"epoch\": 1, \"model\": 21}, \"Metrics\": {\"train_absolute_loss_objective\": {\"sum\": 0.4549902153015137, \"count\": 1, \"min\": 0.4549902153015137, \"max\": 0.4549902153015137}}}\u001b[0m\n",
      "\u001b[34m#metrics {\"StartTime\": 1695171711.573747, \"EndTime\": 1695171711.5737545, \"Dimensions\": {\"Algorithm\": \"Linear Learner\", \"Host\": \"algo-1\", \"Operation\": \"training\", \"epoch\": 1, \"model\": 22}, \"Metrics\": {\"train_absolute_loss_objective\": {\"sum\": 0.4153591156005859, \"count\": 1, \"min\": 0.4153591156005859, \"max\": 0.4153591156005859}}}\u001b[0m\n",
      "\u001b[34m#metrics {\"StartTime\": 1695171711.5737836, \"EndTime\": 1695171711.5737975, \"Dimensions\": {\"Algorithm\": \"Linear Learner\", \"Host\": \"algo-1\", \"Operation\": \"training\", \"epoch\": 1, \"model\": 23}, \"Metrics\": {\"train_absolute_loss_objective\": {\"sum\": 0.40739232778549195, \"count\": 1, \"min\": 0.40739232778549195, \"max\": 0.40739232778549195}}}\u001b[0m\n",
      "\u001b[34m#metrics {\"StartTime\": 1695171711.5738518, \"EndTime\": 1695171711.573862, \"Dimensions\": {\"Algorithm\": \"Linear Learner\", \"Host\": \"algo-1\", \"Operation\": \"training\", \"epoch\": 1, \"model\": 24}, \"Metrics\": {\"train_absolute_loss_objective\": {\"sum\": 0.8132209396362304, \"count\": 1, \"min\": 0.8132209396362304, \"max\": 0.8132209396362304}}}\u001b[0m\n",
      "\u001b[34m#metrics {\"StartTime\": 1695171711.573891, \"EndTime\": 1695171711.5738986, \"Dimensions\": {\"Algorithm\": \"Linear Learner\", \"Host\": \"algo-1\", \"Operation\": \"training\", \"epoch\": 1, \"model\": 25}, \"Metrics\": {\"train_absolute_loss_objective\": {\"sum\": 0.8029564094543457, \"count\": 1, \"min\": 0.8029564094543457, \"max\": 0.8029564094543457}}}\u001b[0m\n",
      "\u001b[34m#metrics {\"StartTime\": 1695171711.5739295, \"EndTime\": 1695171711.573943, \"Dimensions\": {\"Algorithm\": \"Linear Learner\", \"Host\": \"algo-1\", \"Operation\": \"training\", \"epoch\": 1, \"model\": 26}, \"Metrics\": {\"train_absolute_loss_objective\": {\"sum\": 0.8073272228240966, \"count\": 1, \"min\": 0.8073272228240966, \"max\": 0.8073272228240966}}}\u001b[0m\n",
      "\u001b[34m#metrics {\"StartTime\": 1695171711.5739899, \"EndTime\": 1695171711.5740047, \"Dimensions\": {\"Algorithm\": \"Linear Learner\", \"Host\": \"algo-1\", \"Operation\": \"training\", \"epoch\": 1, \"model\": 27}, \"Metrics\": {\"train_absolute_loss_objective\": {\"sum\": 0.8033556365966796, \"count\": 1, \"min\": 0.8033556365966796, \"max\": 0.8033556365966796}}}\u001b[0m\n",
      "\u001b[34m#metrics {\"StartTime\": 1695171711.5740397, \"EndTime\": 1695171711.5740485, \"Dimensions\": {\"Algorithm\": \"Linear Learner\", \"Host\": \"algo-1\", \"Operation\": \"training\", \"epoch\": 1, \"model\": 28}, \"Metrics\": {\"train_absolute_loss_objective\": {\"sum\": 0.8338054466247559, \"count\": 1, \"min\": 0.8338054466247559, \"max\": 0.8338054466247559}}}\u001b[0m\n",
      "\u001b[34m#metrics {\"StartTime\": 1695171711.5740957, \"EndTime\": 1695171711.5741115, \"Dimensions\": {\"Algorithm\": \"Linear Learner\", \"Host\": \"algo-1\", \"Operation\": \"training\", \"epoch\": 1, \"model\": 29}, \"Metrics\": {\"train_absolute_loss_objective\": {\"sum\": 0.8288760185241699, \"count\": 1, \"min\": 0.8288760185241699, \"max\": 0.8288760185241699}}}\u001b[0m\n",
      "\u001b[34m#metrics {\"StartTime\": 1695171711.5741565, \"EndTime\": 1695171711.5741656, \"Dimensions\": {\"Algorithm\": \"Linear Learner\", \"Host\": \"algo-1\", \"Operation\": \"training\", \"epoch\": 1, \"model\": 30}, \"Metrics\": {\"train_absolute_loss_objective\": {\"sum\": 0.8237539386749267, \"count\": 1, \"min\": 0.8237539386749267, \"max\": 0.8237539386749267}}}\u001b[0m\n",
      "\u001b[34m#metrics {\"StartTime\": 1695171711.5742006, \"EndTime\": 1695171711.5742145, \"Dimensions\": {\"Algorithm\": \"Linear Learner\", \"Host\": \"algo-1\", \"Operation\": \"training\", \"epoch\": 1, \"model\": 31}, \"Metrics\": {\"train_absolute_loss_objective\": {\"sum\": 0.8270498085021972, \"count\": 1, \"min\": 0.8270498085021972, \"max\": 0.8270498085021972}}}\u001b[0m\n",
      "\u001b[34m[09/20/2023 01:01:51 INFO 140100470376256] #quality_metric: host=algo-1, epoch=1, train absolute_loss_objective <loss>=0.7436906719207763\u001b[0m\n",
      "\u001b[34m[09/20/2023 01:01:51 INFO 140100470376256] #early_stopping_criteria_metric: host=algo-1, epoch=1, criteria=absolute_loss_objective, value=0.3276567482948303\u001b[0m\n",
      "\u001b[34m[09/20/2023 01:01:51 INFO 140100470376256] Epoch 1: Loss improved. Updating best model\u001b[0m\n",
      "\u001b[34m[09/20/2023 01:01:51 INFO 140100470376256] Saving model for epoch: 1\u001b[0m\n",
      "\u001b[34m[09/20/2023 01:01:51 INFO 140100470376256] Saved checkpoint to \"/tmp/tmps44bz9_r/mx-mod-0000.params\"\u001b[0m\n",
      "\u001b[34m[09/20/2023 01:01:51 INFO 140100470376256] #progress_metric: host=algo-1, completed 2.0 % of epochs\u001b[0m\n",
      "\u001b[34m#metrics {\"StartTime\": 1695171711.4025595, \"EndTime\": 1695171711.5832577, \"Dimensions\": {\"Algorithm\": \"Linear Learner\", \"Host\": \"algo-1\", \"Operation\": \"training\", \"epoch\": 1, \"Meta\": \"training_data_iter\"}, \"Metrics\": {\"Total Records Seen\": {\"sum\": 2500.0, \"count\": 1, \"min\": 2500, \"max\": 2500}, \"Total Batches Seen\": {\"sum\": 25.0, \"count\": 1, \"min\": 25, \"max\": 25}, \"Max Records Seen Between Resets\": {\"sum\": 800.0, \"count\": 1, \"min\": 800, \"max\": 800}, \"Max Batches Seen Between Resets\": {\"sum\": 8.0, \"count\": 1, \"min\": 8, \"max\": 8}, \"Reset Count\": {\"sum\": 4.0, \"count\": 1, \"min\": 4, \"max\": 4}, \"Number of Records Since Last Reset\": {\"sum\": 800.0, \"count\": 1, \"min\": 800, \"max\": 800}, \"Number of Batches Since Last Reset\": {\"sum\": 8.0, \"count\": 1, \"min\": 8, \"max\": 8}}}\u001b[0m\n",
      "\u001b[34m[09/20/2023 01:01:51 INFO 140100470376256] #throughput_metric: host=algo-1, train throughput=4423.403105332957 records/second\u001b[0m\n",
      "\u001b[34m[2023-09-20 01:01:51.759] [tensorio] [info] epoch_stats={\"data_pipeline\": \"/opt/ml/input/data/train\", \"epoch\": 8, \"duration\": 175, \"num_examples\": 8, \"num_bytes\": 41600}\u001b[0m\n",
      "\u001b[34m#metrics {\"StartTime\": 1695171711.7597587, \"EndTime\": 1695171711.7598414, \"Dimensions\": {\"Algorithm\": \"Linear Learner\", \"Host\": \"algo-1\", \"Operation\": \"training\", \"epoch\": 2, \"model\": 0}, \"Metrics\": {\"train_absolute_loss_objective\": {\"sum\": 0.7101353549957276, \"count\": 1, \"min\": 0.7101353549957276, \"max\": 0.7101353549957276}}}\u001b[0m\n",
      "\u001b[34m#metrics {\"StartTime\": 1695171711.7599454, \"EndTime\": 1695171711.7599628, \"Dimensions\": {\"Algorithm\": \"Linear Learner\", \"Host\": \"algo-1\", \"Operation\": \"training\", \"epoch\": 2, \"model\": 1}, \"Metrics\": {\"train_absolute_loss_objective\": {\"sum\": 0.7147248744964599, \"count\": 1, \"min\": 0.7147248744964599, \"max\": 0.7147248744964599}}}\u001b[0m\n",
      "\u001b[34m#metrics {\"StartTime\": 1695171711.7599995, \"EndTime\": 1695171711.7600093, \"Dimensions\": {\"Algorithm\": \"Linear Learner\", \"Host\": \"algo-1\", \"Operation\": \"training\", \"epoch\": 2, \"model\": 2}, \"Metrics\": {\"train_absolute_loss_objective\": {\"sum\": 0.7207839393615723, \"count\": 1, \"min\": 0.7207839393615723, \"max\": 0.7207839393615723}}}\u001b[0m\n",
      "\u001b[34m#metrics {\"StartTime\": 1695171711.7600574, \"EndTime\": 1695171711.7600715, \"Dimensions\": {\"Algorithm\": \"Linear Learner\", \"Host\": \"algo-1\", \"Operation\": \"training\", \"epoch\": 2, \"model\": 3}, \"Metrics\": {\"train_absolute_loss_objective\": {\"sum\": 0.7005667686462402, \"count\": 1, \"min\": 0.7005667686462402, \"max\": 0.7005667686462402}}}\u001b[0m\n",
      "\u001b[34m#metrics {\"StartTime\": 1695171711.760134, \"EndTime\": 1695171711.7601516, \"Dimensions\": {\"Algorithm\": \"Linear Learner\", \"Host\": \"algo-1\", \"Operation\": \"training\", \"epoch\": 2, \"model\": 4}, \"Metrics\": {\"train_absolute_loss_objective\": {\"sum\": 0.29918402671813965, \"count\": 1, \"min\": 0.29918402671813965, \"max\": 0.29918402671813965}}}\u001b[0m\n",
      "\u001b[34m#metrics {\"StartTime\": 1695171711.760239, \"EndTime\": 1695171711.7602568, \"Dimensions\": {\"Algorithm\": \"Linear Learner\", \"Host\": \"algo-1\", \"Operation\": \"training\", \"epoch\": 2, \"model\": 5}, \"Metrics\": {\"train_absolute_loss_objective\": {\"sum\": 0.28353980302810666, \"count\": 1, \"min\": 0.28353980302810666, \"max\": 0.28353980302810666}}}\u001b[0m\n",
      "\u001b[34m#metrics {\"StartTime\": 1695171711.7603152, \"EndTime\": 1695171711.760333, \"Dimensions\": {\"Algorithm\": \"Linear Learner\", \"Host\": \"algo-1\", \"Operation\": \"training\", \"epoch\": 2, \"model\": 6}, \"Metrics\": {\"train_absolute_loss_objective\": {\"sum\": 0.3008308076858521, \"count\": 1, \"min\": 0.3008308076858521, \"max\": 0.3008308076858521}}}\u001b[0m\n",
      "\u001b[34m#metrics {\"StartTime\": 1695171711.7603865, \"EndTime\": 1695171711.760403, \"Dimensions\": {\"Algorithm\": \"Linear Learner\", \"Host\": \"algo-1\", \"Operation\": \"training\", \"epoch\": 2, \"model\": 7}, \"Metrics\": {\"train_absolute_loss_objective\": {\"sum\": 0.29292916774749755, \"count\": 1, \"min\": 0.29292916774749755, \"max\": 0.29292916774749755}}}\u001b[0m\n",
      "\u001b[34m#metrics {\"StartTime\": 1695171711.760472, \"EndTime\": 1695171711.7604897, \"Dimensions\": {\"Algorithm\": \"Linear Learner\", \"Host\": \"algo-1\", \"Operation\": \"training\", \"epoch\": 2, \"model\": 8}, \"Metrics\": {\"train_absolute_loss_objective\": {\"sum\": 0.7504889583587646, \"count\": 1, \"min\": 0.7504889583587646, \"max\": 0.7504889583587646}}}\u001b[0m\n",
      "\u001b[34m#metrics {\"StartTime\": 1695171711.7605484, \"EndTime\": 1695171711.760565, \"Dimensions\": {\"Algorithm\": \"Linear Learner\", \"Host\": \"algo-1\", \"Operation\": \"training\", \"epoch\": 2, \"model\": 9}, \"Metrics\": {\"train_absolute_loss_objective\": {\"sum\": 0.6835729789733886, \"count\": 1, \"min\": 0.6835729789733886, \"max\": 0.6835729789733886}}}\u001b[0m\n",
      "\u001b[34m#metrics {\"StartTime\": 1695171711.7606332, \"EndTime\": 1695171711.760651, \"Dimensions\": {\"Algorithm\": \"Linear Learner\", \"Host\": \"algo-1\", \"Operation\": \"training\", \"epoch\": 2, \"model\": 10}, \"Metrics\": {\"train_absolute_loss_objective\": {\"sum\": 0.6878383445739746, \"count\": 1, \"min\": 0.6878383445739746, \"max\": 0.6878383445739746}}}\u001b[0m\n",
      "\u001b[34m#metrics {\"StartTime\": 1695171711.7607198, \"EndTime\": 1695171711.7607374, \"Dimensions\": {\"Algorithm\": \"Linear Learner\", \"Host\": \"algo-1\", \"Operation\": \"training\", \"epoch\": 2, \"model\": 11}, \"Metrics\": {\"train_absolute_loss_objective\": {\"sum\": 0.6983855438232421, \"count\": 1, \"min\": 0.6983855438232421, \"max\": 0.6983855438232421}}}\u001b[0m\n",
      "\u001b[34m#metrics {\"StartTime\": 1695171711.7607985, \"EndTime\": 1695171711.7608147, \"Dimensions\": {\"Algorithm\": \"Linear Learner\", \"Host\": \"algo-1\", \"Operation\": \"training\", \"epoch\": 2, \"model\": 12}, \"Metrics\": {\"train_absolute_loss_objective\": {\"sum\": 0.29254804372787474, \"count\": 1, \"min\": 0.29254804372787474, \"max\": 0.29254804372787474}}}\u001b[0m\n",
      "\u001b[34m#metrics {\"StartTime\": 1695171711.7608838, \"EndTime\": 1695171711.7609026, \"Dimensions\": {\"Algorithm\": \"Linear Learner\", \"Host\": \"algo-1\", \"Operation\": \"training\", \"epoch\": 2, \"model\": 13}, \"Metrics\": {\"train_absolute_loss_objective\": {\"sum\": 0.30072770833969115, \"count\": 1, \"min\": 0.30072770833969115, \"max\": 0.30072770833969115}}}\u001b[0m\n",
      "\u001b[34m#metrics {\"StartTime\": 1695171711.7609618, \"EndTime\": 1695171711.7609794, \"Dimensions\": {\"Algorithm\": \"Linear Learner\", \"Host\": \"algo-1\", \"Operation\": \"training\", \"epoch\": 2, \"model\": 14}, \"Metrics\": {\"train_absolute_loss_objective\": {\"sum\": 0.29307947635650633, \"count\": 1, \"min\": 0.29307947635650633, \"max\": 0.29307947635650633}}}\u001b[0m\n",
      "\u001b[34m#metrics {\"StartTime\": 1695171711.761034, \"EndTime\": 1695171711.7610495, \"Dimensions\": {\"Algorithm\": \"Linear Learner\", \"Host\": \"algo-1\", \"Operation\": \"training\", \"epoch\": 2, \"model\": 15}, \"Metrics\": {\"train_absolute_loss_objective\": {\"sum\": 0.2987388277053833, \"count\": 1, \"min\": 0.2987388277053833, \"max\": 0.2987388277053833}}}\u001b[0m\n",
      "\u001b[34m#metrics {\"StartTime\": 1695171711.761108, \"EndTime\": 1695171711.761125, \"Dimensions\": {\"Algorithm\": \"Linear Learner\", \"Host\": \"algo-1\", \"Operation\": \"training\", \"epoch\": 2, \"model\": 16}, \"Metrics\": {\"train_absolute_loss_objective\": {\"sum\": 0.6931746006011963, \"count\": 1, \"min\": 0.6931746006011963, \"max\": 0.6931746006011963}}}\u001b[0m\n",
      "\u001b[34m#metrics {\"StartTime\": 1695171711.7611928, \"EndTime\": 1695171711.7612116, \"Dimensions\": {\"Algorithm\": \"Linear Learner\", \"Host\": \"algo-1\", \"Operation\": \"training\", \"epoch\": 2, \"model\": 17}, \"Metrics\": {\"train_absolute_loss_objective\": {\"sum\": 0.6788203573226929, \"count\": 1, \"min\": 0.6788203573226929, \"max\": 0.6788203573226929}}}\u001b[0m\n",
      "\u001b[34m#metrics {\"StartTime\": 1695171711.7612705, \"EndTime\": 1695171711.7612875, \"Dimensions\": {\"Algorithm\": \"Linear Learner\", \"Host\": \"algo-1\", \"Operation\": \"training\", \"epoch\": 2, \"model\": 18}, \"Metrics\": {\"train_absolute_loss_objective\": {\"sum\": 0.7311014652252197, \"count\": 1, \"min\": 0.7311014652252197, \"max\": 0.7311014652252197}}}\u001b[0m\n",
      "\u001b[34m#metrics {\"StartTime\": 1695171711.7613618, \"EndTime\": 1695171711.7613795, \"Dimensions\": {\"Algorithm\": \"Linear Learner\", \"Host\": \"algo-1\", \"Operation\": \"training\", \"epoch\": 2, \"model\": 19}, \"Metrics\": {\"train_absolute_loss_objective\": {\"sum\": 0.6824509716033935, \"count\": 1, \"min\": 0.6824509716033935, \"max\": 0.6824509716033935}}}\u001b[0m\n",
      "\u001b[34m#metrics {\"StartTime\": 1695171711.7614393, \"EndTime\": 1695171711.761455, \"Dimensions\": {\"Algorithm\": \"Linear Learner\", \"Host\": \"algo-1\", \"Operation\": \"training\", \"epoch\": 2, \"model\": 20}, \"Metrics\": {\"train_absolute_loss_objective\": {\"sum\": 0.4507199811935425, \"count\": 1, \"min\": 0.4507199811935425, \"max\": 0.4507199811935425}}}\u001b[0m\n",
      "\u001b[34m#metrics {\"StartTime\": 1695171711.7615132, \"EndTime\": 1695171711.7615294, \"Dimensions\": {\"Algorithm\": \"Linear Learner\", \"Host\": \"algo-1\", \"Operation\": \"training\", \"epoch\": 2, \"model\": 21}, \"Metrics\": {\"train_absolute_loss_objective\": {\"sum\": 0.43246849536895754, \"count\": 1, \"min\": 0.43246849536895754, \"max\": 0.43246849536895754}}}\u001b[0m\n",
      "\u001b[34m#metrics {\"StartTime\": 1695171711.76159, \"EndTime\": 1695171711.7616076, \"Dimensions\": {\"Algorithm\": \"Linear Learner\", \"Host\": \"algo-1\", \"Operation\": \"training\", \"epoch\": 2, \"model\": 22}, \"Metrics\": {\"train_absolute_loss_objective\": {\"sum\": 0.4332115888595581, \"count\": 1, \"min\": 0.4332115888595581, \"max\": 0.4332115888595581}}}\u001b[0m\n",
      "\u001b[34m#metrics {\"StartTime\": 1695171711.7616746, \"EndTime\": 1695171711.7616928, \"Dimensions\": {\"Algorithm\": \"Linear Learner\", \"Host\": \"algo-1\", \"Operation\": \"training\", \"epoch\": 2, \"model\": 23}, \"Metrics\": {\"train_absolute_loss_objective\": {\"sum\": 0.43836562633514403, \"count\": 1, \"min\": 0.43836562633514403, \"max\": 0.43836562633514403}}}\u001b[0m\n",
      "\u001b[34m#metrics {\"StartTime\": 1695171711.7617624, \"EndTime\": 1695171711.7617795, \"Dimensions\": {\"Algorithm\": \"Linear Learner\", \"Host\": \"algo-1\", \"Operation\": \"training\", \"epoch\": 2, \"model\": 24}, \"Metrics\": {\"train_absolute_loss_objective\": {\"sum\": 0.7993609142303467, \"count\": 1, \"min\": 0.7993609142303467, \"max\": 0.7993609142303467}}}\u001b[0m\n",
      "\u001b[34m#metrics {\"StartTime\": 1695171711.7618482, \"EndTime\": 1695171711.761865, \"Dimensions\": {\"Algorithm\": \"Linear Learner\", \"Host\": \"algo-1\", \"Operation\": \"training\", \"epoch\": 2, \"model\": 25}, \"Metrics\": {\"train_absolute_loss_objective\": {\"sum\": 0.8123233890533448, \"count\": 1, \"min\": 0.8123233890533448, \"max\": 0.8123233890533448}}}\u001b[0m\n",
      "\u001b[34m#metrics {\"StartTime\": 1695171711.7620227, \"EndTime\": 1695171711.762044, \"Dimensions\": {\"Algorithm\": \"Linear Learner\", \"Host\": \"algo-1\", \"Operation\": \"training\", \"epoch\": 2, \"model\": 26}, \"Metrics\": {\"train_absolute_loss_objective\": {\"sum\": 0.8026998519897461, \"count\": 1, \"min\": 0.8026998519897461, \"max\": 0.8026998519897461}}}\u001b[0m\n",
      "\u001b[34m#metrics {\"StartTime\": 1695171711.7622225, \"EndTime\": 1695171711.7622433, \"Dimensions\": {\"Algorithm\": \"Linear Learner\", \"Host\": \"algo-1\", \"Operation\": \"training\", \"epoch\": 2, \"model\": 27}, \"Metrics\": {\"train_absolute_loss_objective\": {\"sum\": 0.8141697120666503, \"count\": 1, \"min\": 0.8141697120666503, \"max\": 0.8141697120666503}}}\u001b[0m\n",
      "\u001b[34m#metrics {\"StartTime\": 1695171711.7623036, \"EndTime\": 1695171711.7623203, \"Dimensions\": {\"Algorithm\": \"Linear Learner\", \"Host\": \"algo-1\", \"Operation\": \"training\", \"epoch\": 2, \"model\": 28}, \"Metrics\": {\"train_absolute_loss_objective\": {\"sum\": 0.8292032814025879, \"count\": 1, \"min\": 0.8292032814025879, \"max\": 0.8292032814025879}}}\u001b[0m\n",
      "\u001b[34m#metrics {\"StartTime\": 1695171711.7623887, \"EndTime\": 1695171711.7624056, \"Dimensions\": {\"Algorithm\": \"Linear Learner\", \"Host\": \"algo-1\", \"Operation\": \"training\", \"epoch\": 2, \"model\": 29}, \"Metrics\": {\"train_absolute_loss_objective\": {\"sum\": 0.8266209411621094, \"count\": 1, \"min\": 0.8266209411621094, \"max\": 0.8266209411621094}}}\u001b[0m\n",
      "\u001b[34m#metrics {\"StartTime\": 1695171711.7624724, \"EndTime\": 1695171711.7624893, \"Dimensions\": {\"Algorithm\": \"Linear Learner\", \"Host\": \"algo-1\", \"Operation\": \"training\", \"epoch\": 2, \"model\": 30}, \"Metrics\": {\"train_absolute_loss_objective\": {\"sum\": 0.8270508575439454, \"count\": 1, \"min\": 0.8270508575439454, \"max\": 0.8270508575439454}}}\u001b[0m\n",
      "\u001b[34m#metrics {\"StartTime\": 1695171711.7625563, \"EndTime\": 1695171711.7625728, \"Dimensions\": {\"Algorithm\": \"Linear Learner\", \"Host\": \"algo-1\", \"Operation\": \"training\", \"epoch\": 2, \"model\": 31}, \"Metrics\": {\"train_absolute_loss_objective\": {\"sum\": 0.824782772064209, \"count\": 1, \"min\": 0.824782772064209, \"max\": 0.824782772064209}}}\u001b[0m\n",
      "\u001b[34m[09/20/2023 01:01:51 INFO 140100470376256] #quality_metric: host=algo-1, epoch=2, train absolute_loss_objective <loss>=0.7101353549957276\u001b[0m\n",
      "\u001b[34m[09/20/2023 01:01:51 INFO 140100470376256] #early_stopping_criteria_metric: host=algo-1, epoch=2, criteria=absolute_loss_objective, value=0.28353980302810666\u001b[0m\n",
      "\u001b[34m[09/20/2023 01:01:51 INFO 140100470376256] Epoch 2: Loss improved. Updating best model\u001b[0m\n",
      "\u001b[34m[09/20/2023 01:01:51 INFO 140100470376256] Saving model for epoch: 2\u001b[0m\n",
      "\u001b[34m[09/20/2023 01:01:51 INFO 140100470376256] Saved checkpoint to \"/tmp/tmpzsf3ju1o/mx-mod-0000.params\"\u001b[0m\n",
      "\u001b[34m[09/20/2023 01:01:51 INFO 140100470376256] #progress_metric: host=algo-1, completed 3.0 % of epochs\u001b[0m\n",
      "\u001b[34m#metrics {\"StartTime\": 1695171711.5835772, \"EndTime\": 1695171711.773745, \"Dimensions\": {\"Algorithm\": \"Linear Learner\", \"Host\": \"algo-1\", \"Operation\": \"training\", \"epoch\": 2, \"Meta\": \"training_data_iter\"}, \"Metrics\": {\"Total Records Seen\": {\"sum\": 3300.0, \"count\": 1, \"min\": 3300, \"max\": 3300}, \"Total Batches Seen\": {\"sum\": 33.0, \"count\": 1, \"min\": 33, \"max\": 33}, \"Max Records Seen Between Resets\": {\"sum\": 800.0, \"count\": 1, \"min\": 800, \"max\": 800}, \"Max Batches Seen Between Resets\": {\"sum\": 8.0, \"count\": 1, \"min\": 8, \"max\": 8}, \"Reset Count\": {\"sum\": 5.0, \"count\": 1, \"min\": 5, \"max\": 5}, \"Number of Records Since Last Reset\": {\"sum\": 800.0, \"count\": 1, \"min\": 800, \"max\": 800}, \"Number of Batches Since Last Reset\": {\"sum\": 8.0, \"count\": 1, \"min\": 8, \"max\": 8}}}\u001b[0m\n",
      "\u001b[34m[09/20/2023 01:01:51 INFO 140100470376256] #throughput_metric: host=algo-1, train throughput=4201.820005534901 records/second\u001b[0m\n",
      "\u001b[34m[2023-09-20 01:01:51.942] [tensorio] [info] epoch_stats={\"data_pipeline\": \"/opt/ml/input/data/train\", \"epoch\": 10, \"duration\": 168, \"num_examples\": 8, \"num_bytes\": 41600}\u001b[0m\n",
      "\u001b[34m#metrics {\"StartTime\": 1695171711.942767, \"EndTime\": 1695171711.9428508, \"Dimensions\": {\"Algorithm\": \"Linear Learner\", \"Host\": \"algo-1\", \"Operation\": \"training\", \"epoch\": 3, \"model\": 0}, \"Metrics\": {\"train_absolute_loss_objective\": {\"sum\": 0.6746856260299683, \"count\": 1, \"min\": 0.6746856260299683, \"max\": 0.6746856260299683}}}\u001b[0m\n",
      "\u001b[34m#metrics {\"StartTime\": 1695171711.9429483, \"EndTime\": 1695171711.9429722, \"Dimensions\": {\"Algorithm\": \"Linear Learner\", \"Host\": \"algo-1\", \"Operation\": \"training\", \"epoch\": 3, \"model\": 1}, \"Metrics\": {\"train_absolute_loss_objective\": {\"sum\": 0.6784464645385743, \"count\": 1, \"min\": 0.6784464645385743, \"max\": 0.6784464645385743}}}\u001b[0m\n",
      "\u001b[34m#metrics {\"StartTime\": 1695171711.9430428, \"EndTime\": 1695171711.9430616, \"Dimensions\": {\"Algorithm\": \"Linear Learner\", \"Host\": \"algo-1\", \"Operation\": \"training\", \"epoch\": 3, \"model\": 2}, \"Metrics\": {\"train_absolute_loss_objective\": {\"sum\": 0.6850514888763428, \"count\": 1, \"min\": 0.6850514888763428, \"max\": 0.6850514888763428}}}\u001b[0m\n",
      "\u001b[34m#metrics {\"StartTime\": 1695171711.9431157, \"EndTime\": 1695171711.9431326, \"Dimensions\": {\"Algorithm\": \"Linear Learner\", \"Host\": \"algo-1\", \"Operation\": \"training\", \"epoch\": 3, \"model\": 3}, \"Metrics\": {\"train_absolute_loss_objective\": {\"sum\": 0.6644626760482788, \"count\": 1, \"min\": 0.6644626760482788, \"max\": 0.6644626760482788}}}\u001b[0m\n",
      "\u001b[34m#metrics {\"StartTime\": 1695171711.943191, \"EndTime\": 1695171711.9432077, \"Dimensions\": {\"Algorithm\": \"Linear Learner\", \"Host\": \"algo-1\", \"Operation\": \"training\", \"epoch\": 3, \"model\": 4}, \"Metrics\": {\"train_absolute_loss_objective\": {\"sum\": 0.26882716417312624, \"count\": 1, \"min\": 0.26882716417312624, \"max\": 0.26882716417312624}}}\u001b[0m\n",
      "\u001b[34m#metrics {\"StartTime\": 1695171711.9432592, \"EndTime\": 1695171711.9432752, \"Dimensions\": {\"Algorithm\": \"Linear Learner\", \"Host\": \"algo-1\", \"Operation\": \"training\", \"epoch\": 3, \"model\": 5}, \"Metrics\": {\"train_absolute_loss_objective\": {\"sum\": 0.26608895540237426, \"count\": 1, \"min\": 0.26608895540237426, \"max\": 0.26608895540237426}}}\u001b[0m\n",
      "\u001b[34m#metrics {\"StartTime\": 1695171711.9433646, \"EndTime\": 1695171711.9433837, \"Dimensions\": {\"Algorithm\": \"Linear Learner\", \"Host\": \"algo-1\", \"Operation\": \"training\", \"epoch\": 3, \"model\": 6}, \"Metrics\": {\"train_absolute_loss_objective\": {\"sum\": 0.2690208601951599, \"count\": 1, \"min\": 0.2690208601951599, \"max\": 0.2690208601951599}}}\u001b[0m\n",
      "\u001b[34m#metrics {\"StartTime\": 1695171711.9434392, \"EndTime\": 1695171711.9434555, \"Dimensions\": {\"Algorithm\": \"Linear Learner\", \"Host\": \"algo-1\", \"Operation\": \"training\", \"epoch\": 3, \"model\": 7}, \"Metrics\": {\"train_absolute_loss_objective\": {\"sum\": 0.271156485080719, \"count\": 1, \"min\": 0.271156485080719, \"max\": 0.271156485080719}}}\u001b[0m\n",
      "\u001b[34m#metrics {\"StartTime\": 1695171711.9435072, \"EndTime\": 1695171711.9435222, \"Dimensions\": {\"Algorithm\": \"Linear Learner\", \"Host\": \"algo-1\", \"Operation\": \"training\", \"epoch\": 3, \"model\": 8}, \"Metrics\": {\"train_absolute_loss_objective\": {\"sum\": 0.7140382862091065, \"count\": 1, \"min\": 0.7140382862091065, \"max\": 0.7140382862091065}}}\u001b[0m\n",
      "\u001b[34m#metrics {\"StartTime\": 1695171711.9435759, \"EndTime\": 1695171711.9435923, \"Dimensions\": {\"Algorithm\": \"Linear Learner\", \"Host\": \"algo-1\", \"Operation\": \"training\", \"epoch\": 3, \"model\": 9}, \"Metrics\": {\"train_absolute_loss_objective\": {\"sum\": 0.647906084060669, \"count\": 1, \"min\": 0.647906084060669, \"max\": 0.647906084060669}}}\u001b[0m\n",
      "\u001b[34m#metrics {\"StartTime\": 1695171711.943638, \"EndTime\": 1695171711.9436536, \"Dimensions\": {\"Algorithm\": \"Linear Learner\", \"Host\": \"algo-1\", \"Operation\": \"training\", \"epoch\": 3, \"model\": 10}, \"Metrics\": {\"train_absolute_loss_objective\": {\"sum\": 0.6531003284454345, \"count\": 1, \"min\": 0.6531003284454345, \"max\": 0.6531003284454345}}}\u001b[0m\n",
      "\u001b[34m#metrics {\"StartTime\": 1695171711.943703, \"EndTime\": 1695171711.9437182, \"Dimensions\": {\"Algorithm\": \"Linear Learner\", \"Host\": \"algo-1\", \"Operation\": \"training\", \"epoch\": 3, \"model\": 11}, \"Metrics\": {\"train_absolute_loss_objective\": {\"sum\": 0.6632579135894775, \"count\": 1, \"min\": 0.6632579135894775, \"max\": 0.6632579135894775}}}\u001b[0m\n",
      "\u001b[34m#metrics {\"StartTime\": 1695171711.943769, \"EndTime\": 1695171711.9437852, \"Dimensions\": {\"Algorithm\": \"Linear Learner\", \"Host\": \"algo-1\", \"Operation\": \"training\", \"epoch\": 3, \"model\": 12}, \"Metrics\": {\"train_absolute_loss_objective\": {\"sum\": 0.2667729473114014, \"count\": 1, \"min\": 0.2667729473114014, \"max\": 0.2667729473114014}}}\u001b[0m\n",
      "\u001b[34m#metrics {\"StartTime\": 1695171711.9438403, \"EndTime\": 1695171711.943857, \"Dimensions\": {\"Algorithm\": \"Linear Learner\", \"Host\": \"algo-1\", \"Operation\": \"training\", \"epoch\": 3, \"model\": 13}, \"Metrics\": {\"train_absolute_loss_objective\": {\"sum\": 0.2679432821273804, \"count\": 1, \"min\": 0.2679432821273804, \"max\": 0.2679432821273804}}}\u001b[0m\n",
      "\u001b[34m#metrics {\"StartTime\": 1695171711.943912, \"EndTime\": 1695171711.9439275, \"Dimensions\": {\"Algorithm\": \"Linear Learner\", \"Host\": \"algo-1\", \"Operation\": \"training\", \"epoch\": 3, \"model\": 14}, \"Metrics\": {\"train_absolute_loss_objective\": {\"sum\": 0.2691359233856201, \"count\": 1, \"min\": 0.2691359233856201, \"max\": 0.2691359233856201}}}\u001b[0m\n",
      "\u001b[34m#metrics {\"StartTime\": 1695171711.943979, \"EndTime\": 1695171711.9439957, \"Dimensions\": {\"Algorithm\": \"Linear Learner\", \"Host\": \"algo-1\", \"Operation\": \"training\", \"epoch\": 3, \"model\": 15}, \"Metrics\": {\"train_absolute_loss_objective\": {\"sum\": 0.27232627630233763, \"count\": 1, \"min\": 0.27232627630233763, \"max\": 0.27232627630233763}}}\u001b[0m\n",
      "\u001b[34m#metrics {\"StartTime\": 1695171711.9440515, \"EndTime\": 1695171711.9440687, \"Dimensions\": {\"Algorithm\": \"Linear Learner\", \"Host\": \"algo-1\", \"Operation\": \"training\", \"epoch\": 3, \"model\": 16}, \"Metrics\": {\"train_absolute_loss_objective\": {\"sum\": 0.658008337020874, \"count\": 1, \"min\": 0.658008337020874, \"max\": 0.658008337020874}}}\u001b[0m\n",
      "\u001b[34m#metrics {\"StartTime\": 1695171711.944119, \"EndTime\": 1695171711.9441347, \"Dimensions\": {\"Algorithm\": \"Linear Learner\", \"Host\": \"algo-1\", \"Operation\": \"training\", \"epoch\": 3, \"model\": 17}, \"Metrics\": {\"train_absolute_loss_objective\": {\"sum\": 0.6438360500335694, \"count\": 1, \"min\": 0.6438360500335694, \"max\": 0.6438360500335694}}}\u001b[0m\n",
      "\u001b[34m#metrics {\"StartTime\": 1695171711.9442194, \"EndTime\": 1695171711.9442394, \"Dimensions\": {\"Algorithm\": \"Linear Learner\", \"Host\": \"algo-1\", \"Operation\": \"training\", \"epoch\": 3, \"model\": 18}, \"Metrics\": {\"train_absolute_loss_objective\": {\"sum\": 0.6974016189575195, \"count\": 1, \"min\": 0.6974016189575195, \"max\": 0.6974016189575195}}}\u001b[0m\n",
      "\u001b[34m#metrics {\"StartTime\": 1695171711.9442985, \"EndTime\": 1695171711.9443147, \"Dimensions\": {\"Algorithm\": \"Linear Learner\", \"Host\": \"algo-1\", \"Operation\": \"training\", \"epoch\": 3, \"model\": 19}, \"Metrics\": {\"train_absolute_loss_objective\": {\"sum\": 0.6500103712081909, \"count\": 1, \"min\": 0.6500103712081909, \"max\": 0.6500103712081909}}}\u001b[0m\n",
      "\u001b[34m#metrics {\"StartTime\": 1695171711.9443715, \"EndTime\": 1695171711.9443874, \"Dimensions\": {\"Algorithm\": \"Linear Learner\", \"Host\": \"algo-1\", \"Operation\": \"training\", \"epoch\": 3, \"model\": 20}, \"Metrics\": {\"train_absolute_loss_objective\": {\"sum\": 0.3934770202636719, \"count\": 1, \"min\": 0.3934770202636719, \"max\": 0.3934770202636719}}}\u001b[0m\n",
      "\u001b[34m#metrics {\"StartTime\": 1695171711.944439, \"EndTime\": 1695171711.9444556, \"Dimensions\": {\"Algorithm\": \"Linear Learner\", \"Host\": \"algo-1\", \"Operation\": \"training\", \"epoch\": 3, \"model\": 21}, \"Metrics\": {\"train_absolute_loss_objective\": {\"sum\": 0.39095178604125974, \"count\": 1, \"min\": 0.39095178604125974, \"max\": 0.39095178604125974}}}\u001b[0m\n",
      "\u001b[34m#metrics {\"StartTime\": 1695171711.9445078, \"EndTime\": 1695171711.9445236, \"Dimensions\": {\"Algorithm\": \"Linear Learner\", \"Host\": \"algo-1\", \"Operation\": \"training\", \"epoch\": 3, \"model\": 22}, \"Metrics\": {\"train_absolute_loss_objective\": {\"sum\": 0.41416253089904786, \"count\": 1, \"min\": 0.41416253089904786, \"max\": 0.41416253089904786}}}\u001b[0m\n",
      "\u001b[34m#metrics {\"StartTime\": 1695171711.9445784, \"EndTime\": 1695171711.9445946, \"Dimensions\": {\"Algorithm\": \"Linear Learner\", \"Host\": \"algo-1\", \"Operation\": \"training\", \"epoch\": 3, \"model\": 23}, \"Metrics\": {\"train_absolute_loss_objective\": {\"sum\": 0.4225878667831421, \"count\": 1, \"min\": 0.4225878667831421, \"max\": 0.4225878667831421}}}\u001b[0m\n",
      "\u001b[34m#metrics {\"StartTime\": 1695171711.944646, \"EndTime\": 1695171711.9446623, \"Dimensions\": {\"Algorithm\": \"Linear Learner\", \"Host\": \"algo-1\", \"Operation\": \"training\", \"epoch\": 3, \"model\": 24}, \"Metrics\": {\"train_absolute_loss_objective\": {\"sum\": 0.7919052410125732, \"count\": 1, \"min\": 0.7919052410125732, \"max\": 0.7919052410125732}}}\u001b[0m\n",
      "\u001b[34m#metrics {\"StartTime\": 1695171711.9447184, \"EndTime\": 1695171711.9447346, \"Dimensions\": {\"Algorithm\": \"Linear Learner\", \"Host\": \"algo-1\", \"Operation\": \"training\", \"epoch\": 3, \"model\": 25}, \"Metrics\": {\"train_absolute_loss_objective\": {\"sum\": 0.8033117771148681, \"count\": 1, \"min\": 0.8033117771148681, \"max\": 0.8033117771148681}}}\u001b[0m\n",
      "\u001b[34m#metrics {\"StartTime\": 1695171711.9447865, \"EndTime\": 1695171711.9448016, \"Dimensions\": {\"Algorithm\": \"Linear Learner\", \"Host\": \"algo-1\", \"Operation\": \"training\", \"epoch\": 3, \"model\": 26}, \"Metrics\": {\"train_absolute_loss_objective\": {\"sum\": 0.7967754459381103, \"count\": 1, \"min\": 0.7967754459381103, \"max\": 0.7967754459381103}}}\u001b[0m\n",
      "\u001b[34m#metrics {\"StartTime\": 1695171711.9448724, \"EndTime\": 1695171711.9448893, \"Dimensions\": {\"Algorithm\": \"Linear Learner\", \"Host\": \"algo-1\", \"Operation\": \"training\", \"epoch\": 3, \"model\": 27}, \"Metrics\": {\"train_absolute_loss_objective\": {\"sum\": 0.8040549755096436, \"count\": 1, \"min\": 0.8040549755096436, \"max\": 0.8040549755096436}}}\u001b[0m\n",
      "\u001b[34m#metrics {\"StartTime\": 1695171711.9449592, \"EndTime\": 1695171711.9449778, \"Dimensions\": {\"Algorithm\": \"Linear Learner\", \"Host\": \"algo-1\", \"Operation\": \"training\", \"epoch\": 3, \"model\": 28}, \"Metrics\": {\"train_absolute_loss_objective\": {\"sum\": 0.8111917209625245, \"count\": 1, \"min\": 0.8111917209625245, \"max\": 0.8111917209625245}}}\u001b[0m\n",
      "\u001b[34m#metrics {\"StartTime\": 1695171711.9450922, \"EndTime\": 1695171711.9451125, \"Dimensions\": {\"Algorithm\": \"Linear Learner\", \"Host\": \"algo-1\", \"Operation\": \"training\", \"epoch\": 3, \"model\": 29}, \"Metrics\": {\"train_absolute_loss_objective\": {\"sum\": 0.8140314292907714, \"count\": 1, \"min\": 0.8140314292907714, \"max\": 0.8140314292907714}}}\u001b[0m\n",
      "\u001b[34m#metrics {\"StartTime\": 1695171711.9451904, \"EndTime\": 1695171711.9452076, \"Dimensions\": {\"Algorithm\": \"Linear Learner\", \"Host\": \"algo-1\", \"Operation\": \"training\", \"epoch\": 3, \"model\": 30}, \"Metrics\": {\"train_absolute_loss_objective\": {\"sum\": 0.8164872360229493, \"count\": 1, \"min\": 0.8164872360229493, \"max\": 0.8164872360229493}}}\u001b[0m\n",
      "\u001b[34m#metrics {\"StartTime\": 1695171711.945353, \"EndTime\": 1695171711.9453769, \"Dimensions\": {\"Algorithm\": \"Linear Learner\", \"Host\": \"algo-1\", \"Operation\": \"training\", \"epoch\": 3, \"model\": 31}, \"Metrics\": {\"train_absolute_loss_objective\": {\"sum\": 0.8092873859405517, \"count\": 1, \"min\": 0.8092873859405517, \"max\": 0.8092873859405517}}}\u001b[0m\n",
      "\u001b[34m[09/20/2023 01:01:51 INFO 140100470376256] #quality_metric: host=algo-1, epoch=3, train absolute_loss_objective <loss>=0.6746856260299683\u001b[0m\n",
      "\u001b[34m[09/20/2023 01:01:51 INFO 140100470376256] #early_stopping_criteria_metric: host=algo-1, epoch=3, criteria=absolute_loss_objective, value=0.26608895540237426\u001b[0m\n",
      "\u001b[34m[09/20/2023 01:01:51 INFO 140100470376256] Epoch 3: Loss improved. Updating best model\u001b[0m\n",
      "\u001b[34m[09/20/2023 01:01:51 INFO 140100470376256] Saving model for epoch: 3\u001b[0m\n",
      "\u001b[34m[09/20/2023 01:01:51 INFO 140100470376256] Saved checkpoint to \"/tmp/tmp7rebt4ob/mx-mod-0000.params\"\u001b[0m\n",
      "\u001b[34m[09/20/2023 01:01:51 INFO 140100470376256] #progress_metric: host=algo-1, completed 4.0 % of epochs\u001b[0m\n",
      "\u001b[34m#metrics {\"StartTime\": 1695171711.7742167, \"EndTime\": 1695171711.9551423, \"Dimensions\": {\"Algorithm\": \"Linear Learner\", \"Host\": \"algo-1\", \"Operation\": \"training\", \"epoch\": 3, \"Meta\": \"training_data_iter\"}, \"Metrics\": {\"Total Records Seen\": {\"sum\": 4100.0, \"count\": 1, \"min\": 4100, \"max\": 4100}, \"Total Batches Seen\": {\"sum\": 41.0, \"count\": 1, \"min\": 41, \"max\": 41}, \"Max Records Seen Between Resets\": {\"sum\": 800.0, \"count\": 1, \"min\": 800, \"max\": 800}, \"Max Batches Seen Between Resets\": {\"sum\": 8.0, \"count\": 1, \"min\": 8, \"max\": 8}, \"Reset Count\": {\"sum\": 6.0, \"count\": 1, \"min\": 6, \"max\": 6}, \"Number of Records Since Last Reset\": {\"sum\": 800.0, \"count\": 1, \"min\": 800, \"max\": 800}, \"Number of Batches Since Last Reset\": {\"sum\": 8.0, \"count\": 1, \"min\": 8, \"max\": 8}}}\u001b[0m\n",
      "\u001b[34m[09/20/2023 01:01:51 INFO 140100470376256] #throughput_metric: host=algo-1, train throughput=4417.777262840802 records/second\u001b[0m\n",
      "\u001b[34m[2023-09-20 01:01:52.180] [tensorio] [info] epoch_stats={\"data_pipeline\": \"/opt/ml/input/data/train\", \"epoch\": 12, \"duration\": 224, \"num_examples\": 8, \"num_bytes\": 41600}\u001b[0m\n",
      "\u001b[34m#metrics {\"StartTime\": 1695171712.1801267, \"EndTime\": 1695171712.1802692, \"Dimensions\": {\"Algorithm\": \"Linear Learner\", \"Host\": \"algo-1\", \"Operation\": \"training\", \"epoch\": 4, \"model\": 0}, \"Metrics\": {\"train_absolute_loss_objective\": {\"sum\": 0.6410293579101562, \"count\": 1, \"min\": 0.6410293579101562, \"max\": 0.6410293579101562}}}\u001b[0m\n",
      "\u001b[34m#metrics {\"StartTime\": 1695171712.1804433, \"EndTime\": 1695171712.1804674, \"Dimensions\": {\"Algorithm\": \"Linear Learner\", \"Host\": \"algo-1\", \"Operation\": \"training\", \"epoch\": 4, \"model\": 1}, \"Metrics\": {\"train_absolute_loss_objective\": {\"sum\": 0.6431021165847778, \"count\": 1, \"min\": 0.6431021165847778, \"max\": 0.6431021165847778}}}\u001b[0m\n",
      "\u001b[34m#metrics {\"StartTime\": 1695171712.1806016, \"EndTime\": 1695171712.1806219, \"Dimensions\": {\"Algorithm\": \"Linear Learner\", \"Host\": \"algo-1\", \"Operation\": \"training\", \"epoch\": 4, \"model\": 2}, \"Metrics\": {\"train_absolute_loss_objective\": {\"sum\": 0.6513839483261108, \"count\": 1, \"min\": 0.6513839483261108, \"max\": 0.6513839483261108}}}\u001b[0m\n",
      "\u001b[34m#metrics {\"StartTime\": 1695171712.1807356, \"EndTime\": 1695171712.180755, \"Dimensions\": {\"Algorithm\": \"Linear Learner\", \"Host\": \"algo-1\", \"Operation\": \"training\", \"epoch\": 4, \"model\": 3}, \"Metrics\": {\"train_absolute_loss_objective\": {\"sum\": 0.6298173189163208, \"count\": 1, \"min\": 0.6298173189163208, \"max\": 0.6298173189163208}}}\u001b[0m\n",
      "\u001b[34m#metrics {\"StartTime\": 1695171712.1808522, \"EndTime\": 1695171712.1808689, \"Dimensions\": {\"Algorithm\": \"Linear Learner\", \"Host\": \"algo-1\", \"Operation\": \"training\", \"epoch\": 4, \"model\": 4}, \"Metrics\": {\"train_absolute_loss_objective\": {\"sum\": 0.2764268755912781, \"count\": 1, \"min\": 0.2764268755912781, \"max\": 0.2764268755912781}}}\u001b[0m\n",
      "\u001b[34m#metrics {\"StartTime\": 1695171712.1809597, \"EndTime\": 1695171712.180976, \"Dimensions\": {\"Algorithm\": \"Linear Learner\", \"Host\": \"algo-1\", \"Operation\": \"training\", \"epoch\": 4, \"model\": 5}, \"Metrics\": {\"train_absolute_loss_objective\": {\"sum\": 0.26526800155639646, \"count\": 1, \"min\": 0.26526800155639646, \"max\": 0.26526800155639646}}}\u001b[0m\n",
      "\u001b[34m#metrics {\"StartTime\": 1695171712.1810904, \"EndTime\": 1695171712.181109, \"Dimensions\": {\"Algorithm\": \"Linear Learner\", \"Host\": \"algo-1\", \"Operation\": \"training\", \"epoch\": 4, \"model\": 6}, \"Metrics\": {\"train_absolute_loss_objective\": {\"sum\": 0.26842805862426755, \"count\": 1, \"min\": 0.26842805862426755, \"max\": 0.26842805862426755}}}\u001b[0m\n",
      "\u001b[34m#metrics {\"StartTime\": 1695171712.1812255, \"EndTime\": 1695171712.1812444, \"Dimensions\": {\"Algorithm\": \"Linear Learner\", \"Host\": \"algo-1\", \"Operation\": \"training\", \"epoch\": 4, \"model\": 7}, \"Metrics\": {\"train_absolute_loss_objective\": {\"sum\": 0.2763985085487366, \"count\": 1, \"min\": 0.2763985085487366, \"max\": 0.2763985085487366}}}\u001b[0m\n",
      "\u001b[34m#metrics {\"StartTime\": 1695171712.1813726, \"EndTime\": 1695171712.1813915, \"Dimensions\": {\"Algorithm\": \"Linear Learner\", \"Host\": \"algo-1\", \"Operation\": \"training\", \"epoch\": 4, \"model\": 8}, \"Metrics\": {\"train_absolute_loss_objective\": {\"sum\": 0.6782445383071899, \"count\": 1, \"min\": 0.6782445383071899, \"max\": 0.6782445383071899}}}\u001b[0m\n",
      "\u001b[34m#metrics {\"StartTime\": 1695171712.1815012, \"EndTime\": 1695171712.1815193, \"Dimensions\": {\"Algorithm\": \"Linear Learner\", \"Host\": \"algo-1\", \"Operation\": \"training\", \"epoch\": 4, \"model\": 9}, \"Metrics\": {\"train_absolute_loss_objective\": {\"sum\": 0.6139552497863769, \"count\": 1, \"min\": 0.6139552497863769, \"max\": 0.6139552497863769}}}\u001b[0m\n",
      "\u001b[34m#metrics {\"StartTime\": 1695171712.1816268, \"EndTime\": 1695171712.1816452, \"Dimensions\": {\"Algorithm\": \"Linear Learner\", \"Host\": \"algo-1\", \"Operation\": \"training\", \"epoch\": 4, \"model\": 10}, \"Metrics\": {\"train_absolute_loss_objective\": {\"sum\": 0.6202230644226074, \"count\": 1, \"min\": 0.6202230644226074, \"max\": 0.6202230644226074}}}\u001b[0m\n",
      "\u001b[34m#metrics {\"StartTime\": 1695171712.1817567, \"EndTime\": 1695171712.181775, \"Dimensions\": {\"Algorithm\": \"Linear Learner\", \"Host\": \"algo-1\", \"Operation\": \"training\", \"epoch\": 4, \"model\": 11}, \"Metrics\": {\"train_absolute_loss_objective\": {\"sum\": 0.6298299741744995, \"count\": 1, \"min\": 0.6298299741744995, \"max\": 0.6298299741744995}}}\u001b[0m\n",
      "\u001b[34m#metrics {\"StartTime\": 1695171712.1818824, \"EndTime\": 1695171712.1819005, \"Dimensions\": {\"Algorithm\": \"Linear Learner\", \"Host\": \"algo-1\", \"Operation\": \"training\", \"epoch\": 4, \"model\": 12}, \"Metrics\": {\"train_absolute_loss_objective\": {\"sum\": 0.26635286808013914, \"count\": 1, \"min\": 0.26635286808013914, \"max\": 0.26635286808013914}}}\u001b[0m\n",
      "\u001b[34m#metrics {\"StartTime\": 1695171712.1820204, \"EndTime\": 1695171712.1820385, \"Dimensions\": {\"Algorithm\": \"Linear Learner\", \"Host\": \"algo-1\", \"Operation\": \"training\", \"epoch\": 4, \"model\": 13}, \"Metrics\": {\"train_absolute_loss_objective\": {\"sum\": 0.2680516242980957, \"count\": 1, \"min\": 0.2680516242980957, \"max\": 0.2680516242980957}}}\u001b[0m\n",
      "\u001b[34m#metrics {\"StartTime\": 1695171712.182147, \"EndTime\": 1695171712.182165, \"Dimensions\": {\"Algorithm\": \"Linear Learner\", \"Host\": \"algo-1\", \"Operation\": \"training\", \"epoch\": 4, \"model\": 14}, \"Metrics\": {\"train_absolute_loss_objective\": {\"sum\": 0.26803552627563476, \"count\": 1, \"min\": 0.26803552627563476, \"max\": 0.26803552627563476}}}\u001b[0m\n",
      "\u001b[34m#metrics {\"StartTime\": 1695171712.1822767, \"EndTime\": 1695171712.1822946, \"Dimensions\": {\"Algorithm\": \"Linear Learner\", \"Host\": \"algo-1\", \"Operation\": \"training\", \"epoch\": 4, \"model\": 15}, \"Metrics\": {\"train_absolute_loss_objective\": {\"sum\": 0.2717359375953674, \"count\": 1, \"min\": 0.2717359375953674, \"max\": 0.2717359375953674}}}\u001b[0m\n",
      "\u001b[34m#metrics {\"StartTime\": 1695171712.1824048, \"EndTime\": 1695171712.182423, \"Dimensions\": {\"Algorithm\": \"Linear Learner\", \"Host\": \"algo-1\", \"Operation\": \"training\", \"epoch\": 4, \"model\": 16}, \"Metrics\": {\"train_absolute_loss_objective\": {\"sum\": 0.6245932102203369, \"count\": 1, \"min\": 0.6245932102203369, \"max\": 0.6245932102203369}}}\u001b[0m\n",
      "\u001b[34m#metrics {\"StartTime\": 1695171712.1825354, \"EndTime\": 1695171712.1825545, \"Dimensions\": {\"Algorithm\": \"Linear Learner\", \"Host\": \"algo-1\", \"Operation\": \"training\", \"epoch\": 4, \"model\": 17}, \"Metrics\": {\"train_absolute_loss_objective\": {\"sum\": 0.6100843143463135, \"count\": 1, \"min\": 0.6100843143463135, \"max\": 0.6100843143463135}}}\u001b[0m\n",
      "\u001b[34m#metrics {\"StartTime\": 1695171712.1826625, \"EndTime\": 1695171712.1826806, \"Dimensions\": {\"Algorithm\": \"Linear Learner\", \"Host\": \"algo-1\", \"Operation\": \"training\", \"epoch\": 4, \"model\": 18}, \"Metrics\": {\"train_absolute_loss_objective\": {\"sum\": 0.6663420104980469, \"count\": 1, \"min\": 0.6663420104980469, \"max\": 0.6663420104980469}}}\u001b[0m\n",
      "\u001b[34m#metrics {\"StartTime\": 1695171712.1827905, \"EndTime\": 1695171712.1828578, \"Dimensions\": {\"Algorithm\": \"Linear Learner\", \"Host\": \"algo-1\", \"Operation\": \"training\", \"epoch\": 4, \"model\": 19}, \"Metrics\": {\"train_absolute_loss_objective\": {\"sum\": 0.6205183839797974, \"count\": 1, \"min\": 0.6205183839797974, \"max\": 0.6205183839797974}}}\u001b[0m\n",
      "\u001b[34m#metrics {\"StartTime\": 1695171712.182961, \"EndTime\": 1695171712.182977, \"Dimensions\": {\"Algorithm\": \"Linear Learner\", \"Host\": \"algo-1\", \"Operation\": \"training\", \"epoch\": 4, \"model\": 20}, \"Metrics\": {\"train_absolute_loss_objective\": {\"sum\": 0.38951180934906005, \"count\": 1, \"min\": 0.38951180934906005, \"max\": 0.38951180934906005}}}\u001b[0m\n",
      "\u001b[34m#metrics {\"StartTime\": 1695171712.183083, \"EndTime\": 1695171712.183101, \"Dimensions\": {\"Algorithm\": \"Linear Learner\", \"Host\": \"algo-1\", \"Operation\": \"training\", \"epoch\": 4, \"model\": 21}, \"Metrics\": {\"train_absolute_loss_objective\": {\"sum\": 0.3988024377822876, \"count\": 1, \"min\": 0.3988024377822876, \"max\": 0.3988024377822876}}}\u001b[0m\n",
      "\u001b[34m#metrics {\"StartTime\": 1695171712.1832137, \"EndTime\": 1695171712.183232, \"Dimensions\": {\"Algorithm\": \"Linear Learner\", \"Host\": \"algo-1\", \"Operation\": \"training\", \"epoch\": 4, \"model\": 22}, \"Metrics\": {\"train_absolute_loss_objective\": {\"sum\": 0.37029237747192384, \"count\": 1, \"min\": 0.37029237747192384, \"max\": 0.37029237747192384}}}\u001b[0m\n",
      "\u001b[34m#metrics {\"StartTime\": 1695171712.1833525, \"EndTime\": 1695171712.183371, \"Dimensions\": {\"Algorithm\": \"Linear Learner\", \"Host\": \"algo-1\", \"Operation\": \"training\", \"epoch\": 4, \"model\": 23}, \"Metrics\": {\"train_absolute_loss_objective\": {\"sum\": 0.3674237418174744, \"count\": 1, \"min\": 0.3674237418174744, \"max\": 0.3674237418174744}}}\u001b[0m\n",
      "\u001b[34m#metrics {\"StartTime\": 1695171712.1834846, \"EndTime\": 1695171712.183503, \"Dimensions\": {\"Algorithm\": \"Linear Learner\", \"Host\": \"algo-1\", \"Operation\": \"training\", \"epoch\": 4, \"model\": 24}, \"Metrics\": {\"train_absolute_loss_objective\": {\"sum\": 0.7944664192199707, \"count\": 1, \"min\": 0.7944664192199707, \"max\": 0.7944664192199707}}}\u001b[0m\n",
      "\u001b[34m#metrics {\"StartTime\": 1695171712.1836667, \"EndTime\": 1695171712.1836858, \"Dimensions\": {\"Algorithm\": \"Linear Learner\", \"Host\": \"algo-1\", \"Operation\": \"training\", \"epoch\": 4, \"model\": 25}, \"Metrics\": {\"train_absolute_loss_objective\": {\"sum\": 0.7984484100341797, \"count\": 1, \"min\": 0.7984484100341797, \"max\": 0.7984484100341797}}}\u001b[0m\n",
      "\u001b[34m#metrics {\"StartTime\": 1695171712.1841228, \"EndTime\": 1695171712.1841476, \"Dimensions\": {\"Algorithm\": \"Linear Learner\", \"Host\": \"algo-1\", \"Operation\": \"training\", \"epoch\": 4, \"model\": 26}, \"Metrics\": {\"train_absolute_loss_objective\": {\"sum\": 0.8005637741088867, \"count\": 1, \"min\": 0.8005637741088867, \"max\": 0.8005637741088867}}}\u001b[0m\n",
      "\u001b[34m#metrics {\"StartTime\": 1695171712.1842523, \"EndTime\": 1695171712.1842697, \"Dimensions\": {\"Algorithm\": \"Linear Learner\", \"Host\": \"algo-1\", \"Operation\": \"training\", \"epoch\": 4, \"model\": 27}, \"Metrics\": {\"train_absolute_loss_objective\": {\"sum\": 0.7966903877258301, \"count\": 1, \"min\": 0.7966903877258301, \"max\": 0.7966903877258301}}}\u001b[0m\n",
      "\u001b[34m#metrics {\"StartTime\": 1695171712.184321, \"EndTime\": 1695171712.1843355, \"Dimensions\": {\"Algorithm\": \"Linear Learner\", \"Host\": \"algo-1\", \"Operation\": \"training\", \"epoch\": 4, \"model\": 28}, \"Metrics\": {\"train_absolute_loss_objective\": {\"sum\": 0.8017847061157226, \"count\": 1, \"min\": 0.8017847061157226, \"max\": 0.8017847061157226}}}\u001b[0m\n",
      "\u001b[34m#metrics {\"StartTime\": 1695171712.1843808, \"EndTime\": 1695171712.1843936, \"Dimensions\": {\"Algorithm\": \"Linear Learner\", \"Host\": \"algo-1\", \"Operation\": \"training\", \"epoch\": 4, \"model\": 29}, \"Metrics\": {\"train_absolute_loss_objective\": {\"sum\": 0.8030018138885499, \"count\": 1, \"min\": 0.8030018138885499, \"max\": 0.8030018138885499}}}\u001b[0m\n",
      "\u001b[34m#metrics {\"StartTime\": 1695171712.1847875, \"EndTime\": 1695171712.1848104, \"Dimensions\": {\"Algorithm\": \"Linear Learner\", \"Host\": \"algo-1\", \"Operation\": \"training\", \"epoch\": 4, \"model\": 30}, \"Metrics\": {\"train_absolute_loss_objective\": {\"sum\": 0.8017698574066162, \"count\": 1, \"min\": 0.8017698574066162, \"max\": 0.8017698574066162}}}\u001b[0m\n",
      "\u001b[34m#metrics {\"StartTime\": 1695171712.1848857, \"EndTime\": 1695171712.1849022, \"Dimensions\": {\"Algorithm\": \"Linear Learner\", \"Host\": \"algo-1\", \"Operation\": \"training\", \"epoch\": 4, \"model\": 31}, \"Metrics\": {\"train_absolute_loss_objective\": {\"sum\": 0.801997709274292, \"count\": 1, \"min\": 0.801997709274292, \"max\": 0.801997709274292}}}\u001b[0m\n",
      "\u001b[34m[09/20/2023 01:01:52 INFO 140100470376256] #quality_metric: host=algo-1, epoch=4, train absolute_loss_objective <loss>=0.6410293579101562\u001b[0m\n",
      "\u001b[34m[09/20/2023 01:01:52 INFO 140100470376256] #early_stopping_criteria_metric: host=algo-1, epoch=4, criteria=absolute_loss_objective, value=0.26526800155639646\u001b[0m\n",
      "\u001b[34m[09/20/2023 01:01:52 INFO 140100470376256] Epoch 4: Loss improved. Updating best model\u001b[0m\n",
      "\u001b[34m[09/20/2023 01:01:52 INFO 140100470376256] Saving model for epoch: 4\u001b[0m\n",
      "\u001b[34m[09/20/2023 01:01:52 INFO 140100470376256] Saved checkpoint to \"/tmp/tmpgdl09sr5/mx-mod-0000.params\"\u001b[0m\n",
      "\u001b[34m[09/20/2023 01:01:52 INFO 140100470376256] #progress_metric: host=algo-1, completed 5.0 % of epochs\u001b[0m\n",
      "\u001b[34m#metrics {\"StartTime\": 1695171711.9554734, \"EndTime\": 1695171712.1984687, \"Dimensions\": {\"Algorithm\": \"Linear Learner\", \"Host\": \"algo-1\", \"Operation\": \"training\", \"epoch\": 4, \"Meta\": \"training_data_iter\"}, \"Metrics\": {\"Total Records Seen\": {\"sum\": 4900.0, \"count\": 1, \"min\": 4900, \"max\": 4900}, \"Total Batches Seen\": {\"sum\": 49.0, \"count\": 1, \"min\": 49, \"max\": 49}, \"Max Records Seen Between Resets\": {\"sum\": 800.0, \"count\": 1, \"min\": 800, \"max\": 800}, \"Max Batches Seen Between Resets\": {\"sum\": 8.0, \"count\": 1, \"min\": 8, \"max\": 8}, \"Reset Count\": {\"sum\": 7.0, \"count\": 1, \"min\": 7, \"max\": 7}, \"Number of Records Since Last Reset\": {\"sum\": 800.0, \"count\": 1, \"min\": 800, \"max\": 800}, \"Number of Batches Since Last Reset\": {\"sum\": 8.0, \"count\": 1, \"min\": 8, \"max\": 8}}}\u001b[0m\n",
      "\u001b[34m[09/20/2023 01:01:52 INFO 140100470376256] #throughput_metric: host=algo-1, train throughput=3290.053388895698 records/second\u001b[0m\n",
      "\u001b[34m[2023-09-20 01:01:52.411] [tensorio] [info] epoch_stats={\"data_pipeline\": \"/opt/ml/input/data/train\", \"epoch\": 14, \"duration\": 212, \"num_examples\": 8, \"num_bytes\": 41600}\u001b[0m\n",
      "\u001b[34m#metrics {\"StartTime\": 1695171712.4112487, \"EndTime\": 1695171712.411347, \"Dimensions\": {\"Algorithm\": \"Linear Learner\", \"Host\": \"algo-1\", \"Operation\": \"training\", \"epoch\": 5, \"model\": 0}, \"Metrics\": {\"train_absolute_loss_objective\": {\"sum\": 0.6089133739471435, \"count\": 1, \"min\": 0.6089133739471435, \"max\": 0.6089133739471435}}}\u001b[0m\n",
      "\u001b[34m#metrics {\"StartTime\": 1695171712.4114442, \"EndTime\": 1695171712.4114654, \"Dimensions\": {\"Algorithm\": \"Linear Learner\", \"Host\": \"algo-1\", \"Operation\": \"training\", \"epoch\": 5, \"model\": 1}, \"Metrics\": {\"train_absolute_loss_objective\": {\"sum\": 0.6093878936767578, \"count\": 1, \"min\": 0.6093878936767578, \"max\": 0.6093878936767578}}}\u001b[0m\n",
      "\u001b[34m#metrics {\"StartTime\": 1695171712.4115193, \"EndTime\": 1695171712.4115345, \"Dimensions\": {\"Algorithm\": \"Linear Learner\", \"Host\": \"algo-1\", \"Operation\": \"training\", \"epoch\": 5, \"model\": 2}, \"Metrics\": {\"train_absolute_loss_objective\": {\"sum\": 0.6189173364639282, \"count\": 1, \"min\": 0.6189173364639282, \"max\": 0.6189173364639282}}}\u001b[0m\n",
      "\u001b[34m#metrics {\"StartTime\": 1695171712.411584, \"EndTime\": 1695171712.4116, \"Dimensions\": {\"Algorithm\": \"Linear Learner\", \"Host\": \"algo-1\", \"Operation\": \"training\", \"epoch\": 5, \"model\": 3}, \"Metrics\": {\"train_absolute_loss_objective\": {\"sum\": 0.5968285751342773, \"count\": 1, \"min\": 0.5968285751342773, \"max\": 0.5968285751342773}}}\u001b[0m\n",
      "\u001b[34m#metrics {\"StartTime\": 1695171712.4116566, \"EndTime\": 1695171712.411673, \"Dimensions\": {\"Algorithm\": \"Linear Learner\", \"Host\": \"algo-1\", \"Operation\": \"training\", \"epoch\": 5, \"model\": 4}, \"Metrics\": {\"train_absolute_loss_objective\": {\"sum\": 0.28927652835845946, \"count\": 1, \"min\": 0.28927652835845946, \"max\": 0.28927652835845946}}}\u001b[0m\n",
      "\u001b[34m#metrics {\"StartTime\": 1695171712.4117274, \"EndTime\": 1695171712.4117444, \"Dimensions\": {\"Algorithm\": \"Linear Learner\", \"Host\": \"algo-1\", \"Operation\": \"training\", \"epoch\": 5, \"model\": 5}, \"Metrics\": {\"train_absolute_loss_objective\": {\"sum\": 0.26760403156280516, \"count\": 1, \"min\": 0.26760403156280516, \"max\": 0.26760403156280516}}}\u001b[0m\n",
      "\u001b[34m#metrics {\"StartTime\": 1695171712.4117973, \"EndTime\": 1695171712.4118128, \"Dimensions\": {\"Algorithm\": \"Linear Learner\", \"Host\": \"algo-1\", \"Operation\": \"training\", \"epoch\": 5, \"model\": 6}, \"Metrics\": {\"train_absolute_loss_objective\": {\"sum\": 0.2738837504386902, \"count\": 1, \"min\": 0.2738837504386902, \"max\": 0.2738837504386902}}}\u001b[0m\n",
      "\u001b[34m#metrics {\"StartTime\": 1695171712.4118674, \"EndTime\": 1695171712.411883, \"Dimensions\": {\"Algorithm\": \"Linear Learner\", \"Host\": \"algo-1\", \"Operation\": \"training\", \"epoch\": 5, \"model\": 7}, \"Metrics\": {\"train_absolute_loss_objective\": {\"sum\": 0.27564301490783694, \"count\": 1, \"min\": 0.27564301490783694, \"max\": 0.27564301490783694}}}\u001b[0m\n",
      "\u001b[34m#metrics {\"StartTime\": 1695171712.411939, \"EndTime\": 1695171712.4119554, \"Dimensions\": {\"Algorithm\": \"Linear Learner\", \"Host\": \"algo-1\", \"Operation\": \"training\", \"epoch\": 5, \"model\": 8}, \"Metrics\": {\"train_absolute_loss_objective\": {\"sum\": 0.6448643398284912, \"count\": 1, \"min\": 0.6448643398284912, \"max\": 0.6448643398284912}}}\u001b[0m\n",
      "\u001b[34m#metrics {\"StartTime\": 1695171712.4120076, \"EndTime\": 1695171712.4120233, \"Dimensions\": {\"Algorithm\": \"Linear Learner\", \"Host\": \"algo-1\", \"Operation\": \"training\", \"epoch\": 5, \"model\": 9}, \"Metrics\": {\"train_absolute_loss_objective\": {\"sum\": 0.5819153213500976, \"count\": 1, \"min\": 0.5819153213500976, \"max\": 0.5819153213500976}}}\u001b[0m\n",
      "\u001b[34m#metrics {\"StartTime\": 1695171712.4120748, \"EndTime\": 1695171712.4120913, \"Dimensions\": {\"Algorithm\": \"Linear Learner\", \"Host\": \"algo-1\", \"Operation\": \"training\", \"epoch\": 5, \"model\": 10}, \"Metrics\": {\"train_absolute_loss_objective\": {\"sum\": 0.589854474067688, \"count\": 1, \"min\": 0.589854474067688, \"max\": 0.589854474067688}}}\u001b[0m\n",
      "\u001b[34m#metrics {\"StartTime\": 1695171712.4121428, \"EndTime\": 1695171712.4121592, \"Dimensions\": {\"Algorithm\": \"Linear Learner\", \"Host\": \"algo-1\", \"Operation\": \"training\", \"epoch\": 5, \"model\": 11}, \"Metrics\": {\"train_absolute_loss_objective\": {\"sum\": 0.5984496784210205, \"count\": 1, \"min\": 0.5984496784210205, \"max\": 0.5984496784210205}}}\u001b[0m\n",
      "\u001b[34m#metrics {\"StartTime\": 1695171712.4122465, \"EndTime\": 1695171712.4122643, \"Dimensions\": {\"Algorithm\": \"Linear Learner\", \"Host\": \"algo-1\", \"Operation\": \"training\", \"epoch\": 5, \"model\": 12}, \"Metrics\": {\"train_absolute_loss_objective\": {\"sum\": 0.27115472316741945, \"count\": 1, \"min\": 0.27115472316741945, \"max\": 0.27115472316741945}}}\u001b[0m\n",
      "\u001b[34m#metrics {\"StartTime\": 1695171712.412319, \"EndTime\": 1695171712.4123363, \"Dimensions\": {\"Algorithm\": \"Linear Learner\", \"Host\": \"algo-1\", \"Operation\": \"training\", \"epoch\": 5, \"model\": 13}, \"Metrics\": {\"train_absolute_loss_objective\": {\"sum\": 0.285232880115509, \"count\": 1, \"min\": 0.285232880115509, \"max\": 0.285232880115509}}}\u001b[0m\n",
      "\u001b[34m#metrics {\"StartTime\": 1695171712.4123883, \"EndTime\": 1695171712.4124043, \"Dimensions\": {\"Algorithm\": \"Linear Learner\", \"Host\": \"algo-1\", \"Operation\": \"training\", \"epoch\": 5, \"model\": 14}, \"Metrics\": {\"train_absolute_loss_objective\": {\"sum\": 0.27684240102767943, \"count\": 1, \"min\": 0.27684240102767943, \"max\": 0.27684240102767943}}}\u001b[0m\n",
      "\u001b[34m#metrics {\"StartTime\": 1695171712.412463, \"EndTime\": 1695171712.412479, \"Dimensions\": {\"Algorithm\": \"Linear Learner\", \"Host\": \"algo-1\", \"Operation\": \"training\", \"epoch\": 5, \"model\": 15}, \"Metrics\": {\"train_absolute_loss_objective\": {\"sum\": 0.2845563697814941, \"count\": 1, \"min\": 0.2845563697814941, \"max\": 0.2845563697814941}}}\u001b[0m\n",
      "\u001b[34m#metrics {\"StartTime\": 1695171712.4125316, \"EndTime\": 1695171712.4125478, \"Dimensions\": {\"Algorithm\": \"Linear Learner\", \"Host\": \"algo-1\", \"Operation\": \"training\", \"epoch\": 5, \"model\": 16}, \"Metrics\": {\"train_absolute_loss_objective\": {\"sum\": 0.594634804725647, \"count\": 1, \"min\": 0.594634804725647, \"max\": 0.594634804725647}}}\u001b[0m\n",
      "\u001b[34m#metrics {\"StartTime\": 1695171712.4125996, \"EndTime\": 1695171712.4126148, \"Dimensions\": {\"Algorithm\": \"Linear Learner\", \"Host\": \"algo-1\", \"Operation\": \"training\", \"epoch\": 5, \"model\": 17}, \"Metrics\": {\"train_absolute_loss_objective\": {\"sum\": 0.5809666109085083, \"count\": 1, \"min\": 0.5809666109085083, \"max\": 0.5809666109085083}}}\u001b[0m\n",
      "\u001b[34m#metrics {\"StartTime\": 1695171712.4126701, \"EndTime\": 1695171712.4126866, \"Dimensions\": {\"Algorithm\": \"Linear Learner\", \"Host\": \"algo-1\", \"Operation\": \"training\", \"epoch\": 5, \"model\": 18}, \"Metrics\": {\"train_absolute_loss_objective\": {\"sum\": 0.6386523914337158, \"count\": 1, \"min\": 0.6386523914337158, \"max\": 0.6386523914337158}}}\u001b[0m\n",
      "\u001b[34m#metrics {\"StartTime\": 1695171712.41274, \"EndTime\": 1695171712.4127562, \"Dimensions\": {\"Algorithm\": \"Linear Learner\", \"Host\": \"algo-1\", \"Operation\": \"training\", \"epoch\": 5, \"model\": 19}, \"Metrics\": {\"train_absolute_loss_objective\": {\"sum\": 0.5936184549331665, \"count\": 1, \"min\": 0.5936184549331665, \"max\": 0.5936184549331665}}}\u001b[0m\n",
      "\u001b[34m#metrics {\"StartTime\": 1695171712.412806, \"EndTime\": 1695171712.4128222, \"Dimensions\": {\"Algorithm\": \"Linear Learner\", \"Host\": \"algo-1\", \"Operation\": \"training\", \"epoch\": 5, \"model\": 20}, \"Metrics\": {\"train_absolute_loss_objective\": {\"sum\": 0.41409289836883545, \"count\": 1, \"min\": 0.41409289836883545, \"max\": 0.41409289836883545}}}\u001b[0m\n",
      "\u001b[34m#metrics {\"StartTime\": 1695171712.4128797, \"EndTime\": 1695171712.4128964, \"Dimensions\": {\"Algorithm\": \"Linear Learner\", \"Host\": \"algo-1\", \"Operation\": \"training\", \"epoch\": 5, \"model\": 21}, \"Metrics\": {\"train_absolute_loss_objective\": {\"sum\": 0.40242273807525636, \"count\": 1, \"min\": 0.40242273807525636, \"max\": 0.40242273807525636}}}\u001b[0m\n",
      "\u001b[34m#metrics {\"StartTime\": 1695171712.4129531, \"EndTime\": 1695171712.4129696, \"Dimensions\": {\"Algorithm\": \"Linear Learner\", \"Host\": \"algo-1\", \"Operation\": \"training\", \"epoch\": 5, \"model\": 22}, \"Metrics\": {\"train_absolute_loss_objective\": {\"sum\": 0.4129317331314087, \"count\": 1, \"min\": 0.4129317331314087, \"max\": 0.4129317331314087}}}\u001b[0m\n",
      "\u001b[34m#metrics {\"StartTime\": 1695171712.4130232, \"EndTime\": 1695171712.4130392, \"Dimensions\": {\"Algorithm\": \"Linear Learner\", \"Host\": \"algo-1\", \"Operation\": \"training\", \"epoch\": 5, \"model\": 23}, \"Metrics\": {\"train_absolute_loss_objective\": {\"sum\": 0.4091980028152466, \"count\": 1, \"min\": 0.4091980028152466, \"max\": 0.4091980028152466}}}\u001b[0m\n",
      "\u001b[34m#metrics {\"StartTime\": 1695171712.413092, \"EndTime\": 1695171712.4131072, \"Dimensions\": {\"Algorithm\": \"Linear Learner\", \"Host\": \"algo-1\", \"Operation\": \"training\", \"epoch\": 5, \"model\": 24}, \"Metrics\": {\"train_absolute_loss_objective\": {\"sum\": 0.8013765430450439, \"count\": 1, \"min\": 0.8013765430450439, \"max\": 0.8013765430450439}}}\u001b[0m\n",
      "\u001b[34m#metrics {\"StartTime\": 1695171712.413163, \"EndTime\": 1695171712.4131794, \"Dimensions\": {\"Algorithm\": \"Linear Learner\", \"Host\": \"algo-1\", \"Operation\": \"training\", \"epoch\": 5, \"model\": 25}, \"Metrics\": {\"train_absolute_loss_objective\": {\"sum\": 0.8002798843383789, \"count\": 1, \"min\": 0.8002798843383789, \"max\": 0.8002798843383789}}}\u001b[0m\n",
      "\u001b[34m#metrics {\"StartTime\": 1695171712.413231, \"EndTime\": 1695171712.4132466, \"Dimensions\": {\"Algorithm\": \"Linear Learner\", \"Host\": \"algo-1\", \"Operation\": \"training\", \"epoch\": 5, \"model\": 26}, \"Metrics\": {\"train_absolute_loss_objective\": {\"sum\": 0.803555326461792, \"count\": 1, \"min\": 0.803555326461792, \"max\": 0.803555326461792}}}\u001b[0m\n",
      "\u001b[34m#metrics {\"StartTime\": 1695171712.4132984, \"EndTime\": 1695171712.413314, \"Dimensions\": {\"Algorithm\": \"Linear Learner\", \"Host\": \"algo-1\", \"Operation\": \"training\", \"epoch\": 5, \"model\": 27}, \"Metrics\": {\"train_absolute_loss_objective\": {\"sum\": 0.7988619804382324, \"count\": 1, \"min\": 0.7988619804382324, \"max\": 0.7988619804382324}}}\u001b[0m\n",
      "\u001b[34m#metrics {\"StartTime\": 1695171712.4133701, \"EndTime\": 1695171712.4133854, \"Dimensions\": {\"Algorithm\": \"Linear Learner\", \"Host\": \"algo-1\", \"Operation\": \"training\", \"epoch\": 5, \"model\": 28}, \"Metrics\": {\"train_absolute_loss_objective\": {\"sum\": 0.8090708827972413, \"count\": 1, \"min\": 0.8090708827972413, \"max\": 0.8090708827972413}}}\u001b[0m\n",
      "\u001b[34m#metrics {\"StartTime\": 1695171712.4134371, \"EndTime\": 1695171712.413453, \"Dimensions\": {\"Algorithm\": \"Linear Learner\", \"Host\": \"algo-1\", \"Operation\": \"training\", \"epoch\": 5, \"model\": 29}, \"Metrics\": {\"train_absolute_loss_objective\": {\"sum\": 0.8075320243835449, \"count\": 1, \"min\": 0.8075320243835449, \"max\": 0.8075320243835449}}}\u001b[0m\n",
      "\u001b[34m#metrics {\"StartTime\": 1695171712.4135048, \"EndTime\": 1695171712.41352, \"Dimensions\": {\"Algorithm\": \"Linear Learner\", \"Host\": \"algo-1\", \"Operation\": \"training\", \"epoch\": 5, \"model\": 30}, \"Metrics\": {\"train_absolute_loss_objective\": {\"sum\": 0.8089241027832031, \"count\": 1, \"min\": 0.8089241027832031, \"max\": 0.8089241027832031}}}\u001b[0m\n",
      "\u001b[34m#metrics {\"StartTime\": 1695171712.4135714, \"EndTime\": 1695171712.4135869, \"Dimensions\": {\"Algorithm\": \"Linear Learner\", \"Host\": \"algo-1\", \"Operation\": \"training\", \"epoch\": 5, \"model\": 31}, \"Metrics\": {\"train_absolute_loss_objective\": {\"sum\": 0.811133794784546, \"count\": 1, \"min\": 0.811133794784546, \"max\": 0.811133794784546}}}\u001b[0m\n",
      "\u001b[34m[09/20/2023 01:01:52 INFO 140100470376256] #quality_metric: host=algo-1, epoch=5, train absolute_loss_objective <loss>=0.6089133739471435\u001b[0m\n",
      "\u001b[34m[09/20/2023 01:01:52 INFO 140100470376256] #early_stopping_criteria_metric: host=algo-1, epoch=5, criteria=absolute_loss_objective, value=0.26760403156280516\u001b[0m\n",
      "\u001b[34m[09/20/2023 01:01:52 INFO 140100470376256] Saving model for epoch: 5\u001b[0m\n",
      "\u001b[34m[09/20/2023 01:01:52 INFO 140100470376256] Saved checkpoint to \"/tmp/tmpyfvnux7q/mx-mod-0000.params\"\u001b[0m\n",
      "\u001b[34m[09/20/2023 01:01:52 INFO 140100470376256] #progress_metric: host=algo-1, completed 6.0 % of epochs\u001b[0m\n",
      "\u001b[34m#metrics {\"StartTime\": 1695171712.1987882, \"EndTime\": 1695171712.424296, \"Dimensions\": {\"Algorithm\": \"Linear Learner\", \"Host\": \"algo-1\", \"Operation\": \"training\", \"epoch\": 5, \"Meta\": \"training_data_iter\"}, \"Metrics\": {\"Total Records Seen\": {\"sum\": 5700.0, \"count\": 1, \"min\": 5700, \"max\": 5700}, \"Total Batches Seen\": {\"sum\": 57.0, \"count\": 1, \"min\": 57, \"max\": 57}, \"Max Records Seen Between Resets\": {\"sum\": 800.0, \"count\": 1, \"min\": 800, \"max\": 800}, \"Max Batches Seen Between Resets\": {\"sum\": 8.0, \"count\": 1, \"min\": 8, \"max\": 8}, \"Reset Count\": {\"sum\": 8.0, \"count\": 1, \"min\": 8, \"max\": 8}, \"Number of Records Since Last Reset\": {\"sum\": 800.0, \"count\": 1, \"min\": 800, \"max\": 800}, \"Number of Batches Since Last Reset\": {\"sum\": 8.0, \"count\": 1, \"min\": 8, \"max\": 8}}}\u001b[0m\n",
      "\u001b[34m[09/20/2023 01:01:52 INFO 140100470376256] #throughput_metric: host=algo-1, train throughput=3545.1063919704175 records/second\u001b[0m\n",
      "\u001b[34m[2023-09-20 01:01:52.648] [tensorio] [info] epoch_stats={\"data_pipeline\": \"/opt/ml/input/data/train\", \"epoch\": 16, \"duration\": 223, \"num_examples\": 8, \"num_bytes\": 41600}\u001b[0m\n",
      "\u001b[34m#metrics {\"StartTime\": 1695171712.648613, \"EndTime\": 1695171712.6487048, \"Dimensions\": {\"Algorithm\": \"Linear Learner\", \"Host\": \"algo-1\", \"Operation\": \"training\", \"epoch\": 6, \"model\": 0}, \"Metrics\": {\"train_absolute_loss_objective\": {\"sum\": 0.5793165063858032, \"count\": 1, \"min\": 0.5793165063858032, \"max\": 0.5793165063858032}}}\u001b[0m\n",
      "\u001b[34m#metrics {\"StartTime\": 1695171712.6488087, \"EndTime\": 1695171712.6488318, \"Dimensions\": {\"Algorithm\": \"Linear Learner\", \"Host\": \"algo-1\", \"Operation\": \"training\", \"epoch\": 6, \"model\": 1}, \"Metrics\": {\"train_absolute_loss_objective\": {\"sum\": 0.5782363986968995, \"count\": 1, \"min\": 0.5782363986968995, \"max\": 0.5782363986968995}}}\u001b[0m\n",
      "\u001b[34m#metrics {\"StartTime\": 1695171712.6488862, \"EndTime\": 1695171712.6489031, \"Dimensions\": {\"Algorithm\": \"Linear Learner\", \"Host\": \"algo-1\", \"Operation\": \"training\", \"epoch\": 6, \"model\": 2}, \"Metrics\": {\"train_absolute_loss_objective\": {\"sum\": 0.588803858757019, \"count\": 1, \"min\": 0.588803858757019, \"max\": 0.588803858757019}}}\u001b[0m\n",
      "\u001b[34m#metrics {\"StartTime\": 1695171712.6489613, \"EndTime\": 1695171712.6489794, \"Dimensions\": {\"Algorithm\": \"Linear Learner\", \"Host\": \"algo-1\", \"Operation\": \"training\", \"epoch\": 6, \"model\": 3}, \"Metrics\": {\"train_absolute_loss_objective\": {\"sum\": 0.5661721515655518, \"count\": 1, \"min\": 0.5661721515655518, \"max\": 0.5661721515655518}}}\u001b[0m\n",
      "\u001b[34m#metrics {\"StartTime\": 1695171712.6490343, \"EndTime\": 1695171712.649051, \"Dimensions\": {\"Algorithm\": \"Linear Learner\", \"Host\": \"algo-1\", \"Operation\": \"training\", \"epoch\": 6, \"model\": 4}, \"Metrics\": {\"train_absolute_loss_objective\": {\"sum\": 0.28519415616989136, \"count\": 1, \"min\": 0.28519415616989136, \"max\": 0.28519415616989136}}}\u001b[0m\n",
      "\u001b[34m#metrics {\"StartTime\": 1695171712.6491053, \"EndTime\": 1695171712.6491213, \"Dimensions\": {\"Algorithm\": \"Linear Learner\", \"Host\": \"algo-1\", \"Operation\": \"training\", \"epoch\": 6, \"model\": 5}, \"Metrics\": {\"train_absolute_loss_objective\": {\"sum\": 0.2728171706199646, \"count\": 1, \"min\": 0.2728171706199646, \"max\": 0.2728171706199646}}}\u001b[0m\n",
      "\u001b[34m#metrics {\"StartTime\": 1695171712.649178, \"EndTime\": 1695171712.6491938, \"Dimensions\": {\"Algorithm\": \"Linear Learner\", \"Host\": \"algo-1\", \"Operation\": \"training\", \"epoch\": 6, \"model\": 6}, \"Metrics\": {\"train_absolute_loss_objective\": {\"sum\": 0.2769188976287842, \"count\": 1, \"min\": 0.2769188976287842, \"max\": 0.2769188976287842}}}\u001b[0m\n",
      "\u001b[34m#metrics {\"StartTime\": 1695171712.6492457, \"EndTime\": 1695171712.6492617, \"Dimensions\": {\"Algorithm\": \"Linear Learner\", \"Host\": \"algo-1\", \"Operation\": \"training\", \"epoch\": 6, \"model\": 7}, \"Metrics\": {\"train_absolute_loss_objective\": {\"sum\": 0.28119155406951907, \"count\": 1, \"min\": 0.28119155406951907, \"max\": 0.28119155406951907}}}\u001b[0m\n",
      "\u001b[34m#metrics {\"StartTime\": 1695171712.649315, \"EndTime\": 1695171712.6493316, \"Dimensions\": {\"Algorithm\": \"Linear Learner\", \"Host\": \"algo-1\", \"Operation\": \"training\", \"epoch\": 6, \"model\": 8}, \"Metrics\": {\"train_absolute_loss_objective\": {\"sum\": 0.6131944465637207, \"count\": 1, \"min\": 0.6131944465637207, \"max\": 0.6131944465637207}}}\u001b[0m\n",
      "\u001b[34m#metrics {\"StartTime\": 1695171712.649391, \"EndTime\": 1695171712.649407, \"Dimensions\": {\"Algorithm\": \"Linear Learner\", \"Host\": \"algo-1\", \"Operation\": \"training\", \"epoch\": 6, \"model\": 9}, \"Metrics\": {\"train_absolute_loss_objective\": {\"sum\": 0.5517482662200928, \"count\": 1, \"min\": 0.5517482662200928, \"max\": 0.5517482662200928}}}\u001b[0m\n",
      "\u001b[34m#metrics {\"StartTime\": 1695171712.6494603, \"EndTime\": 1695171712.6494763, \"Dimensions\": {\"Algorithm\": \"Linear Learner\", \"Host\": \"algo-1\", \"Operation\": \"training\", \"epoch\": 6, \"model\": 10}, \"Metrics\": {\"train_absolute_loss_objective\": {\"sum\": 0.5610504341125488, \"count\": 1, \"min\": 0.5610504341125488, \"max\": 0.5610504341125488}}}\u001b[0m\n",
      "\u001b[34m#metrics {\"StartTime\": 1695171712.6495347, \"EndTime\": 1695171712.6495504, \"Dimensions\": {\"Algorithm\": \"Linear Learner\", \"Host\": \"algo-1\", \"Operation\": \"training\", \"epoch\": 6, \"model\": 11}, \"Metrics\": {\"train_absolute_loss_objective\": {\"sum\": 0.5683682298660279, \"count\": 1, \"min\": 0.5683682298660279, \"max\": 0.5683682298660279}}}\u001b[0m\n",
      "\u001b[34m#metrics {\"StartTime\": 1695171712.649603, \"EndTime\": 1695171712.6496186, \"Dimensions\": {\"Algorithm\": \"Linear Learner\", \"Host\": \"algo-1\", \"Operation\": \"training\", \"epoch\": 6, \"model\": 12}, \"Metrics\": {\"train_absolute_loss_objective\": {\"sum\": 0.2771083641052246, \"count\": 1, \"min\": 0.2771083641052246, \"max\": 0.2771083641052246}}}\u001b[0m\n",
      "\u001b[34m#metrics {\"StartTime\": 1695171712.64967, \"EndTime\": 1695171712.6496863, \"Dimensions\": {\"Algorithm\": \"Linear Learner\", \"Host\": \"algo-1\", \"Operation\": \"training\", \"epoch\": 6, \"model\": 13}, \"Metrics\": {\"train_absolute_loss_objective\": {\"sum\": 0.28393094062805174, \"count\": 1, \"min\": 0.28393094062805174, \"max\": 0.28393094062805174}}}\u001b[0m\n",
      "\u001b[34m#metrics {\"StartTime\": 1695171712.649743, \"EndTime\": 1695171712.649759, \"Dimensions\": {\"Algorithm\": \"Linear Learner\", \"Host\": \"algo-1\", \"Operation\": \"training\", \"epoch\": 6, \"model\": 14}, \"Metrics\": {\"train_absolute_loss_objective\": {\"sum\": 0.28099402904510495, \"count\": 1, \"min\": 0.28099402904510495, \"max\": 0.28099402904510495}}}\u001b[0m\n",
      "\u001b[34m#metrics {\"StartTime\": 1695171712.649812, \"EndTime\": 1695171712.649827, \"Dimensions\": {\"Algorithm\": \"Linear Learner\", \"Host\": \"algo-1\", \"Operation\": \"training\", \"epoch\": 6, \"model\": 15}, \"Metrics\": {\"train_absolute_loss_objective\": {\"sum\": 0.28606271505355835, \"count\": 1, \"min\": 0.28606271505355835, \"max\": 0.28606271505355835}}}\u001b[0m\n",
      "\u001b[34m#metrics {\"StartTime\": 1695171712.6498837, \"EndTime\": 1695171712.6498997, \"Dimensions\": {\"Algorithm\": \"Linear Learner\", \"Host\": \"algo-1\", \"Operation\": \"training\", \"epoch\": 6, \"model\": 16}, \"Metrics\": {\"train_absolute_loss_objective\": {\"sum\": 0.5678818225860596, \"count\": 1, \"min\": 0.5678818225860596, \"max\": 0.5678818225860596}}}\u001b[0m\n",
      "\u001b[34m#metrics {\"StartTime\": 1695171712.649952, \"EndTime\": 1695171712.6499665, \"Dimensions\": {\"Algorithm\": \"Linear Learner\", \"Host\": \"algo-1\", \"Operation\": \"training\", \"epoch\": 6, \"model\": 17}, \"Metrics\": {\"train_absolute_loss_objective\": {\"sum\": 0.5548269176483154, \"count\": 1, \"min\": 0.5548269176483154, \"max\": 0.5548269176483154}}}\u001b[0m\n",
      "\u001b[34m#metrics {\"StartTime\": 1695171712.6500177, \"EndTime\": 1695171712.6500335, \"Dimensions\": {\"Algorithm\": \"Linear Learner\", \"Host\": \"algo-1\", \"Operation\": \"training\", \"epoch\": 6, \"model\": 18}, \"Metrics\": {\"train_absolute_loss_objective\": {\"sum\": 0.6130261516571045, \"count\": 1, \"min\": 0.6130261516571045, \"max\": 0.6130261516571045}}}\u001b[0m\n",
      "\u001b[34m#metrics {\"StartTime\": 1695171712.6500878, \"EndTime\": 1695171712.6501045, \"Dimensions\": {\"Algorithm\": \"Linear Learner\", \"Host\": \"algo-1\", \"Operation\": \"training\", \"epoch\": 6, \"model\": 19}, \"Metrics\": {\"train_absolute_loss_objective\": {\"sum\": 0.5694708728790283, \"count\": 1, \"min\": 0.5694708728790283, \"max\": 0.5694708728790283}}}\u001b[0m\n",
      "\u001b[34m#metrics {\"StartTime\": 1695171712.650157, \"EndTime\": 1695171712.6501725, \"Dimensions\": {\"Algorithm\": \"Linear Learner\", \"Host\": \"algo-1\", \"Operation\": \"training\", \"epoch\": 6, \"model\": 20}, \"Metrics\": {\"train_absolute_loss_objective\": {\"sum\": 0.38583280563354494, \"count\": 1, \"min\": 0.38583280563354494, \"max\": 0.38583280563354494}}}\u001b[0m\n",
      "\u001b[34m#metrics {\"StartTime\": 1695171712.6502285, \"EndTime\": 1695171712.6502447, \"Dimensions\": {\"Algorithm\": \"Linear Learner\", \"Host\": \"algo-1\", \"Operation\": \"training\", \"epoch\": 6, \"model\": 21}, \"Metrics\": {\"train_absolute_loss_objective\": {\"sum\": 0.3965393781661987, \"count\": 1, \"min\": 0.3965393781661987, \"max\": 0.3965393781661987}}}\u001b[0m\n",
      "\u001b[34m#metrics {\"StartTime\": 1695171712.6502962, \"EndTime\": 1695171712.6503127, \"Dimensions\": {\"Algorithm\": \"Linear Learner\", \"Host\": \"algo-1\", \"Operation\": \"training\", \"epoch\": 6, \"model\": 22}, \"Metrics\": {\"train_absolute_loss_objective\": {\"sum\": 0.3971238660812378, \"count\": 1, \"min\": 0.3971238660812378, \"max\": 0.3971238660812378}}}\u001b[0m\n",
      "\u001b[34m#metrics {\"StartTime\": 1695171712.650367, \"EndTime\": 1695171712.650383, \"Dimensions\": {\"Algorithm\": \"Linear Learner\", \"Host\": \"algo-1\", \"Operation\": \"training\", \"epoch\": 6, \"model\": 23}, \"Metrics\": {\"train_absolute_loss_objective\": {\"sum\": 0.39724743843078614, \"count\": 1, \"min\": 0.39724743843078614, \"max\": 0.39724743843078614}}}\u001b[0m\n",
      "\u001b[34m#metrics {\"StartTime\": 1695171712.6504362, \"EndTime\": 1695171712.6504524, \"Dimensions\": {\"Algorithm\": \"Linear Learner\", \"Host\": \"algo-1\", \"Operation\": \"training\", \"epoch\": 6, \"model\": 24}, \"Metrics\": {\"train_absolute_loss_objective\": {\"sum\": 0.8039084720611572, \"count\": 1, \"min\": 0.8039084720611572, \"max\": 0.8039084720611572}}}\u001b[0m\n",
      "\u001b[34m#metrics {\"StartTime\": 1695171712.6505032, \"EndTime\": 1695171712.6505194, \"Dimensions\": {\"Algorithm\": \"Linear Learner\", \"Host\": \"algo-1\", \"Operation\": \"training\", \"epoch\": 6, \"model\": 25}, \"Metrics\": {\"train_absolute_loss_objective\": {\"sum\": 0.8018406867980957, \"count\": 1, \"min\": 0.8018406867980957, \"max\": 0.8018406867980957}}}\u001b[0m\n",
      "\u001b[34m#metrics {\"StartTime\": 1695171712.6505713, \"EndTime\": 1695171712.650587, \"Dimensions\": {\"Algorithm\": \"Linear Learner\", \"Host\": \"algo-1\", \"Operation\": \"training\", \"epoch\": 6, \"model\": 26}, \"Metrics\": {\"train_absolute_loss_objective\": {\"sum\": 0.8012058544158935, \"count\": 1, \"min\": 0.8012058544158935, \"max\": 0.8012058544158935}}}\u001b[0m\n",
      "\u001b[34m#metrics {\"StartTime\": 1695171712.6506405, \"EndTime\": 1695171712.6506565, \"Dimensions\": {\"Algorithm\": \"Linear Learner\", \"Host\": \"algo-1\", \"Operation\": \"training\", \"epoch\": 6, \"model\": 27}, \"Metrics\": {\"train_absolute_loss_objective\": {\"sum\": 0.8028998279571533, \"count\": 1, \"min\": 0.8028998279571533, \"max\": 0.8028998279571533}}}\u001b[0m\n",
      "\u001b[34m#metrics {\"StartTime\": 1695171712.650708, \"EndTime\": 1695171712.650724, \"Dimensions\": {\"Algorithm\": \"Linear Learner\", \"Host\": \"algo-1\", \"Operation\": \"training\", \"epoch\": 6, \"model\": 28}, \"Metrics\": {\"train_absolute_loss_objective\": {\"sum\": 0.8102334499359131, \"count\": 1, \"min\": 0.8102334499359131, \"max\": 0.8102334499359131}}}\u001b[0m\n",
      "\u001b[34m#metrics {\"StartTime\": 1695171712.6507757, \"EndTime\": 1695171712.650791, \"Dimensions\": {\"Algorithm\": \"Linear Learner\", \"Host\": \"algo-1\", \"Operation\": \"training\", \"epoch\": 6, \"model\": 29}, \"Metrics\": {\"train_absolute_loss_objective\": {\"sum\": 0.8095597648620605, \"count\": 1, \"min\": 0.8095597648620605, \"max\": 0.8095597648620605}}}\u001b[0m\n",
      "\u001b[34m#metrics {\"StartTime\": 1695171712.6508472, \"EndTime\": 1695171712.6508632, \"Dimensions\": {\"Algorithm\": \"Linear Learner\", \"Host\": \"algo-1\", \"Operation\": \"training\", \"epoch\": 6, \"model\": 30}, \"Metrics\": {\"train_absolute_loss_objective\": {\"sum\": 0.815815134048462, \"count\": 1, \"min\": 0.815815134048462, \"max\": 0.815815134048462}}}\u001b[0m\n",
      "\u001b[34m#metrics {\"StartTime\": 1695171712.6509204, \"EndTime\": 1695171712.6509356, \"Dimensions\": {\"Algorithm\": \"Linear Learner\", \"Host\": \"algo-1\", \"Operation\": \"training\", \"epoch\": 6, \"model\": 31}, \"Metrics\": {\"train_absolute_loss_objective\": {\"sum\": 0.8108906269073486, \"count\": 1, \"min\": 0.8108906269073486, \"max\": 0.8108906269073486}}}\u001b[0m\n",
      "\u001b[34m[09/20/2023 01:01:52 INFO 140100470376256] #quality_metric: host=algo-1, epoch=6, train absolute_loss_objective <loss>=0.5793165063858032\u001b[0m\n",
      "\u001b[34m[09/20/2023 01:01:52 INFO 140100470376256] #early_stopping_criteria_metric: host=algo-1, epoch=6, criteria=absolute_loss_objective, value=0.2728171706199646\u001b[0m\n",
      "\u001b[34m[09/20/2023 01:01:52 INFO 140100470376256] Saving model for epoch: 6\u001b[0m\n",
      "\u001b[34m[09/20/2023 01:01:52 INFO 140100470376256] Saved checkpoint to \"/tmp/tmp3xihlaof/mx-mod-0000.params\"\u001b[0m\n",
      "\u001b[34m[09/20/2023 01:01:52 INFO 140100470376256] #progress_metric: host=algo-1, completed 7.0 % of epochs\u001b[0m\n",
      "\u001b[34m#metrics {\"StartTime\": 1695171712.424633, \"EndTime\": 1695171712.6640315, \"Dimensions\": {\"Algorithm\": \"Linear Learner\", \"Host\": \"algo-1\", \"Operation\": \"training\", \"epoch\": 6, \"Meta\": \"training_data_iter\"}, \"Metrics\": {\"Total Records Seen\": {\"sum\": 6500.0, \"count\": 1, \"min\": 6500, \"max\": 6500}, \"Total Batches Seen\": {\"sum\": 65.0, \"count\": 1, \"min\": 65, \"max\": 65}, \"Max Records Seen Between Resets\": {\"sum\": 800.0, \"count\": 1, \"min\": 800, \"max\": 800}, \"Max Batches Seen Between Resets\": {\"sum\": 8.0, \"count\": 1, \"min\": 8, \"max\": 8}, \"Reset Count\": {\"sum\": 9.0, \"count\": 1, \"min\": 9, \"max\": 9}, \"Number of Records Since Last Reset\": {\"sum\": 800.0, \"count\": 1, \"min\": 800, \"max\": 800}, \"Number of Batches Since Last Reset\": {\"sum\": 8.0, \"count\": 1, \"min\": 8, \"max\": 8}}}\u001b[0m\n",
      "\u001b[34m[09/20/2023 01:01:52 INFO 140100470376256] #throughput_metric: host=algo-1, train throughput=3339.4472476835954 records/second\u001b[0m\n",
      "\u001b[34m[2023-09-20 01:01:52.913] [tensorio] [info] epoch_stats={\"data_pipeline\": \"/opt/ml/input/data/train\", \"epoch\": 18, \"duration\": 248, \"num_examples\": 8, \"num_bytes\": 41600}\u001b[0m\n",
      "\u001b[34m#metrics {\"StartTime\": 1695171712.9135454, \"EndTime\": 1695171712.9137204, \"Dimensions\": {\"Algorithm\": \"Linear Learner\", \"Host\": \"algo-1\", \"Operation\": \"training\", \"epoch\": 7, \"model\": 0}, \"Metrics\": {\"train_absolute_loss_objective\": {\"sum\": 0.5505168676376343, \"count\": 1, \"min\": 0.5505168676376343, \"max\": 0.5505168676376343}}}\u001b[0m\n",
      "\u001b[34m#metrics {\"StartTime\": 1695171712.9138393, \"EndTime\": 1695171712.9138954, \"Dimensions\": {\"Algorithm\": \"Linear Learner\", \"Host\": \"algo-1\", \"Operation\": \"training\", \"epoch\": 7, \"model\": 1}, \"Metrics\": {\"train_absolute_loss_objective\": {\"sum\": 0.5475363874435425, \"count\": 1, \"min\": 0.5475363874435425, \"max\": 0.5475363874435425}}}\u001b[0m\n",
      "\u001b[34m#metrics {\"StartTime\": 1695171712.9139678, \"EndTime\": 1695171712.9140246, \"Dimensions\": {\"Algorithm\": \"Linear Learner\", \"Host\": \"algo-1\", \"Operation\": \"training\", \"epoch\": 7, \"model\": 2}, \"Metrics\": {\"train_absolute_loss_objective\": {\"sum\": 0.559761323928833, \"count\": 1, \"min\": 0.559761323928833, \"max\": 0.559761323928833}}}\u001b[0m\n",
      "\u001b[34m#metrics {\"StartTime\": 1695171712.9141202, \"EndTime\": 1695171712.914139, \"Dimensions\": {\"Algorithm\": \"Linear Learner\", \"Host\": \"algo-1\", \"Operation\": \"training\", \"epoch\": 7, \"model\": 3}, \"Metrics\": {\"train_absolute_loss_objective\": {\"sum\": 0.5361748361587524, \"count\": 1, \"min\": 0.5361748361587524, \"max\": 0.5361748361587524}}}\u001b[0m\n",
      "\u001b[34m#metrics {\"StartTime\": 1695171712.9142616, \"EndTime\": 1695171712.9142828, \"Dimensions\": {\"Algorithm\": \"Linear Learner\", \"Host\": \"algo-1\", \"Operation\": \"training\", \"epoch\": 7, \"model\": 4}, \"Metrics\": {\"train_absolute_loss_objective\": {\"sum\": 0.2784413766860962, \"count\": 1, \"min\": 0.2784413766860962, \"max\": 0.2784413766860962}}}\u001b[0m\n",
      "\u001b[34m#metrics {\"StartTime\": 1695171712.914375, \"EndTime\": 1695171712.914425, \"Dimensions\": {\"Algorithm\": \"Linear Learner\", \"Host\": \"algo-1\", \"Operation\": \"training\", \"epoch\": 7, \"model\": 5}, \"Metrics\": {\"train_absolute_loss_objective\": {\"sum\": 0.27564134359359743, \"count\": 1, \"min\": 0.27564134359359743, \"max\": 0.27564134359359743}}}\u001b[0m\n",
      "\u001b[34m#metrics {\"StartTime\": 1695171712.9144902, \"EndTime\": 1695171712.9145432, \"Dimensions\": {\"Algorithm\": \"Linear Learner\", \"Host\": \"algo-1\", \"Operation\": \"training\", \"epoch\": 7, \"model\": 6}, \"Metrics\": {\"train_absolute_loss_objective\": {\"sum\": 0.276734344959259, \"count\": 1, \"min\": 0.276734344959259, \"max\": 0.276734344959259}}}\u001b[0m\n",
      "\u001b[34m#metrics {\"StartTime\": 1695171712.9145992, \"EndTime\": 1695171712.9146137, \"Dimensions\": {\"Algorithm\": \"Linear Learner\", \"Host\": \"algo-1\", \"Operation\": \"training\", \"epoch\": 7, \"model\": 7}, \"Metrics\": {\"train_absolute_loss_objective\": {\"sum\": 0.27543962001800537, \"count\": 1, \"min\": 0.27543962001800537, \"max\": 0.27543962001800537}}}\u001b[0m\n",
      "\u001b[34m#metrics {\"StartTime\": 1695171712.9146929, \"EndTime\": 1695171712.9147103, \"Dimensions\": {\"Algorithm\": \"Linear Learner\", \"Host\": \"algo-1\", \"Operation\": \"training\", \"epoch\": 7, \"model\": 8}, \"Metrics\": {\"train_absolute_loss_objective\": {\"sum\": 0.5824668741226197, \"count\": 1, \"min\": 0.5824668741226197, \"max\": 0.5824668741226197}}}\u001b[0m\n",
      "\u001b[34m#metrics {\"StartTime\": 1695171712.9147859, \"EndTime\": 1695171712.9148037, \"Dimensions\": {\"Algorithm\": \"Linear Learner\", \"Host\": \"algo-1\", \"Operation\": \"training\", \"epoch\": 7, \"model\": 9}, \"Metrics\": {\"train_absolute_loss_objective\": {\"sum\": 0.522452507019043, \"count\": 1, \"min\": 0.522452507019043, \"max\": 0.522452507019043}}}\u001b[0m\n",
      "\u001b[34m#metrics {\"StartTime\": 1695171712.914858, \"EndTime\": 1695171712.9148734, \"Dimensions\": {\"Algorithm\": \"Linear Learner\", \"Host\": \"algo-1\", \"Operation\": \"training\", \"epoch\": 7, \"model\": 10}, \"Metrics\": {\"train_absolute_loss_objective\": {\"sum\": 0.5330696201324463, \"count\": 1, \"min\": 0.5330696201324463, \"max\": 0.5330696201324463}}}\u001b[0m\n",
      "\u001b[34m#metrics {\"StartTime\": 1695171712.9149745, \"EndTime\": 1695171712.9149942, \"Dimensions\": {\"Algorithm\": \"Linear Learner\", \"Host\": \"algo-1\", \"Operation\": \"training\", \"epoch\": 7, \"model\": 11}, \"Metrics\": {\"train_absolute_loss_objective\": {\"sum\": 0.5389396190643311, \"count\": 1, \"min\": 0.5389396190643311, \"max\": 0.5389396190643311}}}\u001b[0m\n",
      "\u001b[34m#metrics {\"StartTime\": 1695171712.9150949, \"EndTime\": 1695171712.9151127, \"Dimensions\": {\"Algorithm\": \"Linear Learner\", \"Host\": \"algo-1\", \"Operation\": \"training\", \"epoch\": 7, \"model\": 12}, \"Metrics\": {\"train_absolute_loss_objective\": {\"sum\": 0.27775720119476316, \"count\": 1, \"min\": 0.27775720119476316, \"max\": 0.27775720119476316}}}\u001b[0m\n",
      "\u001b[34m#metrics {\"StartTime\": 1695171712.9151578, \"EndTime\": 1695171712.9151711, \"Dimensions\": {\"Algorithm\": \"Linear Learner\", \"Host\": \"algo-1\", \"Operation\": \"training\", \"epoch\": 7, \"model\": 13}, \"Metrics\": {\"train_absolute_loss_objective\": {\"sum\": 0.28408145904541016, \"count\": 1, \"min\": 0.28408145904541016, \"max\": 0.28408145904541016}}}\u001b[0m\n",
      "\u001b[34m#metrics {\"StartTime\": 1695171712.9152496, \"EndTime\": 1695171712.9152687, \"Dimensions\": {\"Algorithm\": \"Linear Learner\", \"Host\": \"algo-1\", \"Operation\": \"training\", \"epoch\": 7, \"model\": 14}, \"Metrics\": {\"train_absolute_loss_objective\": {\"sum\": 0.28219559192657473, \"count\": 1, \"min\": 0.28219559192657473, \"max\": 0.28219559192657473}}}\u001b[0m\n",
      "\u001b[34m#metrics {\"StartTime\": 1695171712.915319, \"EndTime\": 1695171712.9153748, \"Dimensions\": {\"Algorithm\": \"Linear Learner\", \"Host\": \"algo-1\", \"Operation\": \"training\", \"epoch\": 7, \"model\": 15}, \"Metrics\": {\"train_absolute_loss_objective\": {\"sum\": 0.2878063106536865, \"count\": 1, \"min\": 0.2878063106536865, \"max\": 0.2878063106536865}}}\u001b[0m\n",
      "\u001b[34m#metrics {\"StartTime\": 1695171712.9154348, \"EndTime\": 1695171712.9154544, \"Dimensions\": {\"Algorithm\": \"Linear Learner\", \"Host\": \"algo-1\", \"Operation\": \"training\", \"epoch\": 7, \"model\": 16}, \"Metrics\": {\"train_absolute_loss_objective\": {\"sum\": 0.5435194683074951, \"count\": 1, \"min\": 0.5435194683074951, \"max\": 0.5435194683074951}}}\u001b[0m\n",
      "\u001b[34m#metrics {\"StartTime\": 1695171712.9155042, \"EndTime\": 1695171712.915519, \"Dimensions\": {\"Algorithm\": \"Linear Learner\", \"Host\": \"algo-1\", \"Operation\": \"training\", \"epoch\": 7, \"model\": 17}, \"Metrics\": {\"train_absolute_loss_objective\": {\"sum\": 0.5306794452667236, \"count\": 1, \"min\": 0.5306794452667236, \"max\": 0.5306794452667236}}}\u001b[0m\n",
      "\u001b[34m#metrics {\"StartTime\": 1695171712.9155676, \"EndTime\": 1695171712.9155827, \"Dimensions\": {\"Algorithm\": \"Linear Learner\", \"Host\": \"algo-1\", \"Operation\": \"training\", \"epoch\": 7, \"model\": 18}, \"Metrics\": {\"train_absolute_loss_objective\": {\"sum\": 0.5892786073684693, \"count\": 1, \"min\": 0.5892786073684693, \"max\": 0.5892786073684693}}}\u001b[0m\n",
      "\u001b[34m#metrics {\"StartTime\": 1695171712.9156754, \"EndTime\": 1695171712.9156914, \"Dimensions\": {\"Algorithm\": \"Linear Learner\", \"Host\": \"algo-1\", \"Operation\": \"training\", \"epoch\": 7, \"model\": 19}, \"Metrics\": {\"train_absolute_loss_objective\": {\"sum\": 0.5469374990463257, \"count\": 1, \"min\": 0.5469374990463257, \"max\": 0.5469374990463257}}}\u001b[0m\n",
      "\u001b[34m#metrics {\"StartTime\": 1695171712.915786, \"EndTime\": 1695171712.915804, \"Dimensions\": {\"Algorithm\": \"Linear Learner\", \"Host\": \"algo-1\", \"Operation\": \"training\", \"epoch\": 7, \"model\": 20}, \"Metrics\": {\"train_absolute_loss_objective\": {\"sum\": 0.37595860958099364, \"count\": 1, \"min\": 0.37595860958099364, \"max\": 0.37595860958099364}}}\u001b[0m\n",
      "\u001b[34m#metrics {\"StartTime\": 1695171712.915856, \"EndTime\": 1695171712.9158704, \"Dimensions\": {\"Algorithm\": \"Linear Learner\", \"Host\": \"algo-1\", \"Operation\": \"training\", \"epoch\": 7, \"model\": 21}, \"Metrics\": {\"train_absolute_loss_objective\": {\"sum\": 0.39149127960205077, \"count\": 1, \"min\": 0.39149127960205077, \"max\": 0.39149127960205077}}}\u001b[0m\n",
      "\u001b[34m#metrics {\"StartTime\": 1695171712.91592, \"EndTime\": 1695171712.915937, \"Dimensions\": {\"Algorithm\": \"Linear Learner\", \"Host\": \"algo-1\", \"Operation\": \"training\", \"epoch\": 7, \"model\": 22}, \"Metrics\": {\"train_absolute_loss_objective\": {\"sum\": 0.39226866722106934, \"count\": 1, \"min\": 0.39226866722106934, \"max\": 0.39226866722106934}}}\u001b[0m\n",
      "\u001b[34m#metrics {\"StartTime\": 1695171712.9159865, \"EndTime\": 1695171712.9160388, \"Dimensions\": {\"Algorithm\": \"Linear Learner\", \"Host\": \"algo-1\", \"Operation\": \"training\", \"epoch\": 7, \"model\": 23}, \"Metrics\": {\"train_absolute_loss_objective\": {\"sum\": 0.4065339517593384, \"count\": 1, \"min\": 0.4065339517593384, \"max\": 0.4065339517593384}}}\u001b[0m\n",
      "\u001b[34m#metrics {\"StartTime\": 1695171712.9161038, \"EndTime\": 1695171712.9161623, \"Dimensions\": {\"Algorithm\": \"Linear Learner\", \"Host\": \"algo-1\", \"Operation\": \"training\", \"epoch\": 7, \"model\": 24}, \"Metrics\": {\"train_absolute_loss_objective\": {\"sum\": 0.8027102661132812, \"count\": 1, \"min\": 0.8027102661132812, \"max\": 0.8027102661132812}}}\u001b[0m\n",
      "\u001b[34m#metrics {\"StartTime\": 1695171712.916222, \"EndTime\": 1695171712.9162726, \"Dimensions\": {\"Algorithm\": \"Linear Learner\", \"Host\": \"algo-1\", \"Operation\": \"training\", \"epoch\": 7, \"model\": 25}, \"Metrics\": {\"train_absolute_loss_objective\": {\"sum\": 0.8009745788574218, \"count\": 1, \"min\": 0.8009745788574218, \"max\": 0.8009745788574218}}}\u001b[0m\n",
      "\u001b[34m#metrics {\"StartTime\": 1695171712.916329, \"EndTime\": 1695171712.9163456, \"Dimensions\": {\"Algorithm\": \"Linear Learner\", \"Host\": \"algo-1\", \"Operation\": \"training\", \"epoch\": 7, \"model\": 26}, \"Metrics\": {\"train_absolute_loss_objective\": {\"sum\": 0.8000348663330078, \"count\": 1, \"min\": 0.8000348663330078, \"max\": 0.8000348663330078}}}\u001b[0m\n",
      "\u001b[34m#metrics {\"StartTime\": 1695171712.9163966, \"EndTime\": 1695171712.916414, \"Dimensions\": {\"Algorithm\": \"Linear Learner\", \"Host\": \"algo-1\", \"Operation\": \"training\", \"epoch\": 7, \"model\": 27}, \"Metrics\": {\"train_absolute_loss_objective\": {\"sum\": 0.8021554660797119, \"count\": 1, \"min\": 0.8021554660797119, \"max\": 0.8021554660797119}}}\u001b[0m\n",
      "\u001b[34m#metrics {\"StartTime\": 1695171712.9164674, \"EndTime\": 1695171712.9164834, \"Dimensions\": {\"Algorithm\": \"Linear Learner\", \"Host\": \"algo-1\", \"Operation\": \"training\", \"epoch\": 7, \"model\": 28}, \"Metrics\": {\"train_absolute_loss_objective\": {\"sum\": 0.8056246852874756, \"count\": 1, \"min\": 0.8056246852874756, \"max\": 0.8056246852874756}}}\u001b[0m\n",
      "\u001b[34m#metrics {\"StartTime\": 1695171712.9165757, \"EndTime\": 1695171712.9165967, \"Dimensions\": {\"Algorithm\": \"Linear Learner\", \"Host\": \"algo-1\", \"Operation\": \"training\", \"epoch\": 7, \"model\": 29}, \"Metrics\": {\"train_absolute_loss_objective\": {\"sum\": 0.808224401473999, \"count\": 1, \"min\": 0.808224401473999, \"max\": 0.808224401473999}}}\u001b[0m\n",
      "\u001b[34m#metrics {\"StartTime\": 1695171712.9167192, \"EndTime\": 1695171712.916742, \"Dimensions\": {\"Algorithm\": \"Linear Learner\", \"Host\": \"algo-1\", \"Operation\": \"training\", \"epoch\": 7, \"model\": 30}, \"Metrics\": {\"train_absolute_loss_objective\": {\"sum\": 0.8088969326019287, \"count\": 1, \"min\": 0.8088969326019287, \"max\": 0.8088969326019287}}}\u001b[0m\n",
      "\u001b[34m#metrics {\"StartTime\": 1695171712.9168031, \"EndTime\": 1695171712.9168196, \"Dimensions\": {\"Algorithm\": \"Linear Learner\", \"Host\": \"algo-1\", \"Operation\": \"training\", \"epoch\": 7, \"model\": 31}, \"Metrics\": {\"train_absolute_loss_objective\": {\"sum\": 0.8096288967132569, \"count\": 1, \"min\": 0.8096288967132569, \"max\": 0.8096288967132569}}}\u001b[0m\n",
      "\u001b[34m[09/20/2023 01:01:52 INFO 140100470376256] #quality_metric: host=algo-1, epoch=7, train absolute_loss_objective <loss>=0.5505168676376343\u001b[0m\n",
      "\u001b[34m[09/20/2023 01:01:52 INFO 140100470376256] #early_stopping_criteria_metric: host=algo-1, epoch=7, criteria=absolute_loss_objective, value=0.27543962001800537\u001b[0m\n",
      "\u001b[34m[09/20/2023 01:01:52 INFO 140100470376256] Saving model for epoch: 7\u001b[0m\n",
      "\u001b[34m[09/20/2023 01:01:52 INFO 140100470376256] Saved checkpoint to \"/tmp/tmp6qbq3wmb/mx-mod-0000.params\"\u001b[0m\n",
      "\u001b[34m[09/20/2023 01:01:52 INFO 140100470376256] #progress_metric: host=algo-1, completed 8.0 % of epochs\u001b[0m\n",
      "\u001b[34m#metrics {\"StartTime\": 1695171712.6644135, \"EndTime\": 1695171712.9329808, \"Dimensions\": {\"Algorithm\": \"Linear Learner\", \"Host\": \"algo-1\", \"Operation\": \"training\", \"epoch\": 7, \"Meta\": \"training_data_iter\"}, \"Metrics\": {\"Total Records Seen\": {\"sum\": 7300.0, \"count\": 1, \"min\": 7300, \"max\": 7300}, \"Total Batches Seen\": {\"sum\": 73.0, \"count\": 1, \"min\": 73, \"max\": 73}, \"Max Records Seen Between Resets\": {\"sum\": 800.0, \"count\": 1, \"min\": 800, \"max\": 800}, \"Max Batches Seen Between Resets\": {\"sum\": 8.0, \"count\": 1, \"min\": 8, \"max\": 8}, \"Reset Count\": {\"sum\": 10.0, \"count\": 1, \"min\": 10, \"max\": 10}, \"Number of Records Since Last Reset\": {\"sum\": 800.0, \"count\": 1, \"min\": 800, \"max\": 800}, \"Number of Batches Since Last Reset\": {\"sum\": 8.0, \"count\": 1, \"min\": 8, \"max\": 8}}}\u001b[0m\n",
      "\u001b[34m[09/20/2023 01:01:52 INFO 140100470376256] #throughput_metric: host=algo-1, train throughput=2976.9771215590736 records/second\u001b[0m\n",
      "\u001b[34m[2023-09-20 01:01:53.162] [tensorio] [info] epoch_stats={\"data_pipeline\": \"/opt/ml/input/data/train\", \"epoch\": 20, \"duration\": 228, \"num_examples\": 8, \"num_bytes\": 41600}\u001b[0m\n",
      "\u001b[34m#metrics {\"StartTime\": 1695171713.1627882, \"EndTime\": 1695171713.1628785, \"Dimensions\": {\"Algorithm\": \"Linear Learner\", \"Host\": \"algo-1\", \"Operation\": \"training\", \"epoch\": 8, \"model\": 0}, \"Metrics\": {\"train_absolute_loss_objective\": {\"sum\": 0.5228485107421875, \"count\": 1, \"min\": 0.5228485107421875, \"max\": 0.5228485107421875}}}\u001b[0m\n",
      "\u001b[34m#metrics {\"StartTime\": 1695171713.1632934, \"EndTime\": 1695171713.1633215, \"Dimensions\": {\"Algorithm\": \"Linear Learner\", \"Host\": \"algo-1\", \"Operation\": \"training\", \"epoch\": 8, \"model\": 1}, \"Metrics\": {\"train_absolute_loss_objective\": {\"sum\": 0.5180067682266235, \"count\": 1, \"min\": 0.5180067682266235, \"max\": 0.5180067682266235}}}\u001b[0m\n",
      "\u001b[34m#metrics {\"StartTime\": 1695171713.1637063, \"EndTime\": 1695171713.1637301, \"Dimensions\": {\"Algorithm\": \"Linear Learner\", \"Host\": \"algo-1\", \"Operation\": \"training\", \"epoch\": 8, \"model\": 2}, \"Metrics\": {\"train_absolute_loss_objective\": {\"sum\": 0.5318455696105957, \"count\": 1, \"min\": 0.5318455696105957, \"max\": 0.5318455696105957}}}\u001b[0m\n",
      "\u001b[34m#metrics {\"StartTime\": 1695171713.164108, \"EndTime\": 1695171713.1641314, \"Dimensions\": {\"Algorithm\": \"Linear Learner\", \"Host\": \"algo-1\", \"Operation\": \"training\", \"epoch\": 8, \"model\": 3}, \"Metrics\": {\"train_absolute_loss_objective\": {\"sum\": 0.5070517206192017, \"count\": 1, \"min\": 0.5070517206192017, \"max\": 0.5070517206192017}}}\u001b[0m\n",
      "\u001b[34m#metrics {\"StartTime\": 1695171713.1645167, \"EndTime\": 1695171713.1645396, \"Dimensions\": {\"Algorithm\": \"Linear Learner\", \"Host\": \"algo-1\", \"Operation\": \"training\", \"epoch\": 8, \"model\": 4}, \"Metrics\": {\"train_absolute_loss_objective\": {\"sum\": 0.2774146246910095, \"count\": 1, \"min\": 0.2774146246910095, \"max\": 0.2774146246910095}}}\u001b[0m\n",
      "\u001b[34m#metrics {\"StartTime\": 1695171713.1648703, \"EndTime\": 1695171713.1648927, \"Dimensions\": {\"Algorithm\": \"Linear Learner\", \"Host\": \"algo-1\", \"Operation\": \"training\", \"epoch\": 8, \"model\": 5}, \"Metrics\": {\"train_absolute_loss_objective\": {\"sum\": 0.2697364521026611, \"count\": 1, \"min\": 0.2697364521026611, \"max\": 0.2697364521026611}}}\u001b[0m\n",
      "\u001b[34m#metrics {\"StartTime\": 1695171713.1652136, \"EndTime\": 1695171713.1652367, \"Dimensions\": {\"Algorithm\": \"Linear Learner\", \"Host\": \"algo-1\", \"Operation\": \"training\", \"epoch\": 8, \"model\": 6}, \"Metrics\": {\"train_absolute_loss_objective\": {\"sum\": 0.2768372821807861, \"count\": 1, \"min\": 0.2768372821807861, \"max\": 0.2768372821807861}}}\u001b[0m\n",
      "\u001b[34m#metrics {\"StartTime\": 1695171713.1655552, \"EndTime\": 1695171713.1655772, \"Dimensions\": {\"Algorithm\": \"Linear Learner\", \"Host\": \"algo-1\", \"Operation\": \"training\", \"epoch\": 8, \"model\": 7}, \"Metrics\": {\"train_absolute_loss_objective\": {\"sum\": 0.2705312085151672, \"count\": 1, \"min\": 0.2705312085151672, \"max\": 0.2705312085151672}}}\u001b[0m\n",
      "\u001b[34m#metrics {\"StartTime\": 1695171713.1658947, \"EndTime\": 1695171713.1659176, \"Dimensions\": {\"Algorithm\": \"Linear Learner\", \"Host\": \"algo-1\", \"Operation\": \"training\", \"epoch\": 8, \"model\": 8}, \"Metrics\": {\"train_absolute_loss_objective\": {\"sum\": 0.5535993909835816, \"count\": 1, \"min\": 0.5535993909835816, \"max\": 0.5535993909835816}}}\u001b[0m\n",
      "\u001b[34m#metrics {\"StartTime\": 1695171713.1662352, \"EndTime\": 1695171713.1662567, \"Dimensions\": {\"Algorithm\": \"Linear Learner\", \"Host\": \"algo-1\", \"Operation\": \"training\", \"epoch\": 8, \"model\": 9}, \"Metrics\": {\"train_absolute_loss_objective\": {\"sum\": 0.4941893768310547, \"count\": 1, \"min\": 0.4941893768310547, \"max\": 0.4941893768310547}}}\u001b[0m\n",
      "\u001b[34m#metrics {\"StartTime\": 1695171713.166572, \"EndTime\": 1695171713.166595, \"Dimensions\": {\"Algorithm\": \"Linear Learner\", \"Host\": \"algo-1\", \"Operation\": \"training\", \"epoch\": 8, \"model\": 10}, \"Metrics\": {\"train_absolute_loss_objective\": {\"sum\": 0.5065289258956909, \"count\": 1, \"min\": 0.5065289258956909, \"max\": 0.5065289258956909}}}\u001b[0m\n",
      "\u001b[34m#metrics {\"StartTime\": 1695171713.166916, \"EndTime\": 1695171713.1669383, \"Dimensions\": {\"Algorithm\": \"Linear Learner\", \"Host\": \"algo-1\", \"Operation\": \"training\", \"epoch\": 8, \"model\": 11}, \"Metrics\": {\"train_absolute_loss_objective\": {\"sum\": 0.5105946302413941, \"count\": 1, \"min\": 0.5105946302413941, \"max\": 0.5105946302413941}}}\u001b[0m\n",
      "\u001b[34m#metrics {\"StartTime\": 1695171713.167268, \"EndTime\": 1695171713.1672919, \"Dimensions\": {\"Algorithm\": \"Linear Learner\", \"Host\": \"algo-1\", \"Operation\": \"training\", \"epoch\": 8, \"model\": 12}, \"Metrics\": {\"train_absolute_loss_objective\": {\"sum\": 0.2772091555595398, \"count\": 1, \"min\": 0.2772091555595398, \"max\": 0.2772091555595398}}}\u001b[0m\n",
      "\u001b[34m#metrics {\"StartTime\": 1695171713.167627, \"EndTime\": 1695171713.1676505, \"Dimensions\": {\"Algorithm\": \"Linear Learner\", \"Host\": \"algo-1\", \"Operation\": \"training\", \"epoch\": 8, \"model\": 13}, \"Metrics\": {\"train_absolute_loss_objective\": {\"sum\": 0.280751051902771, \"count\": 1, \"min\": 0.280751051902771, \"max\": 0.280751051902771}}}\u001b[0m\n",
      "\u001b[34m#metrics {\"StartTime\": 1695171713.1679666, \"EndTime\": 1695171713.1679897, \"Dimensions\": {\"Algorithm\": \"Linear Learner\", \"Host\": \"algo-1\", \"Operation\": \"training\", \"epoch\": 8, \"model\": 14}, \"Metrics\": {\"train_absolute_loss_objective\": {\"sum\": 0.2847236013412476, \"count\": 1, \"min\": 0.2847236013412476, \"max\": 0.2847236013412476}}}\u001b[0m\n",
      "\u001b[34m#metrics {\"StartTime\": 1695171713.1684024, \"EndTime\": 1695171713.1684268, \"Dimensions\": {\"Algorithm\": \"Linear Learner\", \"Host\": \"algo-1\", \"Operation\": \"training\", \"epoch\": 8, \"model\": 15}, \"Metrics\": {\"train_absolute_loss_objective\": {\"sum\": 0.2897405958175659, \"count\": 1, \"min\": 0.2897405958175659, \"max\": 0.2897405958175659}}}\u001b[0m\n",
      "\u001b[34m#metrics {\"StartTime\": 1695171713.1687636, \"EndTime\": 1695171713.168805, \"Dimensions\": {\"Algorithm\": \"Linear Learner\", \"Host\": \"algo-1\", \"Operation\": \"training\", \"epoch\": 8, \"model\": 16}, \"Metrics\": {\"train_absolute_loss_objective\": {\"sum\": 0.5213660383224488, \"count\": 1, \"min\": 0.5213660383224488, \"max\": 0.5213660383224488}}}\u001b[0m\n",
      "\u001b[34m#metrics {\"StartTime\": 1695171713.169108, \"EndTime\": 1695171713.1691303, \"Dimensions\": {\"Algorithm\": \"Linear Learner\", \"Host\": \"algo-1\", \"Operation\": \"training\", \"epoch\": 8, \"model\": 17}, \"Metrics\": {\"train_absolute_loss_objective\": {\"sum\": 0.5085486507415772, \"count\": 1, \"min\": 0.5085486507415772, \"max\": 0.5085486507415772}}}\u001b[0m\n",
      "\u001b[34m#metrics {\"StartTime\": 1695171713.1694326, \"EndTime\": 1695171713.1694555, \"Dimensions\": {\"Algorithm\": \"Linear Learner\", \"Host\": \"algo-1\", \"Operation\": \"training\", \"epoch\": 8, \"model\": 18}, \"Metrics\": {\"train_absolute_loss_objective\": {\"sum\": 0.5676804447174072, \"count\": 1, \"min\": 0.5676804447174072, \"max\": 0.5676804447174072}}}\u001b[0m\n",
      "\u001b[34m#metrics {\"StartTime\": 1695171713.1697655, \"EndTime\": 1695171713.1697876, \"Dimensions\": {\"Algorithm\": \"Linear Learner\", \"Host\": \"algo-1\", \"Operation\": \"training\", \"epoch\": 8, \"model\": 19}, \"Metrics\": {\"train_absolute_loss_objective\": {\"sum\": 0.5251672077178955, \"count\": 1, \"min\": 0.5251672077178955, \"max\": 0.5251672077178955}}}\u001b[0m\n",
      "\u001b[34m#metrics {\"StartTime\": 1695171713.170086, \"EndTime\": 1695171713.1701086, \"Dimensions\": {\"Algorithm\": \"Linear Learner\", \"Host\": \"algo-1\", \"Operation\": \"training\", \"epoch\": 8, \"model\": 20}, \"Metrics\": {\"train_absolute_loss_objective\": {\"sum\": 0.39631301879882813, \"count\": 1, \"min\": 0.39631301879882813, \"max\": 0.39631301879882813}}}\u001b[0m\n",
      "\u001b[34m#metrics {\"StartTime\": 1695171713.1704168, \"EndTime\": 1695171713.1704407, \"Dimensions\": {\"Algorithm\": \"Linear Learner\", \"Host\": \"algo-1\", \"Operation\": \"training\", \"epoch\": 8, \"model\": 21}, \"Metrics\": {\"train_absolute_loss_objective\": {\"sum\": 0.39921740055084226, \"count\": 1, \"min\": 0.39921740055084226, \"max\": 0.39921740055084226}}}\u001b[0m\n",
      "\u001b[34m#metrics {\"StartTime\": 1695171713.1707375, \"EndTime\": 1695171713.1707606, \"Dimensions\": {\"Algorithm\": \"Linear Learner\", \"Host\": \"algo-1\", \"Operation\": \"training\", \"epoch\": 8, \"model\": 22}, \"Metrics\": {\"train_absolute_loss_objective\": {\"sum\": 0.3977173376083374, \"count\": 1, \"min\": 0.3977173376083374, \"max\": 0.3977173376083374}}}\u001b[0m\n",
      "\u001b[34m#metrics {\"StartTime\": 1695171713.1710513, \"EndTime\": 1695171713.1710744, \"Dimensions\": {\"Algorithm\": \"Linear Learner\", \"Host\": \"algo-1\", \"Operation\": \"training\", \"epoch\": 8, \"model\": 23}, \"Metrics\": {\"train_absolute_loss_objective\": {\"sum\": 0.41000990390777586, \"count\": 1, \"min\": 0.41000990390777586, \"max\": 0.41000990390777586}}}\u001b[0m\n",
      "\u001b[34m#metrics {\"StartTime\": 1695171713.1714087, \"EndTime\": 1695171713.171432, \"Dimensions\": {\"Algorithm\": \"Linear Learner\", \"Host\": \"algo-1\", \"Operation\": \"training\", \"epoch\": 8, \"model\": 24}, \"Metrics\": {\"train_absolute_loss_objective\": {\"sum\": 0.8010127830505371, \"count\": 1, \"min\": 0.8010127830505371, \"max\": 0.8010127830505371}}}\u001b[0m\n",
      "\u001b[34m#metrics {\"StartTime\": 1695171713.171736, \"EndTime\": 1695171713.1717584, \"Dimensions\": {\"Algorithm\": \"Linear Learner\", \"Host\": \"algo-1\", \"Operation\": \"training\", \"epoch\": 8, \"model\": 25}, \"Metrics\": {\"train_absolute_loss_objective\": {\"sum\": 0.8009613609313965, \"count\": 1, \"min\": 0.8009613609313965, \"max\": 0.8009613609313965}}}\u001b[0m\n",
      "\u001b[34m#metrics {\"StartTime\": 1695171713.172122, \"EndTime\": 1695171713.1721456, \"Dimensions\": {\"Algorithm\": \"Linear Learner\", \"Host\": \"algo-1\", \"Operation\": \"training\", \"epoch\": 8, \"model\": 26}, \"Metrics\": {\"train_absolute_loss_objective\": {\"sum\": 0.8013384246826172, \"count\": 1, \"min\": 0.8013384246826172, \"max\": 0.8013384246826172}}}\u001b[0m\n",
      "\u001b[34m#metrics {\"StartTime\": 1695171713.172509, \"EndTime\": 1695171713.1725323, \"Dimensions\": {\"Algorithm\": \"Linear Learner\", \"Host\": \"algo-1\", \"Operation\": \"training\", \"epoch\": 8, \"model\": 27}, \"Metrics\": {\"train_absolute_loss_objective\": {\"sum\": 0.8003091907501221, \"count\": 1, \"min\": 0.8003091907501221, \"max\": 0.8003091907501221}}}\u001b[0m\n",
      "\u001b[34m#metrics {\"StartTime\": 1695171713.1728718, \"EndTime\": 1695171713.1728945, \"Dimensions\": {\"Algorithm\": \"Linear Learner\", \"Host\": \"algo-1\", \"Operation\": \"training\", \"epoch\": 8, \"model\": 28}, \"Metrics\": {\"train_absolute_loss_objective\": {\"sum\": 0.8088307189941406, \"count\": 1, \"min\": 0.8088307189941406, \"max\": 0.8088307189941406}}}\u001b[0m\n",
      "\u001b[34m#metrics {\"StartTime\": 1695171713.173264, \"EndTime\": 1695171713.1732888, \"Dimensions\": {\"Algorithm\": \"Linear Learner\", \"Host\": \"algo-1\", \"Operation\": \"training\", \"epoch\": 8, \"model\": 29}, \"Metrics\": {\"train_absolute_loss_objective\": {\"sum\": 0.8080663108825683, \"count\": 1, \"min\": 0.8080663108825683, \"max\": 0.8080663108825683}}}\u001b[0m\n",
      "\u001b[34m#metrics {\"StartTime\": 1695171713.1736746, \"EndTime\": 1695171713.173698, \"Dimensions\": {\"Algorithm\": \"Linear Learner\", \"Host\": \"algo-1\", \"Operation\": \"training\", \"epoch\": 8, \"model\": 30}, \"Metrics\": {\"train_absolute_loss_objective\": {\"sum\": 0.8046578216552734, \"count\": 1, \"min\": 0.8046578216552734, \"max\": 0.8046578216552734}}}\u001b[0m\n",
      "\u001b[34m#metrics {\"StartTime\": 1695171713.174088, \"EndTime\": 1695171713.1741116, \"Dimensions\": {\"Algorithm\": \"Linear Learner\", \"Host\": \"algo-1\", \"Operation\": \"training\", \"epoch\": 8, \"model\": 31}, \"Metrics\": {\"train_absolute_loss_objective\": {\"sum\": 0.8078884601593017, \"count\": 1, \"min\": 0.8078884601593017, \"max\": 0.8078884601593017}}}\u001b[0m\n",
      "\u001b[34m[09/20/2023 01:01:53 INFO 140100470376256] #quality_metric: host=algo-1, epoch=8, train absolute_loss_objective <loss>=0.5228485107421875\u001b[0m\n",
      "\u001b[34m[09/20/2023 01:01:53 INFO 140100470376256] #early_stopping_criteria_metric: host=algo-1, epoch=8, criteria=absolute_loss_objective, value=0.2697364521026611\u001b[0m\n",
      "\u001b[34m[09/20/2023 01:01:53 INFO 140100470376256] Saving model for epoch: 8\u001b[0m\n",
      "\u001b[34m[09/20/2023 01:01:53 INFO 140100470376256] Saved checkpoint to \"/tmp/tmp9ow6aly8/mx-mod-0000.params\"\u001b[0m\n",
      "\u001b[34m[09/20/2023 01:01:53 INFO 140100470376256] Early stop condition met. Stopping training.\u001b[0m\n",
      "\u001b[34m[09/20/2023 01:01:53 INFO 140100470376256] #progress_metric: host=algo-1, completed 100 % epochs\u001b[0m\n",
      "\u001b[34m#metrics {\"StartTime\": 1695171712.933335, \"EndTime\": 1695171713.1885786, \"Dimensions\": {\"Algorithm\": \"Linear Learner\", \"Host\": \"algo-1\", \"Operation\": \"training\", \"epoch\": 8, \"Meta\": \"training_data_iter\"}, \"Metrics\": {\"Total Records Seen\": {\"sum\": 8100.0, \"count\": 1, \"min\": 8100, \"max\": 8100}, \"Total Batches Seen\": {\"sum\": 81.0, \"count\": 1, \"min\": 81, \"max\": 81}, \"Max Records Seen Between Resets\": {\"sum\": 800.0, \"count\": 1, \"min\": 800, \"max\": 800}, \"Max Batches Seen Between Resets\": {\"sum\": 8.0, \"count\": 1, \"min\": 8, \"max\": 8}, \"Reset Count\": {\"sum\": 11.0, \"count\": 1, \"min\": 11, \"max\": 11}, \"Number of Records Since Last Reset\": {\"sum\": 800.0, \"count\": 1, \"min\": 800, \"max\": 800}, \"Number of Batches Since Last Reset\": {\"sum\": 8.0, \"count\": 1, \"min\": 8, \"max\": 8}}}\u001b[0m\n",
      "\u001b[34m[09/20/2023 01:01:53 INFO 140100470376256] #throughput_metric: host=algo-1, train throughput=3128.460851388368 records/second\u001b[0m\n",
      "\u001b[34m[09/20/2023 01:01:53 WARNING 140100470376256] wait_for_all_workers will not sync workers since the kv store is not running distributed\u001b[0m\n",
      "\u001b[34m[09/20/2023 01:01:53 WARNING 140100470376256] wait_for_all_workers will not sync workers since the kv store is not running distributed\u001b[0m\n",
      "\u001b[34m[2023-09-20 01:01:53.191] [tensorio] [info] epoch_stats={\"data_pipeline\": \"/opt/ml/input/data/train\", \"epoch\": 22, \"duration\": 0, \"num_examples\": 1, \"num_bytes\": 5200}\u001b[0m\n",
      "\u001b[34m[2023-09-20 01:01:53.227] [tensorio] [info] epoch_stats={\"data_pipeline\": \"/opt/ml/input/data/train\", \"epoch\": 24, \"duration\": 31, \"num_examples\": 8, \"num_bytes\": 41600}\u001b[0m\n",
      "\u001b[34m[09/20/2023 01:01:53 INFO 140100470376256] #train_score (algo-1) : ('absolute_loss_objective', 54.00780883789062)\u001b[0m\n",
      "\u001b[34m[09/20/2023 01:01:53 INFO 140100470376256] #train_score (algo-1) : ('mse', 4497.2261328125)\u001b[0m\n",
      "\u001b[34m[09/20/2023 01:01:53 INFO 140100470376256] #train_score (algo-1) : ('absolute_loss', 54.00780883789062)\u001b[0m\n",
      "\u001b[34m[09/20/2023 01:01:53 INFO 140100470376256] #train_score (algo-1) : ('rmse', 67.06136095258208)\u001b[0m\n",
      "\u001b[34m[09/20/2023 01:01:53 INFO 140100470376256] #train_score (algo-1) : ('r2', 0.8823320597816716)\u001b[0m\n",
      "\u001b[34m[09/20/2023 01:01:53 INFO 140100470376256] #train_score (algo-1) : ('mae', 54.007808685302734)\u001b[0m\n",
      "\u001b[34m[09/20/2023 01:01:53 INFO 140100470376256] #quality_metric: host=algo-1, train absolute_loss_objective <loss>=54.00780883789062\u001b[0m\n",
      "\u001b[34m[09/20/2023 01:01:53 INFO 140100470376256] #quality_metric: host=algo-1, train mse <loss>=4497.2261328125\u001b[0m\n",
      "\u001b[34m[09/20/2023 01:01:53 INFO 140100470376256] #quality_metric: host=algo-1, train absolute_loss <loss>=54.00780883789062\u001b[0m\n",
      "\u001b[34m[09/20/2023 01:01:53 INFO 140100470376256] #quality_metric: host=algo-1, train rmse <loss>=67.06136095258208\u001b[0m\n",
      "\u001b[34m[09/20/2023 01:01:53 INFO 140100470376256] #quality_metric: host=algo-1, train r2 <loss>=0.8823320597816716\u001b[0m\n",
      "\u001b[34m[09/20/2023 01:01:53 INFO 140100470376256] #quality_metric: host=algo-1, train mae <loss>=54.007808685302734\u001b[0m\n",
      "\u001b[34m[09/20/2023 01:01:53 INFO 140100470376256] Best model found for hyperparameters: {\"optimizer\": \"adam\", \"learning_rate\": 0.1, \"wd\": 0.0001, \"l1\": 0.0, \"lr_scheduler_step\": 100, \"lr_scheduler_factor\": 0.99, \"lr_scheduler_minimum_lr\": 1e-05}\u001b[0m\n",
      "\u001b[34m[09/20/2023 01:01:53 INFO 140100470376256] Saved checkpoint to \"/tmp/tmpondt_onh/mx-mod-0000.params\"\u001b[0m\n",
      "\u001b[34m[09/20/2023 01:01:53 INFO 140100470376256] Test data is not provided.\u001b[0m\n",
      "\u001b[34m#metrics {\"StartTime\": 1695171710.9800224, \"EndTime\": 1695171713.2438347, \"Dimensions\": {\"Algorithm\": \"Linear Learner\", \"Host\": \"algo-1\", \"Operation\": \"training\"}, \"Metrics\": {\"initialize.time\": {\"sum\": 202.63314247131348, \"count\": 1, \"min\": 202.63314247131348, \"max\": 202.63314247131348}, \"epochs\": {\"sum\": 100.0, \"count\": 1, \"min\": 100, \"max\": 100}, \"check_early_stopping.time\": {\"sum\": 7.4977874755859375, \"count\": 9, \"min\": 0.24747848510742188, \"max\": 1.4567375183105469}, \"update.time\": {\"sum\": 1967.2136306762695, \"count\": 9, \"min\": 177.70028114318848, \"max\": 265.23733139038086}, \"finalize.time\": {\"sum\": 45.78828811645508, \"count\": 1, \"min\": 45.78828811645508, \"max\": 45.78828811645508}, \"setuptime\": {\"sum\": 2.5577545166015625, \"count\": 1, \"min\": 2.5577545166015625, \"max\": 2.5577545166015625}, \"totaltime\": {\"sum\": 2395.1797485351562, \"count\": 1, \"min\": 2395.1797485351562, \"max\": 2395.1797485351562}}}\u001b[0m\n",
      "\n",
      "2023-09-20 01:02:12 Completed - Training job completed\n",
      "Training seconds: 148\n",
      "Billable seconds: 91\n",
      "Managed Spot Training savings: 38.5%\n"
     ]
    }
   ],
   "source": [
    "# We have pass in the container, the type of instance that we would like to use for training \n",
    "# output path and sagemaker session into the Estimator. \n",
    "# We can also specify how many instances we would like to use for training\n",
    "\n",
    "linear = sagemaker.estimator.Estimator(container,\n",
    "                                       role, \n",
    "                                       instance_count = 1, \n",
    "                                       instance_type = 'ml.m4.xlarge',\n",
    "                                       output_path = output_location,\n",
    "                                       sagemaker_session = sagemaker_session,\n",
    "                                       use_spot_instances = True,\n",
    "                                       max_run = 300,\n",
    "                                       max_wait = 600)\n",
    "\n",
    "\n",
    "# We can tune parameters like the number of features that we are passing in, type of predictor like 'regressor' or 'classifier', mini batch size, epochs\n",
    "# Train 32 different versions of the model and will get the best out of them (built-in parameters optimization!)\n",
    "\n",
    "linear.set_hyperparameters(feature_dim = 2,\n",
    "                           predictor_type = 'regressor',\n",
    "                           mini_batch_size = 100,\n",
    "                           epochs = 100,\n",
    "                           num_models = 32,\n",
    "                           loss = 'absolute_loss')\n",
    "\n",
    "# Now we are ready to pass in the training data from S3 to train the linear learner model\n",
    "\n",
    "linear.fit({'train': s3_train_data})\n",
    "\n",
    "# Let's see the progress using cloudwatch logs"
   ]
  },
  {
   "cell_type": "markdown",
   "metadata": {},
   "source": [
    "# TASK #4: DEPLOY AND TEST THE TRAINED LINEAR LEARNER MODEL "
   ]
  },
  {
   "cell_type": "code",
   "execution_count": 34,
   "metadata": {},
   "outputs": [
    {
     "name": "stderr",
     "output_type": "stream",
     "text": [
      "INFO:sagemaker:Creating model with name: linear-learner-2023-09-20-01-02-44-833\n",
      "INFO:sagemaker:Creating endpoint-config with name linear-learner-2023-09-20-01-02-44-833\n",
      "INFO:sagemaker:Creating endpoint with name linear-learner-2023-09-20-01-02-44-833\n"
     ]
    },
    {
     "name": "stdout",
     "output_type": "stream",
     "text": [
      "------------!"
     ]
    }
   ],
   "source": [
    "# Deploying the model to perform inference \n",
    "\n",
    "# Content type overrides the data that will be passed to the deployed model, since the deployed model expects data in text/csv format.\n",
    "# Serializer accepts a single argument, the input data, and returns a sequence of bytes in the specified content type\n",
    "# Deserializer accepts two arguments, the result data and the response content type, and return a sequence of bytes in the specified content type.\n",
    "\n",
    "from sagemaker.deserializers import JSONDeserializer\n",
    "from sagemaker.serializers import CSVSerializer\n",
    "\n",
    "\n",
    "linear_regressor = linear.deploy(initial_instance_count = 1,\n",
    "                                 instance_type = 'ml.m4.xlarge',\n",
    "                                 serializer=CSVSerializer(),\n",
    "                                 deserializer=JSONDeserializer())"
   ]
  },
  {
   "cell_type": "code",
   "execution_count": 35,
   "metadata": {},
   "outputs": [],
   "source": [
    "# making prediction on the test data\n",
    "\n",
    "result = linear_regressor.predict(X_test)"
   ]
  },
  {
   "cell_type": "code",
   "execution_count": 36,
   "metadata": {},
   "outputs": [
    {
     "data": {
      "text/plain": [
       "{'predictions': [{'score': 2126.13134765625},\n",
       "  {'score': 2550.06787109375},\n",
       "  {'score': 2435.325439453125},\n",
       "  {'score': 2108.84765625},\n",
       "  {'score': 2428.021484375},\n",
       "  {'score': 2697.2978515625},\n",
       "  {'score': 2211.5830078125},\n",
       "  {'score': 2286.111083984375},\n",
       "  {'score': 2528.982177734375},\n",
       "  {'score': 2390.935302734375},\n",
       "  {'score': 2068.31884765625},\n",
       "  {'score': 2314.10009765625},\n",
       "  {'score': 2425.904296875},\n",
       "  {'score': 1966.48388671875},\n",
       "  {'score': 2408.206298828125},\n",
       "  {'score': 2518.120361328125},\n",
       "  {'score': 2537.08349609375},\n",
       "  {'score': 2405.125},\n",
       "  {'score': 2148.0361328125},\n",
       "  {'score': 2533.74365234375},\n",
       "  {'score': 2124.16357421875},\n",
       "  {'score': 2332.2001953125},\n",
       "  {'score': 2536.669677734375},\n",
       "  {'score': 2432.58642578125},\n",
       "  {'score': 2178.431640625},\n",
       "  {'score': 2480.91259765625},\n",
       "  {'score': 2283.654052734375},\n",
       "  {'score': 2408.903076171875},\n",
       "  {'score': 2330.151123046875},\n",
       "  {'score': 2195.69189453125},\n",
       "  {'score': 2032.510498046875},\n",
       "  {'score': 2257.86279296875},\n",
       "  {'score': 2277.15966796875},\n",
       "  {'score': 2107.71728515625},\n",
       "  {'score': 2258.13427734375},\n",
       "  {'score': 2075.611328125},\n",
       "  {'score': 1877.4647216796875},\n",
       "  {'score': 2471.974365234375},\n",
       "  {'score': 2230.784423828125},\n",
       "  {'score': 1824.47705078125},\n",
       "  {'score': 2347.64990234375},\n",
       "  {'score': 2371.84423828125},\n",
       "  {'score': 2314.302978515625},\n",
       "  {'score': 2440.080078125},\n",
       "  {'score': 2181.72412109375},\n",
       "  {'score': 2129.84033203125},\n",
       "  {'score': 2271.9814453125},\n",
       "  {'score': 2338.00537109375},\n",
       "  {'score': 2362.66552734375},\n",
       "  {'score': 2462.797607421875},\n",
       "  {'score': 1941.2110595703125},\n",
       "  {'score': 2467.388671875},\n",
       "  {'score': 2476.958984375},\n",
       "  {'score': 2198.65087890625},\n",
       "  {'score': 2181.402099609375},\n",
       "  {'score': 2440.0654296875},\n",
       "  {'score': 2131.74462890625},\n",
       "  {'score': 2387.484375},\n",
       "  {'score': 2412.78955078125},\n",
       "  {'score': 2402.69091796875},\n",
       "  {'score': 1982.0289306640625},\n",
       "  {'score': 2606.84326171875},\n",
       "  {'score': 2848.684326171875},\n",
       "  {'score': 2490.57568359375},\n",
       "  {'score': 2179.829345703125},\n",
       "  {'score': 2285.515625},\n",
       "  {'score': 2161.93359375},\n",
       "  {'score': 2143.165283203125},\n",
       "  {'score': 2480.061279296875},\n",
       "  {'score': 2089.47705078125},\n",
       "  {'score': 2179.311767578125},\n",
       "  {'score': 2624.162109375},\n",
       "  {'score': 2532.214111328125},\n",
       "  {'score': 2195.662109375},\n",
       "  {'score': 2109.113037109375},\n",
       "  {'score': 2254.8876953125},\n",
       "  {'score': 2169.05615234375},\n",
       "  {'score': 2302.630859375},\n",
       "  {'score': 2394.137451171875},\n",
       "  {'score': 2148.529052734375},\n",
       "  {'score': 2170.17529296875},\n",
       "  {'score': 2244.205322265625},\n",
       "  {'score': 2317.840087890625},\n",
       "  {'score': 2241.875244140625},\n",
       "  {'score': 2117.673583984375},\n",
       "  {'score': 2251.563720703125},\n",
       "  {'score': 1946.6326904296875},\n",
       "  {'score': 2475.4482421875},\n",
       "  {'score': 2444.09912109375},\n",
       "  {'score': 2410.8623046875},\n",
       "  {'score': 2383.091064453125},\n",
       "  {'score': 2499.749267578125},\n",
       "  {'score': 2495.100341796875},\n",
       "  {'score': 2380.61669921875},\n",
       "  {'score': 1937.212646484375},\n",
       "  {'score': 2280.138671875},\n",
       "  {'score': 2461.572998046875},\n",
       "  {'score': 2225.78564453125},\n",
       "  {'score': 2409.248046875},\n",
       "  {'score': 2277.68505859375},\n",
       "  {'score': 2285.244873046875},\n",
       "  {'score': 2216.05078125},\n",
       "  {'score': 2319.690185546875},\n",
       "  {'score': 2332.372314453125},\n",
       "  {'score': 2364.223388671875},\n",
       "  {'score': 2400.830322265625},\n",
       "  {'score': 2495.7197265625},\n",
       "  {'score': 2177.0869140625},\n",
       "  {'score': 2277.62158203125},\n",
       "  {'score': 2028.5684814453125},\n",
       "  {'score': 2162.058349609375},\n",
       "  {'score': 2331.62939453125},\n",
       "  {'score': 2215.886962890625},\n",
       "  {'score': 2605.86083984375},\n",
       "  {'score': 2137.4814453125},\n",
       "  {'score': 2513.72509765625},\n",
       "  {'score': 2196.144287109375},\n",
       "  {'score': 2231.49951171875},\n",
       "  {'score': 1968.005615234375},\n",
       "  {'score': 2111.88720703125},\n",
       "  {'score': 1962.509033203125},\n",
       "  {'score': 2406.015869140625},\n",
       "  {'score': 2307.1728515625},\n",
       "  {'score': 2042.9287109375},\n",
       "  {'score': 1912.6507568359375},\n",
       "  {'score': 2237.018310546875},\n",
       "  {'score': 2153.50341796875},\n",
       "  {'score': 2291.32275390625},\n",
       "  {'score': 2243.765869140625},\n",
       "  {'score': 2274.0888671875},\n",
       "  {'score': 2151.22509765625},\n",
       "  {'score': 2706.97900390625},\n",
       "  {'score': 2294.521240234375},\n",
       "  {'score': 2187.575439453125},\n",
       "  {'score': 2501.41015625},\n",
       "  {'score': 2425.28515625},\n",
       "  {'score': 2486.356201171875},\n",
       "  {'score': 2263.09716796875},\n",
       "  {'score': 2351.152099609375},\n",
       "  {'score': 2212.097900390625},\n",
       "  {'score': 2449.950927734375},\n",
       "  {'score': 2614.517822265625},\n",
       "  {'score': 2264.099365234375},\n",
       "  {'score': 2636.24365234375},\n",
       "  {'score': 2492.50439453125},\n",
       "  {'score': 2035.7506103515625},\n",
       "  {'score': 2365.246826171875},\n",
       "  {'score': 2330.3701171875},\n",
       "  {'score': 2016.11083984375},\n",
       "  {'score': 2562.1484375},\n",
       "  {'score': 2662.13916015625},\n",
       "  {'score': 2183.054443359375},\n",
       "  {'score': 2376.8232421875},\n",
       "  {'score': 2447.77783203125},\n",
       "  {'score': 2517.2763671875},\n",
       "  {'score': 2280.923095703125},\n",
       "  {'score': 2301.870361328125},\n",
       "  {'score': 2244.938720703125},\n",
       "  {'score': 2466.805908203125},\n",
       "  {'score': 2346.05419921875},\n",
       "  {'score': 2258.9873046875},\n",
       "  {'score': 2424.49658203125},\n",
       "  {'score': 2402.2060546875},\n",
       "  {'score': 2038.850341796875},\n",
       "  {'score': 2322.661865234375},\n",
       "  {'score': 2572.74853515625},\n",
       "  {'score': 1882.33056640625},\n",
       "  {'score': 2158.97998046875},\n",
       "  {'score': 2498.4140625},\n",
       "  {'score': 2355.59033203125},\n",
       "  {'score': 2454.38720703125},\n",
       "  {'score': 2113.893310546875},\n",
       "  {'score': 2139.93701171875},\n",
       "  {'score': 2316.070068359375},\n",
       "  {'score': 2388.34033203125},\n",
       "  {'score': 2257.73681640625},\n",
       "  {'score': 2352.17724609375},\n",
       "  {'score': 2365.583984375},\n",
       "  {'score': 2558.61181640625},\n",
       "  {'score': 2277.4365234375},\n",
       "  {'score': 2439.87158203125},\n",
       "  {'score': 2393.5849609375},\n",
       "  {'score': 2331.8916015625},\n",
       "  {'score': 2398.1337890625},\n",
       "  {'score': 2397.025390625},\n",
       "  {'score': 2593.248291015625},\n",
       "  {'score': 2216.92041015625},\n",
       "  {'score': 2487.45947265625},\n",
       "  {'score': 2472.722412109375},\n",
       "  {'score': 2225.63525390625},\n",
       "  {'score': 2399.18310546875},\n",
       "  {'score': 1977.688720703125},\n",
       "  {'score': 1817.500244140625},\n",
       "  {'score': 2007.10009765625},\n",
       "  {'score': 2371.1376953125},\n",
       "  {'score': 2254.90185546875},\n",
       "  {'score': 2456.408935546875},\n",
       "  {'score': 2304.46533203125},\n",
       "  {'score': 2057.5517578125},\n",
       "  {'score': 2227.38134765625}]}"
      ]
     },
     "execution_count": 36,
     "metadata": {},
     "output_type": "execute_result"
    }
   ],
   "source": [
    "result # results are in Json format"
   ]
  },
  {
   "cell_type": "code",
   "execution_count": 37,
   "metadata": {},
   "outputs": [],
   "source": [
    "# Since the result is in json format, we access the scores by iterating through the scores in the predictions\n",
    "\n",
    "predictions = np.array([r['score'] for r in result['predictions']])"
   ]
  },
  {
   "cell_type": "code",
   "execution_count": 38,
   "metadata": {},
   "outputs": [
    {
     "data": {
      "text/plain": [
       "array([2126.13134766, 2550.06787109, 2435.32543945, 2108.84765625,\n",
       "       2428.02148438, 2697.29785156, 2211.58300781, 2286.11108398,\n",
       "       2528.98217773, 2390.93530273, 2068.31884766, 2314.10009766,\n",
       "       2425.90429688, 1966.48388672, 2408.20629883, 2518.12036133,\n",
       "       2537.08349609, 2405.125     , 2148.03613281, 2533.74365234,\n",
       "       2124.16357422, 2332.20019531, 2536.66967773, 2432.58642578,\n",
       "       2178.43164062, 2480.91259766, 2283.65405273, 2408.90307617,\n",
       "       2330.15112305, 2195.69189453, 2032.51049805, 2257.86279297,\n",
       "       2277.15966797, 2107.71728516, 2258.13427734, 2075.61132812,\n",
       "       1877.46472168, 2471.97436523, 2230.78442383, 1824.47705078,\n",
       "       2347.64990234, 2371.84423828, 2314.30297852, 2440.08007812,\n",
       "       2181.72412109, 2129.84033203, 2271.98144531, 2338.00537109,\n",
       "       2362.66552734, 2462.79760742, 1941.21105957, 2467.38867188,\n",
       "       2476.95898438, 2198.65087891, 2181.40209961, 2440.06542969,\n",
       "       2131.74462891, 2387.484375  , 2412.78955078, 2402.69091797,\n",
       "       1982.02893066, 2606.84326172, 2848.68432617, 2490.57568359,\n",
       "       2179.8293457 , 2285.515625  , 2161.93359375, 2143.1652832 ,\n",
       "       2480.0612793 , 2089.47705078, 2179.31176758, 2624.16210938,\n",
       "       2532.21411133, 2195.66210938, 2109.11303711, 2254.88769531,\n",
       "       2169.05615234, 2302.63085938, 2394.13745117, 2148.52905273,\n",
       "       2170.17529297, 2244.20532227, 2317.84008789, 2241.87524414,\n",
       "       2117.67358398, 2251.5637207 , 1946.63269043, 2475.44824219,\n",
       "       2444.09912109, 2410.86230469, 2383.09106445, 2499.74926758,\n",
       "       2495.1003418 , 2380.61669922, 1937.21264648, 2280.13867188,\n",
       "       2461.57299805, 2225.78564453, 2409.24804688, 2277.68505859,\n",
       "       2285.24487305, 2216.05078125, 2319.69018555, 2332.37231445,\n",
       "       2364.22338867, 2400.83032227, 2495.71972656, 2177.08691406,\n",
       "       2277.62158203, 2028.56848145, 2162.05834961, 2331.62939453,\n",
       "       2215.88696289, 2605.86083984, 2137.48144531, 2513.72509766,\n",
       "       2196.14428711, 2231.49951172, 1968.00561523, 2111.88720703,\n",
       "       1962.5090332 , 2406.01586914, 2307.17285156, 2042.92871094,\n",
       "       1912.65075684, 2237.01831055, 2153.50341797, 2291.32275391,\n",
       "       2243.76586914, 2274.08886719, 2151.22509766, 2706.97900391,\n",
       "       2294.52124023, 2187.57543945, 2501.41015625, 2425.28515625,\n",
       "       2486.35620117, 2263.09716797, 2351.15209961, 2212.09790039,\n",
       "       2449.95092773, 2614.51782227, 2264.09936523, 2636.24365234,\n",
       "       2492.50439453, 2035.75061035, 2365.24682617, 2330.37011719,\n",
       "       2016.11083984, 2562.1484375 , 2662.13916016, 2183.05444336,\n",
       "       2376.82324219, 2447.77783203, 2517.27636719, 2280.9230957 ,\n",
       "       2301.87036133, 2244.9387207 , 2466.8059082 , 2346.05419922,\n",
       "       2258.98730469, 2424.49658203, 2402.20605469, 2038.8503418 ,\n",
       "       2322.66186523, 2572.74853516, 1882.33056641, 2158.97998047,\n",
       "       2498.4140625 , 2355.59033203, 2454.38720703, 2113.89331055,\n",
       "       2139.93701172, 2316.07006836, 2388.34033203, 2257.73681641,\n",
       "       2352.17724609, 2365.58398438, 2558.61181641, 2277.43652344,\n",
       "       2439.87158203, 2393.58496094, 2331.89160156, 2398.13378906,\n",
       "       2397.02539062, 2593.24829102, 2216.92041016, 2487.45947266,\n",
       "       2472.72241211, 2225.63525391, 2399.18310547, 1977.6887207 ,\n",
       "       1817.50024414, 2007.10009766, 2371.13769531, 2254.90185547,\n",
       "       2456.40893555, 2304.46533203, 2057.55175781, 2227.38134766])"
      ]
     },
     "execution_count": 38,
     "metadata": {},
     "output_type": "execute_result"
    }
   ],
   "source": [
    "predictions"
   ]
  },
  {
   "cell_type": "code",
   "execution_count": 39,
   "metadata": {},
   "outputs": [
    {
     "data": {
      "text/plain": [
       "(200,)"
      ]
     },
     "execution_count": 39,
     "metadata": {},
     "output_type": "execute_result"
    }
   ],
   "source": [
    "predictions.shape"
   ]
  },
  {
   "cell_type": "code",
   "execution_count": 40,
   "metadata": {},
   "outputs": [
    {
     "data": {
      "text/plain": [
       "(200,)"
      ]
     },
     "execution_count": 40,
     "metadata": {},
     "output_type": "execute_result"
    }
   ],
   "source": [
    "y_test.shape"
   ]
  },
  {
   "cell_type": "code",
   "execution_count": 41,
   "metadata": {},
   "outputs": [
    {
     "data": {
      "text/plain": [
       "<matplotlib.collections.PathCollection at 0x7f92b0ccc710>"
      ]
     },
     "execution_count": 41,
     "metadata": {},
     "output_type": "execute_result"
    }
   ],
   "source": [
    "# Visualize how accurate predictions are relative to y_test\n",
    "plt.figure(figsize = (12, 6))\n",
    "plt.scatter(y_test, predictions)"
   ]
  },
  {
   "cell_type": "code",
   "execution_count": 42,
   "metadata": {},
   "outputs": [
    {
     "name": "stderr",
     "output_type": "stream",
     "text": [
      "INFO:sagemaker:Deleting endpoint configuration with name: linear-learner-2023-09-20-01-02-44-833\n",
      "INFO:sagemaker:Deleting endpoint with name: linear-learner-2023-09-20-01-02-44-833\n"
     ]
    }
   ],
   "source": [
    "# Delete the end-point\n",
    "linear_regressor.delete_endpoint()"
   ]
  },
  {
   "cell_type": "markdown",
   "metadata": {},
   "source": [
    "# EXCELLENT JOB!"
   ]
  }
 ],
 "metadata": {
  "availableInstances": [
   {
    "_defaultOrder": 0,
    "_isFastLaunch": true,
    "category": "General purpose",
    "gpuNum": 0,
    "hideHardwareSpecs": false,
    "memoryGiB": 4,
    "name": "ml.t3.medium",
    "vcpuNum": 2
   },
   {
    "_defaultOrder": 1,
    "_isFastLaunch": false,
    "category": "General purpose",
    "gpuNum": 0,
    "hideHardwareSpecs": false,
    "memoryGiB": 8,
    "name": "ml.t3.large",
    "vcpuNum": 2
   },
   {
    "_defaultOrder": 2,
    "_isFastLaunch": false,
    "category": "General purpose",
    "gpuNum": 0,
    "hideHardwareSpecs": false,
    "memoryGiB": 16,
    "name": "ml.t3.xlarge",
    "vcpuNum": 4
   },
   {
    "_defaultOrder": 3,
    "_isFastLaunch": false,
    "category": "General purpose",
    "gpuNum": 0,
    "hideHardwareSpecs": false,
    "memoryGiB": 32,
    "name": "ml.t3.2xlarge",
    "vcpuNum": 8
   },
   {
    "_defaultOrder": 4,
    "_isFastLaunch": true,
    "category": "General purpose",
    "gpuNum": 0,
    "hideHardwareSpecs": false,
    "memoryGiB": 8,
    "name": "ml.m5.large",
    "vcpuNum": 2
   },
   {
    "_defaultOrder": 5,
    "_isFastLaunch": false,
    "category": "General purpose",
    "gpuNum": 0,
    "hideHardwareSpecs": false,
    "memoryGiB": 16,
    "name": "ml.m5.xlarge",
    "vcpuNum": 4
   },
   {
    "_defaultOrder": 6,
    "_isFastLaunch": false,
    "category": "General purpose",
    "gpuNum": 0,
    "hideHardwareSpecs": false,
    "memoryGiB": 32,
    "name": "ml.m5.2xlarge",
    "vcpuNum": 8
   },
   {
    "_defaultOrder": 7,
    "_isFastLaunch": false,
    "category": "General purpose",
    "gpuNum": 0,
    "hideHardwareSpecs": false,
    "memoryGiB": 64,
    "name": "ml.m5.4xlarge",
    "vcpuNum": 16
   },
   {
    "_defaultOrder": 8,
    "_isFastLaunch": false,
    "category": "General purpose",
    "gpuNum": 0,
    "hideHardwareSpecs": false,
    "memoryGiB": 128,
    "name": "ml.m5.8xlarge",
    "vcpuNum": 32
   },
   {
    "_defaultOrder": 9,
    "_isFastLaunch": false,
    "category": "General purpose",
    "gpuNum": 0,
    "hideHardwareSpecs": false,
    "memoryGiB": 192,
    "name": "ml.m5.12xlarge",
    "vcpuNum": 48
   },
   {
    "_defaultOrder": 10,
    "_isFastLaunch": false,
    "category": "General purpose",
    "gpuNum": 0,
    "hideHardwareSpecs": false,
    "memoryGiB": 256,
    "name": "ml.m5.16xlarge",
    "vcpuNum": 64
   },
   {
    "_defaultOrder": 11,
    "_isFastLaunch": false,
    "category": "General purpose",
    "gpuNum": 0,
    "hideHardwareSpecs": false,
    "memoryGiB": 384,
    "name": "ml.m5.24xlarge",
    "vcpuNum": 96
   },
   {
    "_defaultOrder": 12,
    "_isFastLaunch": false,
    "category": "General purpose",
    "gpuNum": 0,
    "hideHardwareSpecs": false,
    "memoryGiB": 8,
    "name": "ml.m5d.large",
    "vcpuNum": 2
   },
   {
    "_defaultOrder": 13,
    "_isFastLaunch": false,
    "category": "General purpose",
    "gpuNum": 0,
    "hideHardwareSpecs": false,
    "memoryGiB": 16,
    "name": "ml.m5d.xlarge",
    "vcpuNum": 4
   },
   {
    "_defaultOrder": 14,
    "_isFastLaunch": false,
    "category": "General purpose",
    "gpuNum": 0,
    "hideHardwareSpecs": false,
    "memoryGiB": 32,
    "name": "ml.m5d.2xlarge",
    "vcpuNum": 8
   },
   {
    "_defaultOrder": 15,
    "_isFastLaunch": false,
    "category": "General purpose",
    "gpuNum": 0,
    "hideHardwareSpecs": false,
    "memoryGiB": 64,
    "name": "ml.m5d.4xlarge",
    "vcpuNum": 16
   },
   {
    "_defaultOrder": 16,
    "_isFastLaunch": false,
    "category": "General purpose",
    "gpuNum": 0,
    "hideHardwareSpecs": false,
    "memoryGiB": 128,
    "name": "ml.m5d.8xlarge",
    "vcpuNum": 32
   },
   {
    "_defaultOrder": 17,
    "_isFastLaunch": false,
    "category": "General purpose",
    "gpuNum": 0,
    "hideHardwareSpecs": false,
    "memoryGiB": 192,
    "name": "ml.m5d.12xlarge",
    "vcpuNum": 48
   },
   {
    "_defaultOrder": 18,
    "_isFastLaunch": false,
    "category": "General purpose",
    "gpuNum": 0,
    "hideHardwareSpecs": false,
    "memoryGiB": 256,
    "name": "ml.m5d.16xlarge",
    "vcpuNum": 64
   },
   {
    "_defaultOrder": 19,
    "_isFastLaunch": false,
    "category": "General purpose",
    "gpuNum": 0,
    "hideHardwareSpecs": false,
    "memoryGiB": 384,
    "name": "ml.m5d.24xlarge",
    "vcpuNum": 96
   },
   {
    "_defaultOrder": 20,
    "_isFastLaunch": false,
    "category": "General purpose",
    "gpuNum": 0,
    "hideHardwareSpecs": true,
    "memoryGiB": 0,
    "name": "ml.geospatial.interactive",
    "supportedImageNames": [
     "sagemaker-geospatial-v1-0"
    ],
    "vcpuNum": 0
   },
   {
    "_defaultOrder": 21,
    "_isFastLaunch": true,
    "category": "Compute optimized",
    "gpuNum": 0,
    "hideHardwareSpecs": false,
    "memoryGiB": 4,
    "name": "ml.c5.large",
    "vcpuNum": 2
   },
   {
    "_defaultOrder": 22,
    "_isFastLaunch": false,
    "category": "Compute optimized",
    "gpuNum": 0,
    "hideHardwareSpecs": false,
    "memoryGiB": 8,
    "name": "ml.c5.xlarge",
    "vcpuNum": 4
   },
   {
    "_defaultOrder": 23,
    "_isFastLaunch": false,
    "category": "Compute optimized",
    "gpuNum": 0,
    "hideHardwareSpecs": false,
    "memoryGiB": 16,
    "name": "ml.c5.2xlarge",
    "vcpuNum": 8
   },
   {
    "_defaultOrder": 24,
    "_isFastLaunch": false,
    "category": "Compute optimized",
    "gpuNum": 0,
    "hideHardwareSpecs": false,
    "memoryGiB": 32,
    "name": "ml.c5.4xlarge",
    "vcpuNum": 16
   },
   {
    "_defaultOrder": 25,
    "_isFastLaunch": false,
    "category": "Compute optimized",
    "gpuNum": 0,
    "hideHardwareSpecs": false,
    "memoryGiB": 72,
    "name": "ml.c5.9xlarge",
    "vcpuNum": 36
   },
   {
    "_defaultOrder": 26,
    "_isFastLaunch": false,
    "category": "Compute optimized",
    "gpuNum": 0,
    "hideHardwareSpecs": false,
    "memoryGiB": 96,
    "name": "ml.c5.12xlarge",
    "vcpuNum": 48
   },
   {
    "_defaultOrder": 27,
    "_isFastLaunch": false,
    "category": "Compute optimized",
    "gpuNum": 0,
    "hideHardwareSpecs": false,
    "memoryGiB": 144,
    "name": "ml.c5.18xlarge",
    "vcpuNum": 72
   },
   {
    "_defaultOrder": 28,
    "_isFastLaunch": false,
    "category": "Compute optimized",
    "gpuNum": 0,
    "hideHardwareSpecs": false,
    "memoryGiB": 192,
    "name": "ml.c5.24xlarge",
    "vcpuNum": 96
   },
   {
    "_defaultOrder": 29,
    "_isFastLaunch": true,
    "category": "Accelerated computing",
    "gpuNum": 1,
    "hideHardwareSpecs": false,
    "memoryGiB": 16,
    "name": "ml.g4dn.xlarge",
    "vcpuNum": 4
   },
   {
    "_defaultOrder": 30,
    "_isFastLaunch": false,
    "category": "Accelerated computing",
    "gpuNum": 1,
    "hideHardwareSpecs": false,
    "memoryGiB": 32,
    "name": "ml.g4dn.2xlarge",
    "vcpuNum": 8
   },
   {
    "_defaultOrder": 31,
    "_isFastLaunch": false,
    "category": "Accelerated computing",
    "gpuNum": 1,
    "hideHardwareSpecs": false,
    "memoryGiB": 64,
    "name": "ml.g4dn.4xlarge",
    "vcpuNum": 16
   },
   {
    "_defaultOrder": 32,
    "_isFastLaunch": false,
    "category": "Accelerated computing",
    "gpuNum": 1,
    "hideHardwareSpecs": false,
    "memoryGiB": 128,
    "name": "ml.g4dn.8xlarge",
    "vcpuNum": 32
   },
   {
    "_defaultOrder": 33,
    "_isFastLaunch": false,
    "category": "Accelerated computing",
    "gpuNum": 4,
    "hideHardwareSpecs": false,
    "memoryGiB": 192,
    "name": "ml.g4dn.12xlarge",
    "vcpuNum": 48
   },
   {
    "_defaultOrder": 34,
    "_isFastLaunch": false,
    "category": "Accelerated computing",
    "gpuNum": 1,
    "hideHardwareSpecs": false,
    "memoryGiB": 256,
    "name": "ml.g4dn.16xlarge",
    "vcpuNum": 64
   },
   {
    "_defaultOrder": 35,
    "_isFastLaunch": false,
    "category": "Accelerated computing",
    "gpuNum": 1,
    "hideHardwareSpecs": false,
    "memoryGiB": 61,
    "name": "ml.p3.2xlarge",
    "vcpuNum": 8
   },
   {
    "_defaultOrder": 36,
    "_isFastLaunch": false,
    "category": "Accelerated computing",
    "gpuNum": 4,
    "hideHardwareSpecs": false,
    "memoryGiB": 244,
    "name": "ml.p3.8xlarge",
    "vcpuNum": 32
   },
   {
    "_defaultOrder": 37,
    "_isFastLaunch": false,
    "category": "Accelerated computing",
    "gpuNum": 8,
    "hideHardwareSpecs": false,
    "memoryGiB": 488,
    "name": "ml.p3.16xlarge",
    "vcpuNum": 64
   },
   {
    "_defaultOrder": 38,
    "_isFastLaunch": false,
    "category": "Accelerated computing",
    "gpuNum": 8,
    "hideHardwareSpecs": false,
    "memoryGiB": 768,
    "name": "ml.p3dn.24xlarge",
    "vcpuNum": 96
   },
   {
    "_defaultOrder": 39,
    "_isFastLaunch": false,
    "category": "Memory Optimized",
    "gpuNum": 0,
    "hideHardwareSpecs": false,
    "memoryGiB": 16,
    "name": "ml.r5.large",
    "vcpuNum": 2
   },
   {
    "_defaultOrder": 40,
    "_isFastLaunch": false,
    "category": "Memory Optimized",
    "gpuNum": 0,
    "hideHardwareSpecs": false,
    "memoryGiB": 32,
    "name": "ml.r5.xlarge",
    "vcpuNum": 4
   },
   {
    "_defaultOrder": 41,
    "_isFastLaunch": false,
    "category": "Memory Optimized",
    "gpuNum": 0,
    "hideHardwareSpecs": false,
    "memoryGiB": 64,
    "name": "ml.r5.2xlarge",
    "vcpuNum": 8
   },
   {
    "_defaultOrder": 42,
    "_isFastLaunch": false,
    "category": "Memory Optimized",
    "gpuNum": 0,
    "hideHardwareSpecs": false,
    "memoryGiB": 128,
    "name": "ml.r5.4xlarge",
    "vcpuNum": 16
   },
   {
    "_defaultOrder": 43,
    "_isFastLaunch": false,
    "category": "Memory Optimized",
    "gpuNum": 0,
    "hideHardwareSpecs": false,
    "memoryGiB": 256,
    "name": "ml.r5.8xlarge",
    "vcpuNum": 32
   },
   {
    "_defaultOrder": 44,
    "_isFastLaunch": false,
    "category": "Memory Optimized",
    "gpuNum": 0,
    "hideHardwareSpecs": false,
    "memoryGiB": 384,
    "name": "ml.r5.12xlarge",
    "vcpuNum": 48
   },
   {
    "_defaultOrder": 45,
    "_isFastLaunch": false,
    "category": "Memory Optimized",
    "gpuNum": 0,
    "hideHardwareSpecs": false,
    "memoryGiB": 512,
    "name": "ml.r5.16xlarge",
    "vcpuNum": 64
   },
   {
    "_defaultOrder": 46,
    "_isFastLaunch": false,
    "category": "Memory Optimized",
    "gpuNum": 0,
    "hideHardwareSpecs": false,
    "memoryGiB": 768,
    "name": "ml.r5.24xlarge",
    "vcpuNum": 96
   },
   {
    "_defaultOrder": 47,
    "_isFastLaunch": false,
    "category": "Accelerated computing",
    "gpuNum": 1,
    "hideHardwareSpecs": false,
    "memoryGiB": 16,
    "name": "ml.g5.xlarge",
    "vcpuNum": 4
   },
   {
    "_defaultOrder": 48,
    "_isFastLaunch": false,
    "category": "Accelerated computing",
    "gpuNum": 1,
    "hideHardwareSpecs": false,
    "memoryGiB": 32,
    "name": "ml.g5.2xlarge",
    "vcpuNum": 8
   },
   {
    "_defaultOrder": 49,
    "_isFastLaunch": false,
    "category": "Accelerated computing",
    "gpuNum": 1,
    "hideHardwareSpecs": false,
    "memoryGiB": 64,
    "name": "ml.g5.4xlarge",
    "vcpuNum": 16
   },
   {
    "_defaultOrder": 50,
    "_isFastLaunch": false,
    "category": "Accelerated computing",
    "gpuNum": 1,
    "hideHardwareSpecs": false,
    "memoryGiB": 128,
    "name": "ml.g5.8xlarge",
    "vcpuNum": 32
   },
   {
    "_defaultOrder": 51,
    "_isFastLaunch": false,
    "category": "Accelerated computing",
    "gpuNum": 1,
    "hideHardwareSpecs": false,
    "memoryGiB": 256,
    "name": "ml.g5.16xlarge",
    "vcpuNum": 64
   },
   {
    "_defaultOrder": 52,
    "_isFastLaunch": false,
    "category": "Accelerated computing",
    "gpuNum": 4,
    "hideHardwareSpecs": false,
    "memoryGiB": 192,
    "name": "ml.g5.12xlarge",
    "vcpuNum": 48
   },
   {
    "_defaultOrder": 53,
    "_isFastLaunch": false,
    "category": "Accelerated computing",
    "gpuNum": 4,
    "hideHardwareSpecs": false,
    "memoryGiB": 384,
    "name": "ml.g5.24xlarge",
    "vcpuNum": 96
   },
   {
    "_defaultOrder": 54,
    "_isFastLaunch": false,
    "category": "Accelerated computing",
    "gpuNum": 8,
    "hideHardwareSpecs": false,
    "memoryGiB": 768,
    "name": "ml.g5.48xlarge",
    "vcpuNum": 192
   },
   {
    "_defaultOrder": 55,
    "_isFastLaunch": false,
    "category": "Accelerated computing",
    "gpuNum": 8,
    "hideHardwareSpecs": false,
    "memoryGiB": 1152,
    "name": "ml.p4d.24xlarge",
    "vcpuNum": 96
   },
   {
    "_defaultOrder": 56,
    "_isFastLaunch": false,
    "category": "Accelerated computing",
    "gpuNum": 8,
    "hideHardwareSpecs": false,
    "memoryGiB": 1152,
    "name": "ml.p4de.24xlarge",
    "vcpuNum": 96
   }
  ],
  "colab": {
   "collapsed_sections": [],
   "name": "Graduate_Admission_Prediction.ipynb",
   "provenance": [],
   "toc_visible": true
  },
  "instance_type": "ml.t3.medium",
  "kernelspec": {
   "display_name": "Python 3 (Data Science)",
   "language": "python",
   "name": "python3__SAGEMAKER_INTERNAL__arn:aws:sagemaker:us-east-1:081325390199:image/datascience-1.0"
  },
  "language_info": {
   "codemirror_mode": {
    "name": "ipython",
    "version": 3
   },
   "file_extension": ".py",
   "mimetype": "text/x-python",
   "name": "python",
   "nbconvert_exporter": "python",
   "pygments_lexer": "ipython3",
   "version": "3.7.10"
  }
 },
 "nbformat": 4,
 "nbformat_minor": 4
}
